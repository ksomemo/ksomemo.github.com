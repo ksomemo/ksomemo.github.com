{
 "cells": [
  {
   "cell_type": "markdown",
   "metadata": {
    "hide_input": true
   },
   "source": [
    "# PyDataML\n",
    "## PyData Tokyo tutorial Machine Learning\n",
    "- https://github.com/PyDataTokyo/pydata-tokyo-tutorial-1\n",
    "- https://pydata.tokyo/ipynb/tutorial-1/ml.html\n",
    "- https://github.com/PyDataTokyo/pydata-tokyo-tutorial-1/blob/master/pydatatokyo_tutorial_dh.ipynb\n",
    "- https://github.com/PyDataTokyo/pydata-tokyo-tutorial-1/blob/master/pydatatokyo_tutorial_ml.ipynb"
   ]
  },
  {
   "cell_type": "markdown",
   "metadata": {},
   "source": [
    "## Data\n",
    "https://www.kaggle.com/c/titanic-gettingStarted/data"
   ]
  },
  {
   "cell_type": "markdown",
   "metadata": {
    "ExecuteTime": {
     "end_time": "2016-03-30T03:16:41.799134",
     "start_time": "2016-03-30T03:16:41.788021"
    }
   },
   "source": [
    "## アジェンダ\n",
    "- バックグラウンド\n",
    "- ライブラリのインポートとデータの準備\n",
    "- ジェンダーモデルによる生存者推定、推定値の評価\n",
    "- ロジスティック回帰による生存者推定\n",
    "- 交差検証（クロスバリデーション）\n",
    "- 決定木（Decision Tree）による生存者推定\n",
    "- グリッドサーチ"
   ]
  },
  {
   "cell_type": "code",
   "execution_count": 1,
   "metadata": {
    "ExecuteTime": {
     "end_time": "2016-04-07T22:36:26.724106",
     "start_time": "2016-04-07T22:36:23.938857"
    },
    "collapsed": true,
    "hide_input": false
   },
   "outputs": [],
   "source": [
    "import numpy as np\n",
    "import pandas as pd\n",
    "import matplotlib.pyplot as plt\n",
    "import seaborn as sns\n",
    "\n",
    "%matplotlib inline"
   ]
  },
  {
   "cell_type": "code",
   "execution_count": 2,
   "metadata": {
    "ExecuteTime": {
     "end_time": "2016-04-07T22:36:27.047090",
     "start_time": "2016-04-07T22:36:26.726633"
    },
    "collapsed": true
   },
   "outputs": [],
   "source": [
    "\n",
    "from sklearn.metrics import (\n",
    "    accuracy_score, \n",
    "    classification_report, \n",
    "    confusion_matrix\n",
    ")\n",
    "from sklearn.cross_validation import (\n",
    "    train_test_split, \n",
    "    cross_val_score, \n",
    "    KFold\n",
    ")\n",
    "from sklearn.preprocessing import LabelEncoder\n",
    "from sklearn.linear_model import LogisticRegression\n",
    "from sklearn.svm import SVC\n",
    "from sklearn.tree import (\n",
    "    DecisionTreeClassifier, \n",
    "    export_graphviz\n",
    ")\n",
    "from sklearn.grid_search import GridSearchCV\n",
    "\n",
    "from matplotlib.colors import ListedColormap\n",
    "from IPython.display import Image\n"
   ]
  },
  {
   "cell_type": "code",
   "execution_count": 439,
   "metadata": {
    "collapsed": false
   },
   "outputs": [],
   "source": [
    "def estimated_params(estimator):\n",
    "    return [a for a in dir(estimator) if a.endswith(\"_\") and not a.startswith(\"_\")]"
   ]
  },
  {
   "cell_type": "code",
   "execution_count": 3,
   "metadata": {
    "ExecuteTime": {
     "end_time": "2016-04-07T22:36:27.079421",
     "start_time": "2016-04-07T22:36:27.049949"
    },
    "collapsed": false
   },
   "outputs": [],
   "source": [
    "df_train = pd.read_csv('titanic/train.csv')\n",
    "df_test = pd.read_csv('titanic/test.csv')"
   ]
  },
  {
   "cell_type": "code",
   "execution_count": 4,
   "metadata": {
    "ExecuteTime": {
     "end_time": "2016-04-07T22:36:27.114717",
     "start_time": "2016-04-07T22:36:27.081651"
    },
    "collapsed": false
   },
   "outputs": [
    {
     "data": {
      "text/html": [
       "<div>\n",
       "<table border=\"1\" class=\"dataframe\">\n",
       "  <thead>\n",
       "    <tr style=\"text-align: right;\">\n",
       "      <th></th>\n",
       "      <th>PassengerId</th>\n",
       "      <th>Survived</th>\n",
       "      <th>Pclass</th>\n",
       "      <th>Name</th>\n",
       "      <th>Sex</th>\n",
       "      <th>Age</th>\n",
       "      <th>SibSp</th>\n",
       "      <th>Parch</th>\n",
       "      <th>Ticket</th>\n",
       "      <th>Fare</th>\n",
       "      <th>Cabin</th>\n",
       "      <th>Embarked</th>\n",
       "    </tr>\n",
       "  </thead>\n",
       "  <tbody>\n",
       "    <tr>\n",
       "      <th>890</th>\n",
       "      <td>891</td>\n",
       "      <td>0</td>\n",
       "      <td>3</td>\n",
       "      <td>Dooley, Mr. Patrick</td>\n",
       "      <td>male</td>\n",
       "      <td>32.0</td>\n",
       "      <td>0</td>\n",
       "      <td>0</td>\n",
       "      <td>370376</td>\n",
       "      <td>7.75</td>\n",
       "      <td>NaN</td>\n",
       "      <td>Q</td>\n",
       "    </tr>\n",
       "  </tbody>\n",
       "</table>\n",
       "</div>"
      ],
      "text/plain": [
       "     PassengerId  Survived  Pclass                 Name   Sex   Age  SibSp  \\\n",
       "890          891         0       3  Dooley, Mr. Patrick  male  32.0      0   \n",
       "\n",
       "     Parch  Ticket  Fare Cabin Embarked  \n",
       "890      0  370376  7.75   NaN        Q  "
      ]
     },
     "execution_count": 4,
     "metadata": {},
     "output_type": "execute_result"
    }
   ],
   "source": [
    "df_train.tail(1)"
   ]
  },
  {
   "cell_type": "code",
   "execution_count": 5,
   "metadata": {
    "ExecuteTime": {
     "end_time": "2016-04-07T22:36:27.532828",
     "start_time": "2016-04-07T22:36:27.117163"
    },
    "collapsed": false,
    "scrolled": false
   },
   "outputs": [
    {
     "data": {
      "text/html": [
       "<div>\n",
       "<table border=\"1\" class=\"dataframe\">\n",
       "  <thead>\n",
       "    <tr style=\"text-align: right;\">\n",
       "      <th></th>\n",
       "      <th>PassengerId</th>\n",
       "      <th>Survived</th>\n",
       "      <th>Pclass</th>\n",
       "      <th>Name</th>\n",
       "      <th>Sex</th>\n",
       "      <th>Age</th>\n",
       "      <th>SibSp</th>\n",
       "      <th>Parch</th>\n",
       "      <th>Ticket</th>\n",
       "      <th>Fare</th>\n",
       "      <th>Cabin</th>\n",
       "      <th>Embarked</th>\n",
       "    </tr>\n",
       "  </thead>\n",
       "  <tbody>\n",
       "    <tr>\n",
       "      <th>count</th>\n",
       "      <td>891.000000</td>\n",
       "      <td>891.000000</td>\n",
       "      <td>891.000000</td>\n",
       "      <td>891</td>\n",
       "      <td>891</td>\n",
       "      <td>714.000000</td>\n",
       "      <td>891.000000</td>\n",
       "      <td>891.000000</td>\n",
       "      <td>891</td>\n",
       "      <td>891.000000</td>\n",
       "      <td>204</td>\n",
       "      <td>889</td>\n",
       "    </tr>\n",
       "    <tr>\n",
       "      <th>unique</th>\n",
       "      <td>NaN</td>\n",
       "      <td>NaN</td>\n",
       "      <td>NaN</td>\n",
       "      <td>891</td>\n",
       "      <td>2</td>\n",
       "      <td>NaN</td>\n",
       "      <td>NaN</td>\n",
       "      <td>NaN</td>\n",
       "      <td>681</td>\n",
       "      <td>NaN</td>\n",
       "      <td>147</td>\n",
       "      <td>3</td>\n",
       "    </tr>\n",
       "    <tr>\n",
       "      <th>top</th>\n",
       "      <td>NaN</td>\n",
       "      <td>NaN</td>\n",
       "      <td>NaN</td>\n",
       "      <td>Kilgannon, Mr. Thomas J</td>\n",
       "      <td>male</td>\n",
       "      <td>NaN</td>\n",
       "      <td>NaN</td>\n",
       "      <td>NaN</td>\n",
       "      <td>CA. 2343</td>\n",
       "      <td>NaN</td>\n",
       "      <td>C23 C25 C27</td>\n",
       "      <td>S</td>\n",
       "    </tr>\n",
       "    <tr>\n",
       "      <th>freq</th>\n",
       "      <td>NaN</td>\n",
       "      <td>NaN</td>\n",
       "      <td>NaN</td>\n",
       "      <td>1</td>\n",
       "      <td>577</td>\n",
       "      <td>NaN</td>\n",
       "      <td>NaN</td>\n",
       "      <td>NaN</td>\n",
       "      <td>7</td>\n",
       "      <td>NaN</td>\n",
       "      <td>4</td>\n",
       "      <td>644</td>\n",
       "    </tr>\n",
       "    <tr>\n",
       "      <th>mean</th>\n",
       "      <td>446.000000</td>\n",
       "      <td>0.383838</td>\n",
       "      <td>2.308642</td>\n",
       "      <td>NaN</td>\n",
       "      <td>NaN</td>\n",
       "      <td>29.699118</td>\n",
       "      <td>0.523008</td>\n",
       "      <td>0.381594</td>\n",
       "      <td>NaN</td>\n",
       "      <td>32.204208</td>\n",
       "      <td>NaN</td>\n",
       "      <td>NaN</td>\n",
       "    </tr>\n",
       "    <tr>\n",
       "      <th>std</th>\n",
       "      <td>257.353842</td>\n",
       "      <td>0.486592</td>\n",
       "      <td>0.836071</td>\n",
       "      <td>NaN</td>\n",
       "      <td>NaN</td>\n",
       "      <td>14.526497</td>\n",
       "      <td>1.102743</td>\n",
       "      <td>0.806057</td>\n",
       "      <td>NaN</td>\n",
       "      <td>49.693429</td>\n",
       "      <td>NaN</td>\n",
       "      <td>NaN</td>\n",
       "    </tr>\n",
       "    <tr>\n",
       "      <th>min</th>\n",
       "      <td>1.000000</td>\n",
       "      <td>0.000000</td>\n",
       "      <td>1.000000</td>\n",
       "      <td>NaN</td>\n",
       "      <td>NaN</td>\n",
       "      <td>0.420000</td>\n",
       "      <td>0.000000</td>\n",
       "      <td>0.000000</td>\n",
       "      <td>NaN</td>\n",
       "      <td>0.000000</td>\n",
       "      <td>NaN</td>\n",
       "      <td>NaN</td>\n",
       "    </tr>\n",
       "    <tr>\n",
       "      <th>5%</th>\n",
       "      <td>45.500000</td>\n",
       "      <td>0.000000</td>\n",
       "      <td>1.000000</td>\n",
       "      <td>NaN</td>\n",
       "      <td>NaN</td>\n",
       "      <td>4.000000</td>\n",
       "      <td>0.000000</td>\n",
       "      <td>0.000000</td>\n",
       "      <td>NaN</td>\n",
       "      <td>7.225000</td>\n",
       "      <td>NaN</td>\n",
       "      <td>NaN</td>\n",
       "    </tr>\n",
       "    <tr>\n",
       "      <th>10%</th>\n",
       "      <td>90.000000</td>\n",
       "      <td>0.000000</td>\n",
       "      <td>1.000000</td>\n",
       "      <td>NaN</td>\n",
       "      <td>NaN</td>\n",
       "      <td>14.000000</td>\n",
       "      <td>0.000000</td>\n",
       "      <td>0.000000</td>\n",
       "      <td>NaN</td>\n",
       "      <td>7.550000</td>\n",
       "      <td>NaN</td>\n",
       "      <td>NaN</td>\n",
       "    </tr>\n",
       "    <tr>\n",
       "      <th>20%</th>\n",
       "      <td>179.000000</td>\n",
       "      <td>0.000000</td>\n",
       "      <td>1.000000</td>\n",
       "      <td>NaN</td>\n",
       "      <td>NaN</td>\n",
       "      <td>19.000000</td>\n",
       "      <td>0.000000</td>\n",
       "      <td>0.000000</td>\n",
       "      <td>NaN</td>\n",
       "      <td>7.854200</td>\n",
       "      <td>NaN</td>\n",
       "      <td>NaN</td>\n",
       "    </tr>\n",
       "    <tr>\n",
       "      <th>30.0%</th>\n",
       "      <td>268.000000</td>\n",
       "      <td>0.000000</td>\n",
       "      <td>2.000000</td>\n",
       "      <td>NaN</td>\n",
       "      <td>NaN</td>\n",
       "      <td>22.000000</td>\n",
       "      <td>0.000000</td>\n",
       "      <td>0.000000</td>\n",
       "      <td>NaN</td>\n",
       "      <td>8.050000</td>\n",
       "      <td>NaN</td>\n",
       "      <td>NaN</td>\n",
       "    </tr>\n",
       "    <tr>\n",
       "      <th>40%</th>\n",
       "      <td>357.000000</td>\n",
       "      <td>0.000000</td>\n",
       "      <td>2.000000</td>\n",
       "      <td>NaN</td>\n",
       "      <td>NaN</td>\n",
       "      <td>25.000000</td>\n",
       "      <td>0.000000</td>\n",
       "      <td>0.000000</td>\n",
       "      <td>NaN</td>\n",
       "      <td>10.500000</td>\n",
       "      <td>NaN</td>\n",
       "      <td>NaN</td>\n",
       "    </tr>\n",
       "    <tr>\n",
       "      <th>50%</th>\n",
       "      <td>446.000000</td>\n",
       "      <td>0.000000</td>\n",
       "      <td>3.000000</td>\n",
       "      <td>NaN</td>\n",
       "      <td>NaN</td>\n",
       "      <td>28.000000</td>\n",
       "      <td>0.000000</td>\n",
       "      <td>0.000000</td>\n",
       "      <td>NaN</td>\n",
       "      <td>14.454200</td>\n",
       "      <td>NaN</td>\n",
       "      <td>NaN</td>\n",
       "    </tr>\n",
       "    <tr>\n",
       "      <th>60%</th>\n",
       "      <td>535.000000</td>\n",
       "      <td>0.000000</td>\n",
       "      <td>3.000000</td>\n",
       "      <td>NaN</td>\n",
       "      <td>NaN</td>\n",
       "      <td>31.800000</td>\n",
       "      <td>0.000000</td>\n",
       "      <td>0.000000</td>\n",
       "      <td>NaN</td>\n",
       "      <td>21.679200</td>\n",
       "      <td>NaN</td>\n",
       "      <td>NaN</td>\n",
       "    </tr>\n",
       "    <tr>\n",
       "      <th>70%</th>\n",
       "      <td>624.000000</td>\n",
       "      <td>1.000000</td>\n",
       "      <td>3.000000</td>\n",
       "      <td>NaN</td>\n",
       "      <td>NaN</td>\n",
       "      <td>36.000000</td>\n",
       "      <td>1.000000</td>\n",
       "      <td>0.000000</td>\n",
       "      <td>NaN</td>\n",
       "      <td>27.000000</td>\n",
       "      <td>NaN</td>\n",
       "      <td>NaN</td>\n",
       "    </tr>\n",
       "    <tr>\n",
       "      <th>80%</th>\n",
       "      <td>713.000000</td>\n",
       "      <td>1.000000</td>\n",
       "      <td>3.000000</td>\n",
       "      <td>NaN</td>\n",
       "      <td>NaN</td>\n",
       "      <td>41.000000</td>\n",
       "      <td>1.000000</td>\n",
       "      <td>1.000000</td>\n",
       "      <td>NaN</td>\n",
       "      <td>39.687500</td>\n",
       "      <td>NaN</td>\n",
       "      <td>NaN</td>\n",
       "    </tr>\n",
       "    <tr>\n",
       "      <th>90%</th>\n",
       "      <td>802.000000</td>\n",
       "      <td>1.000000</td>\n",
       "      <td>3.000000</td>\n",
       "      <td>NaN</td>\n",
       "      <td>NaN</td>\n",
       "      <td>50.000000</td>\n",
       "      <td>1.000000</td>\n",
       "      <td>2.000000</td>\n",
       "      <td>NaN</td>\n",
       "      <td>77.958300</td>\n",
       "      <td>NaN</td>\n",
       "      <td>NaN</td>\n",
       "    </tr>\n",
       "    <tr>\n",
       "      <th>95%</th>\n",
       "      <td>846.500000</td>\n",
       "      <td>1.000000</td>\n",
       "      <td>3.000000</td>\n",
       "      <td>NaN</td>\n",
       "      <td>NaN</td>\n",
       "      <td>56.000000</td>\n",
       "      <td>3.000000</td>\n",
       "      <td>2.000000</td>\n",
       "      <td>NaN</td>\n",
       "      <td>112.079150</td>\n",
       "      <td>NaN</td>\n",
       "      <td>NaN</td>\n",
       "    </tr>\n",
       "    <tr>\n",
       "      <th>max</th>\n",
       "      <td>891.000000</td>\n",
       "      <td>1.000000</td>\n",
       "      <td>3.000000</td>\n",
       "      <td>NaN</td>\n",
       "      <td>NaN</td>\n",
       "      <td>80.000000</td>\n",
       "      <td>8.000000</td>\n",
       "      <td>6.000000</td>\n",
       "      <td>NaN</td>\n",
       "      <td>512.329200</td>\n",
       "      <td>NaN</td>\n",
       "      <td>NaN</td>\n",
       "    </tr>\n",
       "  </tbody>\n",
       "</table>\n",
       "</div>"
      ],
      "text/plain": [
       "        PassengerId    Survived      Pclass                     Name   Sex  \\\n",
       "count    891.000000  891.000000  891.000000                      891   891   \n",
       "unique          NaN         NaN         NaN                      891     2   \n",
       "top             NaN         NaN         NaN  Kilgannon, Mr. Thomas J  male   \n",
       "freq            NaN         NaN         NaN                        1   577   \n",
       "mean     446.000000    0.383838    2.308642                      NaN   NaN   \n",
       "std      257.353842    0.486592    0.836071                      NaN   NaN   \n",
       "min        1.000000    0.000000    1.000000                      NaN   NaN   \n",
       "5%        45.500000    0.000000    1.000000                      NaN   NaN   \n",
       "10%       90.000000    0.000000    1.000000                      NaN   NaN   \n",
       "20%      179.000000    0.000000    1.000000                      NaN   NaN   \n",
       "30.0%    268.000000    0.000000    2.000000                      NaN   NaN   \n",
       "40%      357.000000    0.000000    2.000000                      NaN   NaN   \n",
       "50%      446.000000    0.000000    3.000000                      NaN   NaN   \n",
       "60%      535.000000    0.000000    3.000000                      NaN   NaN   \n",
       "70%      624.000000    1.000000    3.000000                      NaN   NaN   \n",
       "80%      713.000000    1.000000    3.000000                      NaN   NaN   \n",
       "90%      802.000000    1.000000    3.000000                      NaN   NaN   \n",
       "95%      846.500000    1.000000    3.000000                      NaN   NaN   \n",
       "max      891.000000    1.000000    3.000000                      NaN   NaN   \n",
       "\n",
       "               Age       SibSp       Parch    Ticket        Fare        Cabin  \\\n",
       "count   714.000000  891.000000  891.000000       891  891.000000          204   \n",
       "unique         NaN         NaN         NaN       681         NaN          147   \n",
       "top            NaN         NaN         NaN  CA. 2343         NaN  C23 C25 C27   \n",
       "freq           NaN         NaN         NaN         7         NaN            4   \n",
       "mean     29.699118    0.523008    0.381594       NaN   32.204208          NaN   \n",
       "std      14.526497    1.102743    0.806057       NaN   49.693429          NaN   \n",
       "min       0.420000    0.000000    0.000000       NaN    0.000000          NaN   \n",
       "5%        4.000000    0.000000    0.000000       NaN    7.225000          NaN   \n",
       "10%      14.000000    0.000000    0.000000       NaN    7.550000          NaN   \n",
       "20%      19.000000    0.000000    0.000000       NaN    7.854200          NaN   \n",
       "30.0%    22.000000    0.000000    0.000000       NaN    8.050000          NaN   \n",
       "40%      25.000000    0.000000    0.000000       NaN   10.500000          NaN   \n",
       "50%      28.000000    0.000000    0.000000       NaN   14.454200          NaN   \n",
       "60%      31.800000    0.000000    0.000000       NaN   21.679200          NaN   \n",
       "70%      36.000000    1.000000    0.000000       NaN   27.000000          NaN   \n",
       "80%      41.000000    1.000000    1.000000       NaN   39.687500          NaN   \n",
       "90%      50.000000    1.000000    2.000000       NaN   77.958300          NaN   \n",
       "95%      56.000000    3.000000    2.000000       NaN  112.079150          NaN   \n",
       "max      80.000000    8.000000    6.000000       NaN  512.329200          NaN   \n",
       "\n",
       "       Embarked  \n",
       "count       889  \n",
       "unique        3  \n",
       "top           S  \n",
       "freq        644  \n",
       "mean        NaN  \n",
       "std         NaN  \n",
       "min         NaN  \n",
       "5%          NaN  \n",
       "10%         NaN  \n",
       "20%         NaN  \n",
       "30.0%       NaN  \n",
       "40%         NaN  \n",
       "50%         NaN  \n",
       "60%         NaN  \n",
       "70%         NaN  \n",
       "80%         NaN  \n",
       "90%         NaN  \n",
       "95%         NaN  \n",
       "max         NaN  "
      ]
     },
     "execution_count": 5,
     "metadata": {},
     "output_type": "execute_result"
    }
   ],
   "source": [
    "df_train.describe(include=\"all\", percentiles=[0.05] + list(np.linspace(0.1, 0.9, 9)) + [0.95])"
   ]
  },
  {
   "cell_type": "markdown",
   "metadata": {},
   "source": [
    "## 変数概要\n",
    "- PassengerId: 乗客ID\n",
    "- Survived: 1 = 生き残り 0 = 死亡\n",
    "- Pclass: 等級\n",
    "- Name: 名前\n",
    "- Sex: 性別\n",
    "- Age: 年齢\n",
    "- Parch: 子供の数\n",
    "- Ticket: チケット番号\n",
    "- Fare: 運賃\n",
    "- Cabin: 部屋番号\n",
    "- Embarked: 乗船地"
   ]
  },
  {
   "cell_type": "markdown",
   "metadata": {},
   "source": [
    "## わかったこと\n",
    "- 891レコード\n",
    "- 70%が死んだ\n",
    "- 半分が３階級\n",
    "- 年齢に欠損値多少有り\n",
    "- Cabinに欠損値が多い(そもそも部屋番号は関係なさそう)"
   ]
  },
  {
   "cell_type": "code",
   "execution_count": 6,
   "metadata": {
    "ExecuteTime": {
     "end_time": "2016-04-07T22:36:27.568680",
     "start_time": "2016-04-07T22:36:27.535633"
    },
    "collapsed": false
   },
   "outputs": [
    {
     "data": {
      "text/html": [
       "<div>\n",
       "<table border=\"1\" class=\"dataframe\">\n",
       "  <thead>\n",
       "    <tr style=\"text-align: right;\">\n",
       "      <th></th>\n",
       "      <th>PassengerId</th>\n",
       "      <th>Pclass</th>\n",
       "      <th>Name</th>\n",
       "      <th>Sex</th>\n",
       "      <th>Age</th>\n",
       "      <th>SibSp</th>\n",
       "      <th>Parch</th>\n",
       "      <th>Ticket</th>\n",
       "      <th>Fare</th>\n",
       "      <th>Cabin</th>\n",
       "      <th>Embarked</th>\n",
       "    </tr>\n",
       "  </thead>\n",
       "  <tbody>\n",
       "    <tr>\n",
       "      <th>417</th>\n",
       "      <td>1309</td>\n",
       "      <td>3</td>\n",
       "      <td>Peter, Master. Michael J</td>\n",
       "      <td>male</td>\n",
       "      <td>NaN</td>\n",
       "      <td>1</td>\n",
       "      <td>1</td>\n",
       "      <td>2668</td>\n",
       "      <td>22.3583</td>\n",
       "      <td>NaN</td>\n",
       "      <td>C</td>\n",
       "    </tr>\n",
       "  </tbody>\n",
       "</table>\n",
       "</div>"
      ],
      "text/plain": [
       "     PassengerId  Pclass                      Name   Sex  Age  SibSp  Parch  \\\n",
       "417         1309       3  Peter, Master. Michael J  male  NaN      1      1   \n",
       "\n",
       "    Ticket     Fare Cabin Embarked  \n",
       "417   2668  22.3583   NaN        C  "
      ]
     },
     "execution_count": 6,
     "metadata": {},
     "output_type": "execute_result"
    }
   ],
   "source": [
    "df_test.tail(1)"
   ]
  },
  {
   "cell_type": "code",
   "execution_count": 7,
   "metadata": {
    "ExecuteTime": {
     "end_time": "2016-04-07T22:36:27.581505",
     "start_time": "2016-04-07T22:36:27.572552"
    },
    "collapsed": false
   },
   "outputs": [
    {
     "data": {
      "text/plain": [
       "{'female': 1, 'male': 0}"
      ]
     },
     "execution_count": 7,
     "metadata": {},
     "output_type": "execute_result"
    }
   ],
   "source": [
    "sex = {val:idx for idx, val in enumerate(df_train[\"Sex\"].unique())}\n",
    "sex"
   ]
  },
  {
   "cell_type": "code",
   "execution_count": 8,
   "metadata": {
    "ExecuteTime": {
     "end_time": "2016-04-07T22:36:28.157463",
     "start_time": "2016-04-07T22:36:27.584231"
    },
    "collapsed": false,
    "scrolled": true
   },
   "outputs": [
    {
     "data": {
      "text/plain": [
       "<matplotlib.axes._subplots.AxesSubplot at 0x1179ba2e8>"
      ]
     },
     "execution_count": 8,
     "metadata": {},
     "output_type": "execute_result"
    },
    {
     "data": {
      "image/png": "[encoded data removed]",
      "text/plain": [
       "<matplotlib.figure.Figure at 0x11799de10>"
      ]
     },
     "metadata": {},
     "output_type": "display_data"
    }
   ],
   "source": [
    "s_sex  = df_train[\"Sex\"].map(sex)\n",
    "s_sex.plot.hist(bins=2)"
   ]
  },
  {
   "cell_type": "code",
   "execution_count": 9,
   "metadata": {
    "ExecuteTime": {
     "end_time": "2016-04-07T22:36:28.404344",
     "start_time": "2016-04-07T22:36:28.159796"
    },
    "collapsed": false
   },
   "outputs": [
    {
     "data": {
      "text/plain": [
       "<matplotlib.axes._subplots.AxesSubplot at 0x104517828>"
      ]
     },
     "execution_count": 9,
     "metadata": {},
     "output_type": "execute_result"
    },
    {
     "data": {
      "image/png": "[encoded data removed]",
      "text/plain": [
       "<matplotlib.figure.Figure at 0x10451fe80>"
      ]
     },
     "metadata": {},
     "output_type": "display_data"
    }
   ],
   "source": [
    "df_train[\"Survived\"].value_counts().plot.bar()"
   ]
  },
  {
   "cell_type": "code",
   "execution_count": 10,
   "metadata": {
    "ExecuteTime": {
     "end_time": "2016-04-07T22:36:28.784733",
     "start_time": "2016-04-07T22:36:28.406513"
    },
    "collapsed": false
   },
   "outputs": [
    {
     "data": {
      "text/plain": [
       "<matplotlib.axes._subplots.AxesSubplot at 0x1178ff518>"
      ]
     },
     "execution_count": 10,
     "metadata": {},
     "output_type": "execute_result"
    },
    {
     "data": {
      "image/png": "[encoded data removed]",
      "text/plain": [
       "<matplotlib.figure.Figure at 0x11793e710>"
      ]
     },
     "metadata": {},
     "output_type": "display_data"
    }
   ],
   "source": [
    "df_train.pivot_table(index=\"Sex\", columns=\"Survived\", values=\"PassengerId\", aggfunc=len).plot.bar()"
   ]
  },
  {
   "cell_type": "code",
   "execution_count": 11,
   "metadata": {
    "ExecuteTime": {
     "end_time": "2016-04-07T22:36:29.618699",
     "start_time": "2016-04-07T22:36:28.790658"
    },
    "collapsed": false,
    "scrolled": false
   },
   "outputs": [
    {
     "data": {
      "text/plain": [
       "([array([ 11.,  18.,  99.,  88.,  60.,  37.,  23.,  14.,   9.,   1.]),\n",
       "  array([  23.,   23.,  110.,  117.,   73.,   46.,   29.,   16.,    9.,    2.])],\n",
       " array([  1. ,   8.9,  16.8,  24.7,  32.6,  40.5,  48.4,  56.3,  64.2,\n",
       "         72.1,  80. ]),\n",
       " <a list of 2 Lists of Patches objects>)"
      ]
     },
     "execution_count": 11,
     "metadata": {},
     "output_type": "execute_result"
    },
    {
     "data": {
      "image/png": "[encoded data removed]",
      "text/plain": [
       "<matplotlib.figure.Figure at 0x11a1004e0>"
      ]
     },
     "metadata": {},
     "output_type": "display_data"
    }
   ],
   "source": [
    "fig, axes = plt.subplots(1, 2, figsize=(16, 4))\n",
    "axes[0].hist([df_train[(df_train[\"Sex\"] == \"female\") & (df_train[\"Survived\"] == 0)][\"Age\"],\n",
    "          df_train[(df_train[\"Sex\"] == \"female\") & (df_train[\"Survived\"] == 1)][\"Age\"]],\n",
    "         bins=10 , stacked=True, range=(1, 80))\n",
    "\n",
    "axes[1].hist([df_train[(df_train.Survived==0) & (df_train.Sex=='male')]['Age'],\n",
    "          df_train[(df_train.Survived==1) & (df_train.Sex=='male')]['Age']],\n",
    "          alpha=0.6, range=(1,80), bins=10, stacked=True,\n",
    "          label=('Died', 'Survived'))"
   ]
  },
  {
   "cell_type": "markdown",
   "metadata": {},
   "source": [
    "## ジェンダーモデルによる生存者推定、推定値の評価"
   ]
  },
  {
   "cell_type": "code",
   "execution_count": 12,
   "metadata": {
    "ExecuteTime": {
     "end_time": "2016-04-07T22:36:29.627433",
     "start_time": "2016-04-07T22:36:29.621498"
    },
    "collapsed": true
   },
   "outputs": [],
   "source": [
    "x = df_train['Sex']\n",
    "y = df_train['Survived']\n",
    "y_pred = x.map({'female': 1, 'male': 0}).astype(int)"
   ]
  },
  {
   "cell_type": "code",
   "execution_count": 13,
   "metadata": {
    "ExecuteTime": {
     "end_time": "2016-04-07T22:36:29.648409",
     "start_time": "2016-04-07T22:36:29.631168"
    },
    "collapsed": false,
    "scrolled": true
   },
   "outputs": [
    {
     "data": {
      "text/html": [
       "<div>\n",
       "<table border=\"1\" class=\"dataframe\">\n",
       "  <thead>\n",
       "    <tr style=\"text-align: right;\">\n",
       "      <th></th>\n",
       "      <th>Survived</th>\n",
       "      <th>Sex</th>\n",
       "    </tr>\n",
       "  </thead>\n",
       "  <tbody>\n",
       "    <tr>\n",
       "      <th>0</th>\n",
       "      <td>0</td>\n",
       "      <td>0</td>\n",
       "    </tr>\n",
       "    <tr>\n",
       "      <th>1</th>\n",
       "      <td>1</td>\n",
       "      <td>1</td>\n",
       "    </tr>\n",
       "    <tr>\n",
       "      <th>2</th>\n",
       "      <td>1</td>\n",
       "      <td>1</td>\n",
       "    </tr>\n",
       "    <tr>\n",
       "      <th>3</th>\n",
       "      <td>1</td>\n",
       "      <td>1</td>\n",
       "    </tr>\n",
       "    <tr>\n",
       "      <th>4</th>\n",
       "      <td>0</td>\n",
       "      <td>0</td>\n",
       "    </tr>\n",
       "  </tbody>\n",
       "</table>\n",
       "</div>"
      ],
      "text/plain": [
       "   Survived  Sex\n",
       "0         0    0\n",
       "1         1    1\n",
       "2         1    1\n",
       "3         1    1\n",
       "4         0    0"
      ]
     },
     "execution_count": 13,
     "metadata": {},
     "output_type": "execute_result"
    }
   ],
   "source": [
    "pd.concat([y.head(), y_pred.head()], axis=1)"
   ]
  },
  {
   "cell_type": "code",
   "execution_count": 14,
   "metadata": {
    "ExecuteTime": {
     "end_time": "2016-04-07T22:36:29.660622",
     "start_time": "2016-04-07T22:36:29.651221"
    },
    "collapsed": false,
    "scrolled": true
   },
   "outputs": [
    {
     "data": {
      "text/plain": [
       "0.40000000000000002"
      ]
     },
     "execution_count": 14,
     "metadata": {},
     "output_type": "execute_result"
    }
   ],
   "source": [
    "accuracy_score(\n",
    "    [1, 0, 1, 0, 0],\n",
    "    [0, 0, 1, 1, 1])"
   ]
  },
  {
   "cell_type": "code",
   "execution_count": 15,
   "metadata": {
    "ExecuteTime": {
     "end_time": "2016-04-07T22:36:29.677273",
     "start_time": "2016-04-07T22:36:29.665409"
    },
    "collapsed": false,
    "scrolled": false
   },
   "outputs": [
    {
     "data": {
      "text/plain": [
       "0.78675645342312006"
      ]
     },
     "execution_count": 15,
     "metadata": {},
     "output_type": "execute_result"
    }
   ],
   "source": [
    "accuracy_score(y, y_pred)"
   ]
  },
  {
   "cell_type": "code",
   "execution_count": 16,
   "metadata": {
    "ExecuteTime": {
     "end_time": "2016-04-07T22:36:29.693139",
     "start_time": "2016-04-07T22:36:29.681168"
    },
    "collapsed": false,
    "scrolled": true
   },
   "outputs": [
    {
     "name": "stdout",
     "output_type": "stream",
     "text": [
      "             precision    recall  f1-score   support\n",
      "\n",
      "          0       0.81      0.85      0.83       549\n",
      "          1       0.74      0.68      0.71       342\n",
      "\n",
      "avg / total       0.78      0.79      0.78       891\n",
      "\n"
     ]
    }
   ],
   "source": [
    "print(classification_report(y, y_pred))"
   ]
  },
  {
   "cell_type": "code",
   "execution_count": 17,
   "metadata": {
    "ExecuteTime": {
     "end_time": "2016-04-07T22:36:29.719949",
     "start_time": "2016-04-07T22:36:29.696682"
    },
    "collapsed": false
   },
   "outputs": [
    {
     "data": {
      "text/html": [
       "<div>\n",
       "<table border=\"1\" class=\"dataframe\">\n",
       "  <thead>\n",
       "    <tr style=\"text-align: right;\">\n",
       "      <th></th>\n",
       "      <th>P(0)</th>\n",
       "      <th>P(1)</th>\n",
       "    </tr>\n",
       "  </thead>\n",
       "  <tbody>\n",
       "    <tr>\n",
       "      <th>T(0)</th>\n",
       "      <td>468</td>\n",
       "      <td>81</td>\n",
       "    </tr>\n",
       "    <tr>\n",
       "      <th>T(1)</th>\n",
       "      <td>109</td>\n",
       "      <td>233</td>\n",
       "    </tr>\n",
       "  </tbody>\n",
       "</table>\n",
       "</div>"
      ],
      "text/plain": [
       "      P(0)  P(1)\n",
       "T(0)   468    81\n",
       "T(1)   109   233"
      ]
     },
     "execution_count": 17,
     "metadata": {},
     "output_type": "execute_result"
    }
   ],
   "source": [
    "cm = confusion_matrix(y, y_pred)\n",
    "# True, Predict\n",
    "cm_df = pd.DataFrame(cm, index=[\"T(0)\", \"T(1)\"], columns=[\"P(0)\", \"P(1)\"])\n",
    "cm_df"
   ]
  },
  {
   "cell_type": "code",
   "execution_count": 19,
   "metadata": {
    "ExecuteTime": {
     "end_time": "2016-04-07T22:37:05.271366",
     "start_time": "2016-04-07T22:37:05.264231"
    },
    "collapsed": false
   },
   "outputs": [
    {
     "data": {
      "text/plain": [
       "1.0"
      ]
     },
     "execution_count": 19,
     "metadata": {},
     "output_type": "execute_result"
    }
   ],
   "source": [
    "cm_df.ix[\"T(0)\"][\"P(0)\"] / cm_df.ix[\"T(0)\"][\"P(0)\"]\n"
   ]
  },
  {
   "cell_type": "code",
   "execution_count": 20,
   "metadata": {
    "ExecuteTime": {
     "end_time": "2016-04-07T22:37:09.496974",
     "start_time": "2016-04-07T22:37:09.129339"
    },
    "collapsed": false
   },
   "outputs": [
    {
     "data": {
      "image/png": "[encoded data removed]",
      "text/plain": [
       "<matplotlib.figure.Figure at 0x11a99b198>"
      ]
     },
     "metadata": {},
     "output_type": "display_data"
    }
   ],
   "source": [
    "def plot_confusion_matrix(cm):\n",
    "    fig, ax = plt.subplots()\n",
    "    im = ax.imshow(cm, interpolation='nearest', cmap=plt.cm.Blues)\n",
    "    #ax.set_title('Confusion Matrix')\n",
    "    fig.colorbar(im)\n",
    "\n",
    "    target_names = ['not survived', 'survived']\n",
    "\n",
    "    tick_marks = np.arange(len(target_names))\n",
    "    ax.set_xticks(tick_marks)\n",
    "    ax.set_xticklabels(target_names, rotation=45)\n",
    "    ax.set_yticks(tick_marks)\n",
    "    ax.set_yticklabels(target_names)\n",
    "    ax.set_ylabel('True label')\n",
    "    ax.set_xlabel('Predicted label')\n",
    "    fig.tight_layout()\n",
    "\n",
    "plot_confusion_matrix(cm)"
   ]
  },
  {
   "cell_type": "markdown",
   "metadata": {},
   "source": [
    "## 作成したkaggle_gendermodel.csvをKaggleに投稿し、スコアと順位を確認してみましょう！これで皆さんもKagglerです！"
   ]
  },
  {
   "cell_type": "code",
   "execution_count": 21,
   "metadata": {
    "ExecuteTime": {
     "end_time": "2016-04-07T22:37:10.674484",
     "start_time": "2016-04-07T22:37:10.669072"
    },
    "collapsed": true
   },
   "outputs": [],
   "source": [
    "x_test = df_test['Sex']\n",
    "y_test_pred = x_test.map({'female': 1, 'male': 0}).astype(int)"
   ]
  },
  {
   "cell_type": "code",
   "execution_count": 22,
   "metadata": {
    "ExecuteTime": {
     "end_time": "2016-04-07T22:37:10.866677",
     "start_time": "2016-04-07T22:37:10.850009"
    },
    "collapsed": false
   },
   "outputs": [
    {
     "data": {
      "text/html": [
       "<div>\n",
       "<table border=\"1\" class=\"dataframe\">\n",
       "  <thead>\n",
       "    <tr style=\"text-align: right;\">\n",
       "      <th></th>\n",
       "      <th>PassengerId</th>\n",
       "      <th>Survived</th>\n",
       "    </tr>\n",
       "  </thead>\n",
       "  <tbody>\n",
       "    <tr>\n",
       "      <th>413</th>\n",
       "      <td>1305</td>\n",
       "      <td>0</td>\n",
       "    </tr>\n",
       "    <tr>\n",
       "      <th>414</th>\n",
       "      <td>1306</td>\n",
       "      <td>1</td>\n",
       "    </tr>\n",
       "    <tr>\n",
       "      <th>415</th>\n",
       "      <td>1307</td>\n",
       "      <td>0</td>\n",
       "    </tr>\n",
       "    <tr>\n",
       "      <th>416</th>\n",
       "      <td>1308</td>\n",
       "      <td>0</td>\n",
       "    </tr>\n",
       "    <tr>\n",
       "      <th>417</th>\n",
       "      <td>1309</td>\n",
       "      <td>0</td>\n",
       "    </tr>\n",
       "  </tbody>\n",
       "</table>\n",
       "</div>"
      ],
      "text/plain": [
       "     PassengerId  Survived\n",
       "413         1305         0\n",
       "414         1306         1\n",
       "415         1307         0\n",
       "416         1308         0\n",
       "417         1309         0"
      ]
     },
     "execution_count": 22,
     "metadata": {},
     "output_type": "execute_result"
    }
   ],
   "source": [
    "df_kaggle = pd.DataFrame({'PassengerId': df_test['PassengerId'], 'Survived':np.array(y_test_pred)})\n",
    "df_kaggle.to_csv('titanic/kaggle_gendermodel.csv', index=False)\n",
    "df_kaggle.tail()"
   ]
  },
  {
   "cell_type": "markdown",
   "metadata": {},
   "source": [
    "## ロジスティック回帰による生存者推定"
   ]
  },
  {
   "cell_type": "code",
   "execution_count": 23,
   "metadata": {
    "ExecuteTime": {
     "end_time": "2016-04-07T22:37:12.201652",
     "start_time": "2016-04-07T22:37:12.188299"
    },
    "collapsed": false
   },
   "outputs": [],
   "source": [
    "iris = sns.load_dataset(\"iris\")\n",
    "iris2 = iris[[\"sepal_length\", \"sepal_width\"]].copy()\n",
    "iris2 = iris.loc[: , (\"sepal_length\", \"sepal_width\")]\n",
    "iris2[\"lenght_2x\"] = iris2[\"sepal_length\"] * 2\n"
   ]
  },
  {
   "cell_type": "code",
   "execution_count": 24,
   "metadata": {
    "ExecuteTime": {
     "end_time": "2016-04-07T22:37:12.665261",
     "start_time": "2016-04-07T22:37:12.658622"
    },
    "collapsed": false,
    "scrolled": false
   },
   "outputs": [
    {
     "data": {
      "text/plain": [
       "'warn'"
      ]
     },
     "execution_count": 24,
     "metadata": {},
     "output_type": "execute_result"
    }
   ],
   "source": [
    "pd.options.mode.chained_assignment"
   ]
  },
  {
   "cell_type": "code",
   "execution_count": 25,
   "metadata": {
    "ExecuteTime": {
     "end_time": "2016-04-07T22:37:13.091309",
     "start_time": "2016-04-07T22:37:13.082436"
    },
    "collapsed": true
   },
   "outputs": [],
   "source": [
    "X = df_train[['Age', 'Pclass', 'Sex']].copy()\n",
    "y = df_train['Survived']"
   ]
  },
  {
   "cell_type": "code",
   "execution_count": 26,
   "metadata": {
    "ExecuteTime": {
     "end_time": "2016-04-07T22:37:13.566145",
     "start_time": "2016-04-07T22:37:13.561307"
    },
    "collapsed": false
   },
   "outputs": [],
   "source": [
    "X['AgeFill'] = X['Age'].fillna(X['Age'].mean())"
   ]
  },
  {
   "cell_type": "code",
   "execution_count": 27,
   "metadata": {
    "ExecuteTime": {
     "end_time": "2016-04-07T22:37:13.876778",
     "start_time": "2016-04-07T22:37:13.850234"
    },
    "collapsed": false,
    "scrolled": false
   },
   "outputs": [
    {
     "data": {
      "text/html": [
       "<div>\n",
       "<table border=\"1\" class=\"dataframe\">\n",
       "  <thead>\n",
       "    <tr style=\"text-align: right;\">\n",
       "      <th></th>\n",
       "      <th>Age</th>\n",
       "      <th>Pclass</th>\n",
       "      <th>Sex</th>\n",
       "      <th>AgeFill</th>\n",
       "      <th>Gender</th>\n",
       "      <th>Pclass_Gender</th>\n",
       "    </tr>\n",
       "  </thead>\n",
       "  <tbody>\n",
       "    <tr>\n",
       "      <th>886</th>\n",
       "      <td>27.0</td>\n",
       "      <td>2</td>\n",
       "      <td>male</td>\n",
       "      <td>27.000000</td>\n",
       "      <td>1</td>\n",
       "      <td>3</td>\n",
       "    </tr>\n",
       "    <tr>\n",
       "      <th>887</th>\n",
       "      <td>19.0</td>\n",
       "      <td>1</td>\n",
       "      <td>female</td>\n",
       "      <td>19.000000</td>\n",
       "      <td>0</td>\n",
       "      <td>1</td>\n",
       "    </tr>\n",
       "    <tr>\n",
       "      <th>888</th>\n",
       "      <td>NaN</td>\n",
       "      <td>3</td>\n",
       "      <td>female</td>\n",
       "      <td>29.699118</td>\n",
       "      <td>0</td>\n",
       "      <td>3</td>\n",
       "    </tr>\n",
       "    <tr>\n",
       "      <th>889</th>\n",
       "      <td>26.0</td>\n",
       "      <td>1</td>\n",
       "      <td>male</td>\n",
       "      <td>26.000000</td>\n",
       "      <td>1</td>\n",
       "      <td>2</td>\n",
       "    </tr>\n",
       "    <tr>\n",
       "      <th>890</th>\n",
       "      <td>32.0</td>\n",
       "      <td>3</td>\n",
       "      <td>male</td>\n",
       "      <td>32.000000</td>\n",
       "      <td>1</td>\n",
       "      <td>4</td>\n",
       "    </tr>\n",
       "  </tbody>\n",
       "</table>\n",
       "</div>"
      ],
      "text/plain": [
       "      Age  Pclass     Sex    AgeFill  Gender  Pclass_Gender\n",
       "886  27.0       2    male  27.000000       1              3\n",
       "887  19.0       1  female  19.000000       0              1\n",
       "888   NaN       3  female  29.699118       0              3\n",
       "889  26.0       1    male  26.000000       1              2\n",
       "890  32.0       3    male  32.000000       1              4"
      ]
     },
     "execution_count": 27,
     "metadata": {},
     "output_type": "execute_result"
    }
   ],
   "source": [
    "X['AgeFill'] = X['Age'].fillna(X['Age'].mean())\n",
    "X['Gender'] = X['Sex'].map({'female': 0, 'male': 1}).astype(int)\n",
    "X['Pclass_Gender'] = X['Pclass'] + X['Gender']\n",
    "X.tail()\n"
   ]
  },
  {
   "cell_type": "code",
   "execution_count": 28,
   "metadata": {
    "ExecuteTime": {
     "end_time": "2016-04-07T22:37:14.051420",
     "start_time": "2016-04-07T22:37:14.034447"
    },
    "collapsed": false
   },
   "outputs": [
    {
     "data": {
      "text/html": [
       "<div>\n",
       "<table border=\"1\" class=\"dataframe\">\n",
       "  <thead>\n",
       "    <tr style=\"text-align: right;\">\n",
       "      <th></th>\n",
       "      <th>AgeFill</th>\n",
       "      <th>Pclass_Gender</th>\n",
       "    </tr>\n",
       "  </thead>\n",
       "  <tbody>\n",
       "    <tr>\n",
       "      <th>886</th>\n",
       "      <td>27.000000</td>\n",
       "      <td>3</td>\n",
       "    </tr>\n",
       "    <tr>\n",
       "      <th>887</th>\n",
       "      <td>19.000000</td>\n",
       "      <td>1</td>\n",
       "    </tr>\n",
       "    <tr>\n",
       "      <th>888</th>\n",
       "      <td>29.699118</td>\n",
       "      <td>3</td>\n",
       "    </tr>\n",
       "    <tr>\n",
       "      <th>889</th>\n",
       "      <td>26.000000</td>\n",
       "      <td>2</td>\n",
       "    </tr>\n",
       "    <tr>\n",
       "      <th>890</th>\n",
       "      <td>32.000000</td>\n",
       "      <td>4</td>\n",
       "    </tr>\n",
       "  </tbody>\n",
       "</table>\n",
       "</div>"
      ],
      "text/plain": [
       "       AgeFill  Pclass_Gender\n",
       "886  27.000000              3\n",
       "887  19.000000              1\n",
       "888  29.699118              3\n",
       "889  26.000000              2\n",
       "890  32.000000              4"
      ]
     },
     "execution_count": 28,
     "metadata": {},
     "output_type": "execute_result"
    }
   ],
   "source": [
    "X = X.drop(['Age'], axis=1)\n",
    "X = X.drop(['Pclass', 'Sex', 'Gender'], axis=1)\n",
    "X.tail()"
   ]
  },
  {
   "cell_type": "code",
   "execution_count": 29,
   "metadata": {
    "ExecuteTime": {
     "end_time": "2016-04-07T22:37:15.279014",
     "start_time": "2016-04-07T22:37:14.907960"
    },
    "collapsed": false
   },
   "outputs": [
    {
     "data": {
      "text/plain": [
       "<matplotlib.legend.Legend at 0x11ac4d518>"
      ]
     },
     "execution_count": 29,
     "metadata": {},
     "output_type": "execute_result"
    },
    {
     "data": {
      "image/png": "[encoded data removed]",
      "text/plain": [
       "<matplotlib.figure.Figure at 0x11a5ff358>"
      ]
     },
     "metadata": {},
     "output_type": "display_data"
    }
   ],
   "source": [
    "np.random.seed(0)\n",
    "\n",
    "xmin, xmax = -5, 85\n",
    "ymin, ymax = 0.5, 4.5\n",
    "\n",
    "index_survived = y[y==0].index\n",
    "index_notsurvived = y[y==1].index\n",
    "\n",
    "fig, ax = plt.subplots()\n",
    "cm = plt.cm.RdBu\n",
    "cm_bright = ListedColormap(['#FF0000', '#0000FF'])\n",
    "sc = ax.scatter(X.loc[index_survived, 'AgeFill'],\n",
    "                X.loc[index_survived, 'Pclass_Gender']+(np.random.rand(len(index_survived))-0.5)*0.1,\n",
    "                color='r', label='Not Survived', alpha=0.3)\n",
    "sc = ax.scatter(X.loc[index_notsurvived, 'AgeFill'],\n",
    "                X.loc[index_notsurvived, 'Pclass_Gender']+(np.random.rand(len(index_notsurvived))-0.5)*0.1,\n",
    "                color='b', label='Survived', alpha=0.3)\n",
    "ax.set_xlabel('AgeFill')\n",
    "ax.set_ylabel('Pclass_Gender')\n",
    "ax.set_xlim(xmin, xmax)\n",
    "ax.set_ylim(ymin, ymax)\n",
    "ax.legend(bbox_to_anchor=(1.4, 1.03))"
   ]
  },
  {
   "cell_type": "code",
   "execution_count": 30,
   "metadata": {
    "ExecuteTime": {
     "end_time": "2016-04-07T22:37:21.266429",
     "start_time": "2016-04-07T22:37:15.523425"
    },
    "collapsed": false
   },
   "outputs": [
    {
     "data": {
      "image/png": "[encoded data removed]",
      "text/plain": [
       "<matplotlib.figure.Figure at 0x11a62bc18>"
      ]
     },
     "metadata": {},
     "output_type": "display_data"
    }
   ],
   "source": [
    "_sc_test = X.copy()\n",
    "_sc_test.Pclass_Gender = _sc_test.Pclass_Gender.astype(\"category\")\n",
    "_sc_test[\"y\"] = y\n",
    "\n",
    "sns.swarmplot(x=\"AgeFill\", y=\"Pclass_Gender\", hue=\"y\", data=_sc_test, alpha=0.3, palette=[\"red\", \"blue\"])\n",
    "plt.legend(bbox_to_anchor=(1.4, 1.03))\n",
    "plt.tight_layout()"
   ]
  },
  {
   "cell_type": "code",
   "execution_count": 94,
   "metadata": {
    "ExecuteTime": {
     "end_time": "2016-04-07T22:37:22.037638",
     "start_time": "2016-04-07T22:37:21.268997"
    },
    "collapsed": false,
    "scrolled": true
   },
   "outputs": [
    {
     "data": {
      "image/png": "[encoded data removed]",
      "text/plain": [
       "<matplotlib.figure.Figure at 0x11e8b46d8>"
      ]
     },
     "metadata": {},
     "output_type": "display_data"
    }
   ],
   "source": [
    "titanic = sns.load_dataset(\"titanic\")\n",
    "_titanic = pd.DataFrame(\n",
    "    [\n",
    "        titanic.age.fillna(titanic.age.mean()),\n",
    "        titanic.pclass + titanic.sex.map({'female': 0, 'male': 1}).astype(int),\n",
    "        titanic.survived\n",
    "    ]).T\n",
    "#_titanic[\"Unnamed 0\"] = _titanic[\"Unnamed 0\"].astype(\"category\")\n",
    "#_titanic[\"Unnamed 0\"] = _titanic[\"Unnamed 0\"].astype(\"category\", categories=[4,3,2,1], ordered=False)\n",
    "\n",
    "#sns.swarmplot(\n",
    "sns.stripplot(jitter=0.1,\n",
    "    data=_titanic, x=\"age\", y=\"Unnamed 0\", hue=\"survived\", \n",
    "    alpha=0.3, palette=[\"red\", \"blue\"])\n",
    "plt.legend(bbox_to_anchor=(1.4, 1.03))\n",
    "plt.tight_layout()"
   ]
  },
  {
   "cell_type": "markdown",
   "metadata": {
    "collapsed": true
   },
   "source": [
    "## トレーニングデータの分割"
   ]
  },
  {
   "cell_type": "code",
   "execution_count": 32,
   "metadata": {
    "ExecuteTime": {
     "end_time": "2016-04-07T22:37:22.047928",
     "start_time": "2016-04-07T22:37:22.039763"
    },
    "collapsed": true
   },
   "outputs": [],
   "source": [
    "X_train, X_val, y_train, y_val = train_test_split(X, y, train_size=0.8, random_state=1)"
   ]
  },
  {
   "cell_type": "code",
   "execution_count": 33,
   "metadata": {
    "ExecuteTime": {
     "end_time": "2016-04-07T22:37:22.068175",
     "start_time": "2016-04-07T22:37:22.050204"
    },
    "collapsed": false,
    "scrolled": true
   },
   "outputs": [
    {
     "data": {
      "text/html": [
       "<div>\n",
       "<table border=\"1\" class=\"dataframe\">\n",
       "  <thead>\n",
       "    <tr style=\"text-align: right;\">\n",
       "      <th></th>\n",
       "      <th>715</th>\n",
       "      <th>767</th>\n",
       "      <th>72</th>\n",
       "      <th>235</th>\n",
       "      <th>37</th>\n",
       "    </tr>\n",
       "  </thead>\n",
       "  <tbody>\n",
       "    <tr>\n",
       "      <th>AgeFill</th>\n",
       "      <td>19.0</td>\n",
       "      <td>30.5</td>\n",
       "      <td>21.0</td>\n",
       "      <td>29.699118</td>\n",
       "      <td>21.0</td>\n",
       "    </tr>\n",
       "    <tr>\n",
       "      <th>Pclass_Gender</th>\n",
       "      <td>4.0</td>\n",
       "      <td>3.0</td>\n",
       "      <td>3.0</td>\n",
       "      <td>3.000000</td>\n",
       "      <td>4.0</td>\n",
       "    </tr>\n",
       "  </tbody>\n",
       "</table>\n",
       "</div>"
      ],
      "text/plain": [
       "                715   767   72         235   37 \n",
       "AgeFill        19.0  30.5  21.0  29.699118  21.0\n",
       "Pclass_Gender   4.0   3.0   3.0   3.000000   4.0"
      ]
     },
     "execution_count": 33,
     "metadata": {},
     "output_type": "execute_result"
    }
   ],
   "source": [
    "X_train.tail().T"
   ]
  },
  {
   "cell_type": "code",
   "execution_count": 34,
   "metadata": {
    "ExecuteTime": {
     "end_time": "2016-04-07T22:37:22.076254",
     "start_time": "2016-04-07T22:37:22.070225"
    },
    "collapsed": false
   },
   "outputs": [
    {
     "name": "stdout",
     "output_type": "stream",
     "text": [
      "Num of Training Samples: 712\n",
      "Num of Validation Samples: 179\n"
     ]
    }
   ],
   "source": [
    "print('Num of Training Samples: {}'.format(len(X_train)))\n",
    "print('Num of Validation Samples: {}'.format(len(X_val)))"
   ]
  },
  {
   "cell_type": "markdown",
   "metadata": {},
   "source": [
    "## ロジスティック回帰による推定"
   ]
  },
  {
   "cell_type": "code",
   "execution_count": 441,
   "metadata": {
    "ExecuteTime": {
     "end_time": "2016-04-07T22:37:22.097840",
     "start_time": "2016-04-07T22:37:22.078914"
    },
    "collapsed": false,
    "scrolled": false
   },
   "outputs": [
    {
     "data": {
      "text/plain": [
       "LogisticRegression(C=1.0, class_weight=None, dual=False, fit_intercept=True,\n",
       "          intercept_scaling=1, max_iter=100, multi_class='ovr', n_jobs=1,\n",
       "          penalty='l2', random_state=None, solver='liblinear', tol=0.0001,\n",
       "          verbose=0, warm_start=False)"
      ]
     },
     "execution_count": 441,
     "metadata": {},
     "output_type": "execute_result"
    }
   ],
   "source": [
    "# 学習\n",
    "clf = LogisticRegression()\n",
    "clf.fit(X_train, y_train)"
   ]
  },
  {
   "cell_type": "code",
   "execution_count": 442,
   "metadata": {
    "collapsed": false
   },
   "outputs": [
    {
     "data": {
      "text/plain": [
       "['classes_', 'coef_', 'intercept_', 'n_iter_']"
      ]
     },
     "execution_count": 442,
     "metadata": {},
     "output_type": "execute_result"
    }
   ],
   "source": [
    "estimated_params(clf)"
   ]
  },
  {
   "cell_type": "code",
   "execution_count": 443,
   "metadata": {
    "collapsed": false
   },
   "outputs": [
    {
     "data": {
      "text/plain": [
       "(array([[-0.03756041, -1.29748813]]), array([ 4.30808898]))"
      ]
     },
     "execution_count": 443,
     "metadata": {},
     "output_type": "execute_result"
    }
   ],
   "source": [
    "clf.coef_, clf.intercept_"
   ]
  },
  {
   "cell_type": "code",
   "execution_count": 444,
   "metadata": {
    "collapsed": false
   },
   "outputs": [
    {
     "data": {
      "text/plain": [
       "(array([0, 1]), array([11], dtype=int32))"
      ]
     },
     "execution_count": 444,
     "metadata": {},
     "output_type": "execute_result"
    }
   ],
   "source": [
    "clf.classes_, clf.n_iter_"
   ]
  },
  {
   "cell_type": "code",
   "execution_count": 36,
   "metadata": {
    "ExecuteTime": {
     "end_time": "2016-04-07T22:37:22.111828",
     "start_time": "2016-04-07T22:37:22.100648"
    },
    "collapsed": false
   },
   "outputs": [
    {
     "name": "stdout",
     "output_type": "stream",
     "text": [
      "Accuracy on Training Set: 0.774\n",
      "Accuracy on Validation Set: 0.760\n"
     ]
    }
   ],
   "source": [
    "y_train_pred = clf.predict(X_train)\n",
    "y_val_pred = clf.predict(X_val)\n",
    "\n",
    "print('Accuracy on Training Set: {:.3f}'.format(accuracy_score(y_train, y_train_pred)))\n",
    "print('Accuracy on Validation Set: {:.3f}'.format(accuracy_score(y_val, y_val_pred)))"
   ]
  },
  {
   "cell_type": "code",
   "execution_count": 37,
   "metadata": {
    "ExecuteTime": {
     "end_time": "2016-04-07T22:37:22.124707",
     "start_time": "2016-04-07T22:37:22.114990"
    },
    "collapsed": false
   },
   "outputs": [
    {
     "name": "stdout",
     "output_type": "stream",
     "text": [
      "[[93 13]\n",
      " [30 43]]\n"
     ]
    }
   ],
   "source": [
    "cm = confusion_matrix(y_val, y_val_pred)\n",
    "print(cm)"
   ]
  },
  {
   "cell_type": "code",
   "execution_count": 38,
   "metadata": {
    "ExecuteTime": {
     "end_time": "2016-04-07T22:37:22.137468",
     "start_time": "2016-04-07T22:37:22.128605"
    },
    "collapsed": false
   },
   "outputs": [
    {
     "name": "stdout",
     "output_type": "stream",
     "text": [
      "             precision    recall  f1-score   support\n",
      "\n",
      "          0       0.76      0.88      0.81       106\n",
      "          1       0.77      0.59      0.67        73\n",
      "\n",
      "avg / total       0.76      0.76      0.75       179\n",
      "\n"
     ]
    }
   ],
   "source": [
    "print(classification_report(y_val, y_val_pred))"
   ]
  },
  {
   "cell_type": "code",
   "execution_count": 39,
   "metadata": {
    "ExecuteTime": {
     "end_time": "2016-04-07T22:37:22.147786",
     "start_time": "2016-04-07T22:37:22.140694"
    },
    "collapsed": false
   },
   "outputs": [
    {
     "data": {
      "text/plain": [
       "1"
      ]
     },
     "execution_count": 39,
     "metadata": {},
     "output_type": "execute_result"
    }
   ],
   "source": [
    "X_val\n",
    "1"
   ]
  },
  {
   "cell_type": "code",
   "execution_count": 95,
   "metadata": {
    "ExecuteTime": {
     "end_time": "2016-04-07T22:37:22.173005",
     "start_time": "2016-04-07T22:37:22.150612"
    },
    "collapsed": false
   },
   "outputs": [
    {
     "data": {
      "text/plain": [
       "<matplotlib.colorbar.Colorbar at 0x11e126ef0>"
      ]
     },
     "execution_count": 95,
     "metadata": {},
     "output_type": "execute_result"
    },
    {
     "data": {
      "image/png": "[encoded data removed]",
      "text/plain": [
       "<matplotlib.figure.Figure at 0x11de7b550>"
      ]
     },
     "metadata": {},
     "output_type": "display_data"
    }
   ],
   "source": [
    "h = 0.02\n",
    "xmin, xmax = -5, 85\n",
    "ymin, ymax = 0.5, 4.5\n",
    "xx, yy = np.meshgrid(np.arange(xmin, xmax, h), np.arange(ymin, ymax, h))\n",
    "Z = clf.predict_proba(np.c_[xx.ravel(), yy.ravel()])[:, 1]\n",
    "Z = Z.reshape(xx.shape)\n",
    "\n",
    "levels = np.linspace(0, 1.0, 5)\n",
    "cm = plt.cm.RdBu\n",
    "cm_bright = ListedColormap(['#FF0000', '#0000FF'])\n",
    "\n",
    "ax = sns.stripplot(jitter=0.1,\n",
    "    data=_titanic, \n",
    "    x=\"age\", y=\"Unnamed 0\", hue=\"survived\", \n",
    "    alpha=0.5, palette=[\"red\", \"blue\"])\n",
    "\n",
    "contour = ax.contourf(xx, yy, Z, cmap=cm, levels=levels, alpha=0.8)\n",
    "fig.colorbar(contour)"
   ]
  },
  {
   "cell_type": "code",
   "execution_count": 60,
   "metadata": {
    "ExecuteTime": {
     "end_time": "2016-04-07T22:37:22.173827",
     "start_time": "2016-04-07T13:37:18.784Z"
    },
    "collapsed": false
   },
   "outputs": [
    {
     "data": {
      "text/plain": [
       "[<matplotlib.lines.Line2D at 0x123109b70>]"
      ]
     },
     "execution_count": 60,
     "metadata": {},
     "output_type": "execute_result"
    },
    {
     "data": {
      "image/png": "[encoded data removed]",
      "text/plain": [
       "<matplotlib.figure.Figure at 0x1230e84a8>"
      ]
     },
     "metadata": {},
     "output_type": "display_data"
    }
   ],
   "source": [
    "h = 0.02\n",
    "xmin, xmax = -5, 85\n",
    "ymin, ymax = 0.5, 4.5\n",
    "xx, yy = np.meshgrid(np.arange(xmin, xmax, h), np.arange(ymin, ymax, h))\n",
    "Z = clf.predict_proba(np.c_[xx.ravel(), yy.ravel()])[:, 1]\n",
    "Z = Z.reshape(xx.shape)\n",
    "\n",
    "fig, ax = plt.subplots(figsize=(14, 6))\n",
    "levels = np.linspace(0, 1.0, 5)\n",
    "cm = plt.cm.RdBu\n",
    "cm_bright = ListedColormap(['#FF0000', '#0000FF'])\n",
    "contour = ax.contourf(xx, yy, Z, cmap=cm, levels=levels, alpha=0.8)\n",
    "ax.scatter(X_train.iloc[:, 0], X_train.iloc[:, 1]+(np.random.rand(len(X_train))-0.5)*0.1, c=y_train, cmap=cm_bright)\n",
    "ax.scatter(X_val.iloc[:, 0], X_val.iloc[:, 1]+(np.random.rand(len(X_val))-0.5)*0.1, c=y_val, cmap=cm_bright, alpha=0.5)\n",
    "ax.set_xlabel('AgeFill')\n",
    "ax.set_ylabel('Pclass_Gender')\n",
    "ax.set_xlim(xmin, xmax)\n",
    "ax.set_ylim(ymin, ymax)\n",
    "fig.colorbar(contour)\n",
    "\n",
    "x1 = xmin\n",
    "x2 = xmax\n",
    "y1 = -1*(clf.intercept_[0]+clf.coef_[0][0]*xmin)/clf.coef_[0][1]\n",
    "y2 = -1*(clf.intercept_[0]+clf.coef_[0][0]*xmax)/clf.coef_[0][1]\n",
    "ax.plot([xmin, xmax] ,[y1, y2], 'k--')"
   ]
  },
  {
   "cell_type": "code",
   "execution_count": 96,
   "metadata": {
    "collapsed": false
   },
   "outputs": [
    {
     "data": {
      "image/png": "[encoded data removed]",
      "text/plain": [
       "<matplotlib.figure.Figure at 0x124c99c88>"
      ]
     },
     "metadata": {},
     "output_type": "display_data"
    }
   ],
   "source": [
    "clf_log = LogisticRegression()\n",
    "clf_svc_lin = SVC(kernel='linear', probability=True)\n",
    "clf_svc_rbf = SVC(kernel='rbf', probability=True)\n",
    "titles = ['Logistic Regression', 'SVC with Linear Kernel', 'SVC with RBF Kernel',]\n",
    "\n",
    "h = 0.02\n",
    "xmin, xmax = -5, 85\n",
    "ymin, ymax = 0.5, 4.5\n",
    "xx, yy = np.meshgrid(np.arange(xmin, xmax, h), np.arange(ymin, ymax, h))\n",
    "\n",
    "fig, axes = plt.subplots(1, 3, figsize=(12,4))\n",
    "levels = np.linspace(0, 1.0, 5)\n",
    "cm = plt.cm.RdBu\n",
    "cm_bright = ListedColormap(['#FF0000', '#0000FF'])\n",
    "for i, clf in enumerate((clf_log, clf_svc_lin, clf_svc_rbf)):\n",
    "    clf.fit(X, y)\n",
    "    Z = clf.predict(np.c_[xx.ravel(), yy.ravel()])\n",
    "    Z = Z.reshape(xx.shape)\n",
    "    axes[i].contourf(xx, yy, Z, cmap=cm, levels=levels, alpha=0.8)\n",
    "    axes[i].scatter(X.iloc[:, 0], X.iloc[:, 1], c=y, cmap=cm_bright)\n",
    "    axes[i].set_title(titles[i])\n",
    "    axes[i].set_xlabel('AgeFill')\n",
    "    axes[i].set_ylabel('Pclass_Gender')\n",
    "    axes[i].set_xlim(xmin, xmax)\n",
    "    axes[i].set_ylim(ymin, ymax)\n",
    "    fig.tight_layout()"
   ]
  },
  {
   "cell_type": "markdown",
   "metadata": {
    "collapsed": true
   },
   "source": [
    "## over fitting"
   ]
  },
  {
   "cell_type": "code",
   "execution_count": 446,
   "metadata": {
    "collapsed": false
   },
   "outputs": [
    {
     "data": {
      "text/plain": [
       "(0.80758426966292129, 0.7988826815642458)"
      ]
     },
     "execution_count": 446,
     "metadata": {},
     "output_type": "execute_result"
    }
   ],
   "source": [
    "clf = SVC(kernel='rbf', probability=True)\n",
    "clf.fit(X_train, y_train)\n",
    "\n",
    "y_train_pred = clf.predict(X_train)\n",
    "y_val_pred = clf.predict(X_val)\n",
    "\n",
    "accuracy_score(y_train, y_train_pred), accuracy_score(y_val, y_val_pred)"
   ]
  },
  {
   "cell_type": "code",
   "execution_count": 447,
   "metadata": {
    "collapsed": false
   },
   "outputs": [
    {
     "data": {
      "text/plain": [
       "['class_weight_',\n",
       " 'classes_',\n",
       " 'coef_',\n",
       " 'dual_coef_',\n",
       " 'fit_status_',\n",
       " 'intercept_',\n",
       " 'n_support_',\n",
       " 'probA_',\n",
       " 'probB_',\n",
       " 'shape_fit_',\n",
       " 'support_',\n",
       " 'support_vectors_']"
      ]
     },
     "execution_count": 447,
     "metadata": {},
     "output_type": "execute_result"
    }
   ],
   "source": [
    "estimated_params(clf)"
   ]
  },
  {
   "cell_type": "markdown",
   "metadata": {
    "collapsed": true
   },
   "source": [
    "## cross validation"
   ]
  },
  {
   "cell_type": "code",
   "execution_count": 98,
   "metadata": {
    "collapsed": false
   },
   "outputs": [
    {
     "data": {
      "text/plain": [
       "(0.7837078651685393, 0.74301675977653636)"
      ]
     },
     "execution_count": 98,
     "metadata": {},
     "output_type": "execute_result"
    }
   ],
   "source": [
    "X_train, X_val, y_train, y_val = train_test_split(X, y, train_size=0.8, random_state=33)\n",
    "\n",
    "clf = LogisticRegression()\n",
    "clf.fit(X_train, y_train)\n",
    "\n",
    "y_train_pred = clf.predict(X_train)\n",
    "y_val_pred = clf.predict(X_val)\n",
    "\n",
    "accuracy_score(y_train, y_train_pred), accuracy_score(y_val, y_val_pred)"
   ]
  },
  {
   "cell_type": "code",
   "execution_count": 100,
   "metadata": {
    "collapsed": true
   },
   "outputs": [],
   "source": [
    "def cross_val(clf, X, y, K, random_state=0):\n",
    "    cv = KFold(len(y), K, shuffle=True, random_state=random_state)\n",
    "    scores = cross_val_score(clf, X, y, cv=cv)\n",
    "    return scores"
   ]
  },
  {
   "cell_type": "code",
   "execution_count": 101,
   "metadata": {
    "collapsed": false
   },
   "outputs": [
    {
     "name": "stdout",
     "output_type": "stream",
     "text": [
      "Scores: [ 0.80446927  0.74719101  0.80337079  0.74719101  0.76966292]\n",
      "Mean Score: 0.774 (+/-0.051)\n"
     ]
    }
   ],
   "source": [
    "clf = LogisticRegression()\n",
    "scores = cross_val(clf, X, y, 5)\n",
    "print('Scores:', scores)\n",
    "print('Mean Score: {0:.3f} (+/-{1:.3f})'.format(scores.mean(), scores.std()*2))"
   ]
  },
  {
   "cell_type": "code",
   "execution_count": 137,
   "metadata": {
    "collapsed": false
   },
   "outputs": [
    {
     "data": {
      "text/plain": [
       "[[3, 2], [4, 1], [7, 6], [8, 5]]"
      ]
     },
     "execution_count": 137,
     "metadata": {},
     "output_type": "execute_result"
    }
   ],
   "source": [
    "(train_test_split([1,2,3,4], [5,6,7,8], train_size=0.5))"
   ]
  },
  {
   "cell_type": "code",
   "execution_count": 117,
   "metadata": {
    "collapsed": false
   },
   "outputs": [
    {
     "data": {
      "text/plain": [
       "[[4, 1], [2, 3], [8, 5], [6, 7]]"
      ]
     },
     "execution_count": 117,
     "metadata": {},
     "output_type": "execute_result"
    }
   ],
   "source": [
    "(train_test_split([1,2,3,4], [5,6,7,8], train_size=0.5, random_state=33))"
   ]
  },
  {
   "cell_type": "code",
   "execution_count": 198,
   "metadata": {
    "collapsed": false
   },
   "outputs": [
    {
     "data": {
      "text/plain": [
       "array([7, 3, 1, 5, 4, 8, 2, 0, 6])"
      ]
     },
     "execution_count": 198,
     "metadata": {},
     "output_type": "execute_result"
    }
   ],
   "source": [
    "shuffled = np.array(range(9))\n",
    "np.random.shuffle(shuffled)\n",
    "shuffled"
   ]
  },
  {
   "cell_type": "code",
   "execution_count": 219,
   "metadata": {
    "collapsed": false
   },
   "outputs": [
    {
     "data": {
      "text/plain": [
       "array([0, 1, 3, 4, 6, 2, 5, 7, 8])"
      ]
     },
     "execution_count": 219,
     "metadata": {},
     "output_type": "execute_result"
    }
   ],
   "source": [
    "random_state = np.random.RandomState(seed=0)\n",
    "random_state.shuffle(shuffled)\n",
    "shuffled"
   ]
  },
  {
   "cell_type": "code",
   "execution_count": 221,
   "metadata": {
    "collapsed": false,
    "scrolled": true
   },
   "outputs": [
    {
     "data": {
      "text/plain": [
       "sklearn.cross_validation.KFold(n=891, n_folds=5, shuffle=True, random_state=<mtrand.RandomState object at 0x1201d8438>)"
      ]
     },
     "execution_count": 221,
     "metadata": {},
     "output_type": "execute_result"
    }
   ],
   "source": [
    "# http://scikit-learn.org/stable/modules/generated/sklearn.cross_validation.KFold.html\n",
    "KFold(len(y), 5, shuffle=True, random_state=random_state)"
   ]
  },
  {
   "cell_type": "code",
   "execution_count": 223,
   "metadata": {
    "collapsed": false
   },
   "outputs": [
    {
     "data": {
      "text/plain": [
       "array([ 0.7150838 ,  0.75418994,  0.82022472,  0.79213483,  0.79661017])"
      ]
     },
     "execution_count": 223,
     "metadata": {},
     "output_type": "execute_result"
    }
   ],
   "source": [
    "# http://scikit-learn.org/stable/modules/cross_validation.html\n",
    "# http://scikit-learn.org/stable/modules/generated/sklearn.cross_validation.cross_val_score.html\n",
    "cross_val_score(LogisticRegression(), X, y, cv=5)"
   ]
  },
  {
   "cell_type": "code",
   "execution_count": 238,
   "metadata": {
    "collapsed": false
   },
   "outputs": [
    {
     "name": "stdout",
     "output_type": "stream",
     "text": [
      "sklearn.cross_validation.KFold(n=891, n_folds=5, shuffle=True, random_state=<mtrand.RandomState object at 0x1201d8438>) \n",
      "\n",
      "0\n",
      "[  0   1   2   3   5   6   8   9  10  11  12  13  14  15  17  19  20  21\n",
      "  23  25  26  27  28  29  32  34  35  36  39  40  41  42  43  44  47  48\n",
      "  49  51  52  53  54  55  56  57  58  59  60  62  65  68  69  71  73  74\n",
      "  75  77  78  79  80  81  82  84  86  87  88  89  90  92  93  94  97  98\n",
      "  99 100 101 102 103 106 107 108 109 110 113 114 115 116 117 119 120 122\n",
      " 123 124 125 127 128 129 130 131 132 133 135 136 137 138 139 140 141 142\n",
      " 143 144 145 146 147 148 149 150 151 152 153 155 156 157 158 159 160 161\n",
      " 162 163 164 165 166 167 168 169 170 171 174 175 176 180 182 183 185 186\n",
      " 187 188 189 190 191 192 193 194 196 197 198 199 200 202 203 205 206 207\n",
      " 211 212 213 214 215 216 217 218 219 220 222 223 224 225 226 228 229 230\n",
      " 231 232 233 234 235 236 238 239 240 241 243 244 245 246 247 248 249 251\n",
      " 252 253 254 255 256 257 258 259 260 262 263 264 265 267 268 269 270 271\n",
      " 273 274 276 277 278 279 280 281 282 283 284 285 287 288 289 290 291 293\n",
      " 294 296 297 298 299 300 301 302 303 304 306 308 309 310 311 312 313 314\n",
      " 315 317 318 319 320 321 322 323 324 326 327 328 329 330 331 332 333 334\n",
      " 336 337 338 339 340 341 344 345 346 347 348 351 352 354 355 356 357 358\n",
      " 360 361 362 363 364 366 367 368 370 371 373 374 375 376 377 378 379 380\n",
      " 381 382 383 384 385 386 387 388 389 390 391 392 393 394 395 396 397 400\n",
      " 401 402 404 406 407 409 410 411 412 413 415 416 418 419 420 421 422 423\n",
      " 424 425 428 429 430 431 432 433 434 435 436 437 438 439 440 441 444 446\n",
      " 447 448 450 451 452 453 454 455 456 457 459 460 461 462 465 466 467 468\n",
      " 469 470 471 472 473 474 475 476 478 479 480 481 482 483 484 485 487 490\n",
      " 491 492 493 495 496 497 498 499 500 501 502 503 505 506 513 514 515 516\n",
      " 517 518 520 521 522 523 524 525 531 532 533 534 535 537 538 539 540 541\n",
      " 543 544 545 546 547 548 549 550 551 552 553 554 555 556 557 559 560 561\n",
      " 563 564 565 568 570 571 576 577 578 579 580 581 582 584 585 586 590 592\n",
      " 594 595 596 598 599 600 601 603 604 605 606 609 611 613 614 615 616 617\n",
      " 618 620 621 622 625 626 627 628 629 630 631 632 633 634 635 636 637 638\n",
      " 639 643 644 645 646 647 648 649 650 651 654 655 656 657 659 660 661 662\n",
      " 663 664 665 666 667 668 669 670 671 672 673 674 675 676 677 678 679 680\n",
      " 681 683 684 685 686 687 688 689 690 693 694 695 696 697 700 701 702 703\n",
      " 705 706 708 709 710 711 713 714 715 716 717 718 719 720 721 722 724 725\n",
      " 726 727 728 729 730 731 733 734 736 737 738 739 740 741 742 743 744 745\n",
      " 747 748 749 750 751 754 755 756 757 759 760 764 765 766 767 768 769 770\n",
      " 771 772 774 775 777 778 779 780 781 782 783 784 785 786 787 788 789 792\n",
      " 793 794 795 796 797 798 799 800 804 805 806 807 808 810 811 812 813 814\n",
      " 816 817 818 819 820 821 822 823 824 825 826 827 828 829 830 831 832 833\n",
      " 834 835 837 839 840 841 843 844 847 848 849 850 851 852 853 854 856 857\n",
      " 858 859 860 861 864 865 866 867 868 870 871 872 873 874 875 876 877 878\n",
      " 879 880 881 882 883 886 887 888 889 890]\n",
      "[  4   7  16  18  22  24  30  31  33  37  38  45  46  50  61  63  64  66\n",
      "  67  70  72  76  83  85  91  95  96 104 105 111 112 118 121 126 134 154\n",
      " 172 173 177 178 179 181 184 195 201 204 208 209 210 221 227 237 242 250\n",
      " 261 266 272 275 286 292 295 305 307 316 325 335 342 343 349 350 353 359\n",
      " 365 369 372 398 399 403 405 408 414 417 426 427 442 443 445 449 458 463\n",
      " 464 477 486 488 489 494 504 507 508 509 510 511 512 519 526 527 528 529\n",
      " 530 536 542 558 562 566 567 569 572 573 574 575 583 587 588 589 591 593\n",
      " 597 602 607 608 610 612 619 623 624 640 641 642 652 653 658 682 691 692\n",
      " 698 699 704 707 712 723 732 735 746 752 753 758 761 762 763 773 776 790\n",
      " 791 801 802 803 809 815 836 838 842 845 846 855 862 863 869 884 885]\n",
      "1\n",
      "[  0   1   2   4   5   6   7   8  10  11  12  13  14  15  16  18  20  21\n",
      "  22  24  25  28  29  30  31  33  34  35  36  37  38  39  40  42  43  44\n",
      "  45  46  47  48  49  50  51  52  53  56  57  58  59  60  61  62  63  64\n",
      "  65  66  67  69  70  71  72  73  74  76  77  78  79  80  81  82  83  84\n",
      "  85  86  87  88  89  90  91  92  93  94  95  96  97  98  99 100 101 102\n",
      " 103 104 105 106 107 109 111 112 113 116 117 118 119 120 121 122 124 126\n",
      " 127 129 130 131 132 133 134 135 136 138 139 141 142 143 144 145 146 147\n",
      " 151 152 154 155 156 157 158 159 160 162 164 165 168 170 171 172 173 175\n",
      " 176 177 178 179 180 181 182 184 185 186 187 188 189 190 194 195 197 199\n",
      " 200 201 202 203 204 205 206 207 208 209 210 212 213 214 215 216 217 219\n",
      " 221 222 223 224 225 227 228 229 230 231 232 234 235 236 237 239 241 242\n",
      " 243 244 245 248 250 251 252 254 255 256 258 259 260 261 263 264 265 266\n",
      " 267 269 270 271 272 273 274 275 278 279 280 282 283 284 285 286 287 290\n",
      " 292 293 294 295 296 297 299 301 302 303 305 306 307 309 312 313 314 316\n",
      " 319 320 321 322 323 324 325 327 328 329 330 331 332 333 335 338 339 340\n",
      " 341 342 343 344 345 346 347 349 350 351 352 353 354 355 356 357 358 359\n",
      " 360 361 362 363 364 365 366 367 369 370 371 372 373 374 375 376 377 378\n",
      " 379 380 381 382 383 386 387 388 392 393 394 395 396 398 399 400 402 403\n",
      " 404 405 406 407 408 411 412 413 414 415 417 418 419 420 421 422 423 424\n",
      " 425 426 427 428 430 431 432 433 434 435 438 439 440 441 442 443 444 445\n",
      " 446 447 448 449 450 451 452 453 455 456 457 458 460 461 462 463 464 466\n",
      " 467 468 469 470 471 472 473 476 477 479 480 481 482 483 484 486 487 488\n",
      " 489 490 491 492 493 494 496 497 498 499 500 501 502 503 504 507 508 509\n",
      " 510 511 512 514 515 516 517 518 519 521 522 523 524 525 526 527 528 529\n",
      " 530 531 532 533 534 535 536 538 539 540 542 543 544 545 546 547 549 550\n",
      " 551 552 553 554 555 556 557 558 559 560 561 562 563 565 566 567 568 569\n",
      " 571 572 573 574 575 576 577 578 581 583 585 586 587 588 589 591 593 594\n",
      " 595 597 598 599 600 602 603 604 605 606 607 608 609 610 611 612 613 615\n",
      " 616 617 618 619 621 623 624 625 626 627 628 629 630 631 632 633 634 636\n",
      " 637 639 640 641 642 643 644 645 646 647 649 650 651 652 653 654 655 657\n",
      " 658 659 660 661 662 665 667 672 673 674 678 680 682 683 687 689 690 691\n",
      " 692 693 695 696 697 698 699 700 704 705 706 707 708 709 711 712 714 715\n",
      " 716 717 722 723 724 725 727 731 732 733 734 735 737 738 739 740 741 742\n",
      " 743 744 746 747 748 749 750 751 752 753 754 755 758 759 760 761 762 763\n",
      " 765 766 767 769 770 771 772 773 774 776 778 779 780 781 782 783 784 787\n",
      " 788 789 790 791 792 793 794 795 799 801 802 803 805 807 808 809 810 811\n",
      " 813 814 815 816 818 819 821 822 823 824 825 827 829 830 831 832 833 834\n",
      " 835 836 837 838 840 841 842 843 844 845 846 847 848 851 853 854 855 856\n",
      " 857 858 859 860 861 862 863 864 865 866 867 869 870 871 872 873 874 875\n",
      " 877 878 879 880 881 884 885 886 888 889 890]\n",
      "[  3   9  17  19  23  26  27  32  41  54  55  68  75 108 110 114 115 123\n",
      " 125 128 137 140 148 149 150 153 161 163 166 167 169 174 183 191 192 193\n",
      " 196 198 211 218 220 226 233 238 240 246 247 249 253 257 262 268 276 277\n",
      " 281 288 289 291 298 300 304 308 310 311 315 317 318 326 334 336 337 348\n",
      " 368 384 385 389 390 391 397 401 409 410 416 429 436 437 454 459 465 474\n",
      " 475 478 485 495 505 506 513 520 537 541 548 564 570 579 580 582 584 590\n",
      " 592 596 601 614 620 622 635 638 648 656 663 664 666 668 669 670 671 675\n",
      " 676 677 679 681 684 685 686 688 694 701 702 703 710 713 718 719 720 721\n",
      " 726 728 729 730 736 745 756 757 764 768 775 777 785 786 796 797 798 800\n",
      " 804 806 812 817 820 826 828 839 849 850 852 868 876 882 883 887]\n",
      "2\n",
      "[  0   1   2   3   4   5   6   7   9  10  11  12  13  14  15  16  17  18\n",
      "  19  20  21  22  23  24  25  26  27  28  30  31  32  33  34  36  37  38\n",
      "  39  40  41  43  44  45  46  47  48  49  50  52  54  55  56  57  61  62\n",
      "  63  64  66  67  68  69  70  72  73  74  75  76  77  78  79  80  81  82\n",
      "  83  84  85  86  87  88  89  90  91  92  93  94  95  96  97  99 101 103\n",
      " 104 105 108 109 110 111 112 113 114 115 116 117 118 119 120 121 123 124\n",
      " 125 126 128 129 130 131 132 133 134 135 136 137 139 140 141 144 145 147\n",
      " 148 149 150 152 153 154 155 156 157 159 160 161 162 163 165 166 167 169\n",
      " 170 171 172 173 174 175 177 178 179 180 181 182 183 184 186 189 191 192\n",
      " 193 195 196 198 199 200 201 202 203 204 205 206 208 209 210 211 213 215\n",
      " 216 217 218 219 220 221 223 225 226 227 229 230 231 233 236 237 238 239\n",
      " 240 242 243 244 246 247 248 249 250 252 253 254 256 257 258 261 262 264\n",
      " 265 266 267 268 269 272 274 275 276 277 278 279 280 281 283 284 286 287\n",
      " 288 289 290 291 292 293 294 295 297 298 300 301 302 304 305 307 308 310\n",
      " 311 312 313 315 316 317 318 321 322 323 325 326 329 330 331 333 334 335\n",
      " 336 337 338 340 341 342 343 344 346 347 348 349 350 351 352 353 355 356\n",
      " 358 359 364 365 366 367 368 369 370 371 372 373 375 377 378 380 382 384\n",
      " 385 388 389 390 391 392 393 394 395 397 398 399 400 401 402 403 405 407\n",
      " 408 409 410 411 412 414 415 416 417 418 420 421 422 423 426 427 429 432\n",
      " 433 434 436 437 438 439 440 442 443 445 446 447 448 449 451 452 453 454\n",
      " 455 456 458 459 460 463 464 465 467 468 470 471 472 473 474 475 476 477\n",
      " 478 480 481 482 483 484 485 486 488 489 490 491 492 493 494 495 496 497\n",
      " 498 499 500 501 502 503 504 505 506 507 508 509 510 511 512 513 514 517\n",
      " 519 520 522 523 525 526 527 528 529 530 533 534 535 536 537 538 539 540\n",
      " 541 542 543 544 545 546 547 548 550 551 552 553 554 555 558 559 562 564\n",
      " 565 566 567 569 570 571 572 573 574 575 578 579 580 582 583 584 587 588\n",
      " 589 590 591 592 593 595 596 597 599 600 601 602 605 606 607 608 609 610\n",
      " 611 612 613 614 616 617 619 620 621 622 623 624 628 629 630 631 633 634\n",
      " 635 637 638 640 641 642 643 644 646 647 648 649 651 652 653 656 657 658\n",
      " 659 660 661 662 663 664 665 666 667 668 669 670 671 672 673 674 675 676\n",
      " 677 678 679 681 682 683 684 685 686 687 688 690 691 692 693 694 695 696\n",
      " 698 699 701 702 703 704 707 708 710 711 712 713 715 718 719 720 721 722\n",
      " 723 725 726 727 728 729 730 732 733 734 735 736 738 742 743 745 746 747\n",
      " 748 750 751 752 753 754 755 756 757 758 759 760 761 762 763 764 765 767\n",
      " 768 769 770 772 773 774 775 776 777 778 779 780 781 782 783 785 786 787\n",
      " 788 790 791 792 793 794 796 797 798 799 800 801 802 803 804 806 807 808\n",
      " 809 812 813 814 815 816 817 818 819 820 821 823 825 826 827 828 829 830\n",
      " 831 832 833 836 838 839 840 841 842 844 845 846 847 848 849 850 852 853\n",
      " 855 856 857 859 860 861 862 863 864 866 867 868 869 871 872 873 874 875\n",
      " 876 878 880 882 883 884 885 886 887 889 890]\n",
      "[  8  29  35  42  51  53  58  59  60  65  71  98 100 102 106 107 122 127\n",
      " 138 142 143 146 151 158 164 168 176 185 187 188 190 194 197 207 212 214\n",
      " 222 224 228 232 234 235 241 245 251 255 259 260 263 270 271 273 282 285\n",
      " 296 299 303 306 309 314 319 320 324 327 328 332 339 345 354 357 360 361\n",
      " 362 363 374 376 379 381 383 386 387 396 404 406 413 419 424 425 428 430\n",
      " 431 435 441 444 450 457 461 462 466 469 479 487 515 516 518 521 524 531\n",
      " 532 549 556 557 560 561 563 568 576 577 581 585 586 594 598 603 604 615\n",
      " 618 625 626 627 632 636 639 645 650 654 655 680 689 697 700 705 706 709\n",
      " 714 716 717 724 731 737 739 740 741 744 749 766 771 784 789 795 805 810\n",
      " 811 822 824 834 835 837 843 851 854 858 865 870 877 879 881 888]\n",
      "3\n",
      "[  3   4   7   8   9  10  13  14  15  16  17  18  19  20  21  22  23  24\n",
      "  25  26  27  29  30  31  32  33  34  35  37  38  39  40  41  42  45  46\n",
      "  47  48  50  51  53  54  55  56  57  58  59  60  61  62  63  64  65  66\n",
      "  67  68  70  71  72  73  75  76  77  78  79  80  82  83  84  85  86  87\n",
      "  88  89  90  91  95  96  98 100 101 102 103 104 105 106 107 108 109 110\n",
      " 111 112 113 114 115 117 118 120 121 122 123 125 126 127 128 130 132 134\n",
      " 135 137 138 139 140 141 142 143 145 146 147 148 149 150 151 152 153 154\n",
      " 155 156 158 159 160 161 162 163 164 165 166 167 168 169 171 172 173 174\n",
      " 175 176 177 178 179 181 182 183 184 185 186 187 188 189 190 191 192 193\n",
      " 194 195 196 197 198 201 202 204 207 208 209 210 211 212 214 215 216 217\n",
      " 218 220 221 222 224 226 227 228 230 232 233 234 235 237 238 239 240 241\n",
      " 242 243 244 245 246 247 249 250 251 253 255 257 259 260 261 262 263 264\n",
      " 265 266 268 269 270 271 272 273 274 275 276 277 281 282 283 285 286 288\n",
      " 289 290 291 292 293 295 296 297 298 299 300 303 304 305 306 307 308 309\n",
      " 310 311 312 313 314 315 316 317 318 319 320 321 322 323 324 325 326 327\n",
      " 328 331 332 334 335 336 337 339 340 342 343 344 345 346 348 349 350 352\n",
      " 353 354 357 359 360 361 362 363 364 365 366 367 368 369 370 371 372 374\n",
      " 375 376 378 379 380 381 383 384 385 386 387 389 390 391 392 395 396 397\n",
      " 398 399 401 402 403 404 405 406 407 408 409 410 413 414 416 417 418 419\n",
      " 420 422 423 424 425 426 427 428 429 430 431 432 433 434 435 436 437 439\n",
      " 441 442 443 444 445 446 448 449 450 452 453 454 457 458 459 460 461 462\n",
      " 463 464 465 466 467 469 470 473 474 475 477 478 479 480 481 484 485 486\n",
      " 487 488 489 492 494 495 497 499 500 501 503 504 505 506 507 508 509 510\n",
      " 511 512 513 514 515 516 517 518 519 520 521 522 523 524 526 527 528 529\n",
      " 530 531 532 534 535 536 537 540 541 542 546 548 549 550 551 556 557 558\n",
      " 560 561 562 563 564 565 566 567 568 569 570 571 572 573 574 575 576 577\n",
      " 578 579 580 581 582 583 584 585 586 587 588 589 590 591 592 593 594 596\n",
      " 597 598 601 602 603 604 605 606 607 608 609 610 611 612 614 615 616 618\n",
      " 619 620 621 622 623 624 625 626 627 628 631 632 633 635 636 638 639 640\n",
      " 641 642 644 645 647 648 650 651 652 653 654 655 656 657 658 661 663 664\n",
      " 666 667 668 669 670 671 673 675 676 677 678 679 680 681 682 684 685 686\n",
      " 687 688 689 691 692 693 694 697 698 699 700 701 702 703 704 705 706 707\n",
      " 709 710 711 712 713 714 715 716 717 718 719 720 721 722 723 724 725 726\n",
      " 727 728 729 730 731 732 735 736 737 738 739 740 741 744 745 746 748 749\n",
      " 751 752 753 756 757 758 759 760 761 762 763 764 766 767 768 769 771 772\n",
      " 773 774 775 776 777 778 784 785 786 789 790 791 794 795 796 797 798 800\n",
      " 801 802 803 804 805 806 808 809 810 811 812 813 815 816 817 820 822 823\n",
      " 824 826 828 830 832 833 834 835 836 837 838 839 842 843 845 846 849 850\n",
      " 851 852 854 855 856 858 859 860 861 862 863 865 867 868 869 870 876 877\n",
      " 878 879 881 882 883 884 885 886 887 888 889]\n",
      "[  0   1   2   5   6  11  12  28  36  43  44  49  52  69  74  81  92  93\n",
      "  94  97  99 116 119 124 129 131 133 136 144 157 170 180 199 200 203 205\n",
      " 206 213 219 223 225 229 231 236 248 252 254 256 258 267 278 279 280 284\n",
      " 287 294 301 302 329 330 333 338 341 347 351 355 356 358 373 377 382 388\n",
      " 393 394 400 411 412 415 421 438 440 447 451 455 456 468 471 472 476 482\n",
      " 483 490 491 493 496 498 502 525 533 538 539 543 544 545 547 552 553 554\n",
      " 555 559 595 599 600 613 617 629 630 634 637 643 646 649 659 660 662 665\n",
      " 672 674 683 690 695 696 708 733 734 742 743 747 750 754 755 765 770 779\n",
      " 780 781 782 783 787 788 792 793 799 807 814 818 819 821 825 827 829 831\n",
      " 840 841 844 847 848 853 857 864 866 871 872 873 874 875 880 890]\n",
      "4\n",
      "[  0   1   2   3   4   5   6   7   8   9  11  12  16  17  18  19  22  23\n",
      "  24  26  27  28  29  30  31  32  33  35  36  37  38  41  42  43  44  45\n",
      "  46  49  50  51  52  53  54  55  58  59  60  61  63  64  65  66  67  68\n",
      "  69  70  71  72  74  75  76  81  83  85  91  92  93  94  95  96  97  98\n",
      "  99 100 102 104 105 106 107 108 110 111 112 114 115 116 118 119 121 122\n",
      " 123 124 125 126 127 128 129 131 133 134 136 137 138 140 142 143 144 146\n",
      " 148 149 150 151 153 154 157 158 161 163 164 166 167 168 169 170 172 173\n",
      " 174 176 177 178 179 180 181 183 184 185 187 188 190 191 192 193 194 195\n",
      " 196 197 198 199 200 201 203 204 205 206 207 208 209 210 211 212 213 214\n",
      " 218 219 220 221 222 223 224 225 226 227 228 229 231 232 233 234 235 236\n",
      " 237 238 240 241 242 245 246 247 248 249 250 251 252 253 254 255 256 257\n",
      " 258 259 260 261 262 263 266 267 268 270 271 272 273 275 276 277 278 279\n",
      " 280 281 282 284 285 286 287 288 289 291 292 294 295 296 298 299 300 301\n",
      " 302 303 304 305 306 307 308 309 310 311 314 315 316 317 318 319 320 324\n",
      " 325 326 327 328 329 330 332 333 334 335 336 337 338 339 341 342 343 345\n",
      " 347 348 349 350 351 353 354 355 356 357 358 359 360 361 362 363 365 368\n",
      " 369 372 373 374 376 377 379 381 382 383 384 385 386 387 388 389 390 391\n",
      " 393 394 396 397 398 399 400 401 403 404 405 406 408 409 410 411 412 413\n",
      " 414 415 416 417 419 421 424 425 426 427 428 429 430 431 435 436 437 438\n",
      " 440 441 442 443 444 445 447 449 450 451 454 455 456 457 458 459 461 462\n",
      " 463 464 465 466 468 469 471 472 474 475 476 477 478 479 482 483 485 486\n",
      " 487 488 489 490 491 493 494 495 496 498 502 504 505 506 507 508 509 510\n",
      " 511 512 513 515 516 518 519 520 521 524 525 526 527 528 529 530 531 532\n",
      " 533 536 537 538 539 541 542 543 544 545 547 548 549 552 553 554 555 556\n",
      " 557 558 559 560 561 562 563 564 566 567 568 569 570 572 573 574 575 576\n",
      " 577 579 580 581 582 583 584 585 586 587 588 589 590 591 592 593 594 595\n",
      " 596 597 598 599 600 601 602 603 604 607 608 610 612 613 614 615 617 618\n",
      " 619 620 622 623 624 625 626 627 629 630 632 634 635 636 637 638 639 640\n",
      " 641 642 643 645 646 648 649 650 652 653 654 655 656 658 659 660 662 663\n",
      " 664 665 666 668 669 670 671 672 674 675 676 677 679 680 681 682 683 684\n",
      " 685 686 688 689 690 691 692 694 695 696 697 698 699 700 701 702 703 704\n",
      " 705 706 707 708 709 710 712 713 714 716 717 718 719 720 721 723 724 726\n",
      " 728 729 730 731 732 733 734 735 736 737 739 740 741 742 743 744 745 746\n",
      " 747 749 750 752 753 754 755 756 757 758 761 762 763 764 765 766 768 770\n",
      " 771 773 775 776 777 779 780 781 782 783 784 785 786 787 788 789 790 791\n",
      " 792 793 795 796 797 798 799 800 801 802 803 804 805 806 807 809 810 811\n",
      " 812 814 815 817 818 819 820 821 822 824 825 826 827 828 829 831 834 835\n",
      " 836 837 838 839 840 841 842 843 844 845 846 847 848 849 850 851 852 853\n",
      " 854 855 857 858 862 863 864 865 866 868 869 870 871 872 873 874 875 876\n",
      " 877 879 880 881 882 883 884 885 887 888 890]\n",
      "[ 10  13  14  15  20  21  25  34  39  40  47  48  56  57  62  73  77  78\n",
      "  79  80  82  84  86  87  88  89  90 101 103 109 113 117 120 130 132 135\n",
      " 139 141 145 147 152 155 156 159 160 162 165 171 175 182 186 189 202 215\n",
      " 216 217 230 239 243 244 264 265 269 274 283 290 293 297 312 313 321 322\n",
      " 323 331 340 344 346 352 364 366 367 370 371 375 378 380 392 395 402 407\n",
      " 418 420 422 423 432 433 434 439 446 448 452 453 460 467 470 473 480 481\n",
      " 484 492 497 499 500 501 503 514 517 522 523 534 535 540 546 550 551 565\n",
      " 571 578 605 606 609 611 616 621 628 631 633 644 647 651 657 661 667 673\n",
      " 678 687 693 711 715 722 725 727 738 748 751 759 760 767 769 772 774 778\n",
      " 794 808 813 816 823 830 832 833 856 859 860 861 867 878 886 889]\n"
     ]
    }
   ],
   "source": [
    "kf = KFold(len(y), 5, shuffle=True, random_state=random_state)\n",
    "print(kf, \"\\n\")\n",
    "for i, (kf_train, kf_test) in enumerate(kf):\n",
    "    print(i)\n",
    "    print(kf_train)\n",
    "    print(kf_test)\n",
    "    "
   ]
  },
  {
   "cell_type": "code",
   "execution_count": 228,
   "metadata": {
    "collapsed": false,
    "scrolled": true
   },
   "outputs": [
    {
     "data": {
      "text/plain": [
       "sklearn.cross_validation.StratifiedKFold(labels=[0 1 1 1 0 0 0 0 1 1 1 1 0 0 0 1 0 1 0 1 0 1 1 1 0 1 0 0 1 0 0 1 1 0 0 0 1\n",
       " 0 0 1 0 0 0 1 1 0 0 1 0 0 0 0 1 1 0 1 1 0 1 0 0 1 0 0 0 1 1 0 1 0 0 0 0 0\n",
       " 1 0 0 0 1 1 0 1 1 0 1 1 0 0 1 0 0 0 0 0 0 0 0 1 1 0 0 0 0 0 0 0 1 1 0 1 0\n",
       " 0 0 0 0 0 0 0 0 0 0 0 0 1 0 1 0 1 1 0 0 0 0 1 0 0 1 0 0 0 0 1 1 0 0 0 1 0\n",
       " 0 0 0 1 0 0 0 0 1 0 0 0 0 1 0 0 0 1 1 0 0 0 0 0 1 0 0 0 0 0 0 0 0 0 0 1 1\n",
       " 0 1 1 0 0 1 0 1 1 1 1 0 0 1 0 0 0 0 0 1 0 0 1 1 1 0 1 0 0 0 1 1 0 1 0 1 0\n",
       " 0 0 1 0 1 0 0 0 1 0 0 1 0 0 0 1 0 0 0 1 0 0 0 0 0 1 1 0 0 0 0 0 0 1 1 1 1\n",
       " 1 0 1 0 0 0 0 0 1 1 1 0 1 1 0 1 1 0 0 0 1 0 0 0 1 0 0 1 0 1 1 1 1 0 0 0 0\n",
       " 0 0 1 1 1 1 0 1 0 1 1 1 0 1 1 1 0 0 0 1 1 0 1 1 0 0 1 1 0 1 0 1 1 1 1 0 0\n",
       " 0 1 0 0 1 1 0 1 1 0 0 0 1 1 1 1 0 0 0 0 0 0 0 1 0 1 1 0 0 0 0 0 0 1 1 1 1\n",
       " 1 0 0 0 0 1 1 0 0 0 1 1 0 1 0 0 0 1 0 1 1 1 0 1 1 0 0 0 0 1 1 0 0 0 0 0 0\n",
       " 1 0 0 0 0 1 0 1 0 1 1 0 0 0 0 0 0 0 0 1 1 0 1 1 1 1 0 0 1 0 1 0 0 1 0 0 1\n",
       " 1 1 1 1 1 1 0 0 0 1 0 1 0 1 1 0 1 0 0 0 0 0 0 0 0 1 0 0 1 1 0 0 0 0 0 1 0\n",
       " 0 0 1 1 0 1 0 0 1 0 0 0 0 0 0 1 0 0 0 0 0 0 0 1 0 1 1 0 1 1 0 1 1 0 0 1 0\n",
       " 1 0 1 0 0 1 0 0 1 0 0 0 1 0 0 1 0 1 0 1 0 1 1 0 0 1 0 0 1 1 0 1 1 0 0 1 1\n",
       " 0 1 0 1 1 0 0 0 0 0 0 0 0 0 1 1 1 1 1 0 0 1 1 0 1 1 1 0 0 0 1 0 1 0 0 0 1\n",
       " 0 0 0 0 1 0 0 1 1 0 0 0 1 0 0 1 1 1 0 0 1 0 0 1 0 0 1 0 0 1 1 0 0 0 0 1 0\n",
       " 0 1 0 1 0 0 1 0 0 0 0 0 1 0 1 1 1 0 1 0 1 0 1 0 1 0 0 0 0 0 0 1 0 0 0 1 0\n",
       " 0 0 0 1 1 0 0 1 0 0 0 1 0 1 0 1 0 0 0 0 0 0 0 1 1 1 1 0 0 0 0 1 0 0 1 1 0\n",
       " 0 0 0 1 1 1 1 1 0 1 0 0 0 1 1 0 0 1 0 0 0 1 0 1 1 0 0 1 0 0 0 0 0 0 1 0 0\n",
       " 1 0 1 0 1 0 0 1 0 0 1 1 0 0 1 1 0 0 0 1 0 0 1 1 0 1 0 0 0 0 0 0 0 0 1 0 0\n",
       " 1 0 1 1 1 0 0 0 0 1 0 1 0 0 0 0 0 0 0 1 1 0 0 0 1 1 1 1 0 0 0 0 1 0 0 0 0\n",
       " 0 0 0 0 0 0 1 1 0 1 0 0 0 1 1 1 1 1 0 0 0 1 0 0 1 1 0 0 1 0 0 0 0 0 0 1 0\n",
       " 0 0 1 0 1 1 1 1 0 0 0 1 0 0 1 1 0 0 1 0 1 0 0 1 1 0 0 0 1 1 0 0 0 0 0 0 1\n",
       " 0 1 0], n_folds=5, shuffle=True, random_state=<mtrand.RandomState object at 0x1201d8438>)"
      ]
     },
     "execution_count": 228,
     "metadata": {},
     "output_type": "execute_result"
    }
   ],
   "source": [
    "from sklearn.cross_validation import StratifiedKFold\n",
    "StratifiedKFold(y, 5, shuffle=True, random_state=random_state)"
   ]
  },
  {
   "cell_type": "code",
   "execution_count": 232,
   "metadata": {
    "collapsed": false
   },
   "outputs": [
    {
     "name": "stdout",
     "output_type": "stream",
     "text": [
      "sklearn.cross_validation.StratifiedKFold(labels=[0 0 1 1], n_folds=2, shuffle=False, random_state=None)\n",
      "TRAIN: [1 3] TEST: [0 2]\n",
      "TRAIN: [0 2] TEST: [1 3]\n"
     ]
    }
   ],
   "source": [
    "skf_x = np.array([[1, 2], [3, 4], [1, 2], [3, 4]])\n",
    "skf_y = np.array([0, 0, 1, 1])\n",
    "skf = StratifiedKFold(skf_y, n_folds=2)\n",
    "len(skf)\n",
    "\n",
    "print(skf)  \n",
    "\n",
    "\n",
    "for train_index, test_index in skf:\n",
    "    print(\"TRAIN:\", train_index, \"TEST:\", test_index)\n",
    "    skf_X_train, skf_X_test = skf_x[train_index], skf_x[test_index]\n",
    "    skf_y_train, skf_y_test = skf_y[train_index], skf_y[test_index]"
   ]
  },
  {
   "cell_type": "code",
   "execution_count": 222,
   "metadata": {
    "collapsed": true
   },
   "outputs": [],
   "source": [
    "cross_val_score?"
   ]
  },
  {
   "cell_type": "code",
   "execution_count": 454,
   "metadata": {
    "collapsed": false,
    "scrolled": false
   },
   "outputs": [],
   "source": [
    "# http://scikit-learn.org/stable/tutorial/statistical_inference/model_selection.html#cross-validated-estimators\n",
    "from sklearn.linear_model import LogisticRegressionCV\n",
    "#help(LogisticRegressionCV)"
   ]
  },
  {
   "cell_type": "code",
   "execution_count": null,
   "metadata": {
    "collapsed": true
   },
   "outputs": [],
   "source": []
  },
  {
   "cell_type": "code",
   "execution_count": 455,
   "metadata": {
    "collapsed": false
   },
   "outputs": [
    {
     "data": {
      "text/plain": [
       "(array([0, 2, 1, 0, 2, 1, 0, 2, 1, 0, 2, 1, 0, 2, 1]),\n",
       " array([0, 2, 1, 0, 2, 1, 0, 2, 1, 0, 2, 1, 0, 2, 1]),\n",
       " array(['a', 'b', 'c'], dtype=object))"
      ]
     },
     "execution_count": 455,
     "metadata": {},
     "output_type": "execute_result"
    }
   ],
   "source": [
    "# http://scikit-learn.org/stable/modules/generated/sklearn.preprocessing.LabelEncoder.html\n",
    "le = LabelEncoder()\n",
    "labels = pd.Series(list(\"acb\") * 5)\n",
    "#le.fit(labels)\n",
    "le.fit_transform(labels), le.transform(labels), le.inverse_transform([0,1,2])"
   ]
  },
  {
   "cell_type": "code",
   "execution_count": 261,
   "metadata": {
    "collapsed": false
   },
   "outputs": [
    {
     "data": {
      "text/plain": [
       "array([0, 2, 1, 0, 2, 1, 0, 2, 1, 0, 2, 1, 0, 2, 1])"
      ]
     },
     "execution_count": 261,
     "metadata": {},
     "output_type": "execute_result"
    }
   ],
   "source": [
    "le.fit_transform(labels)"
   ]
  },
  {
   "cell_type": "code",
   "execution_count": 449,
   "metadata": {
    "collapsed": false
   },
   "outputs": [
    {
     "data": {
      "text/plain": [
       "(['classes_'], array(['female', 'male'], dtype=object))"
      ]
     },
     "execution_count": 449,
     "metadata": {},
     "output_type": "execute_result"
    }
   ],
   "source": [
    "estimated_params(le), le.classes_"
   ]
  },
  {
   "cell_type": "code",
   "execution_count": 258,
   "metadata": {
    "collapsed": false
   },
   "outputs": [
    {
     "data": {
      "text/plain": [
       "(array(['a', 'b', 'c'], dtype=object), numpy.ndarray, {0: 'a', 1: 'b', 2: 'c'})"
      ]
     },
     "execution_count": 258,
     "metadata": {},
     "output_type": "execute_result"
    }
   ],
   "source": [
    "classes = {k: v for k, v in enumerate(le.classes_)}\n",
    "le.classes_, le.classes_.__class__, classes"
   ]
  },
  {
   "cell_type": "code",
   "execution_count": null,
   "metadata": {
    "collapsed": true
   },
   "outputs": [],
   "source": []
  },
  {
   "cell_type": "code",
   "execution_count": 269,
   "metadata": {
    "collapsed": false
   },
   "outputs": [
    {
     "data": {
      "text/html": [
       "<div>\n",
       "<table border=\"1\" class=\"dataframe\">\n",
       "  <thead>\n",
       "    <tr style=\"text-align: right;\">\n",
       "      <th></th>\n",
       "      <th>Pclass</th>\n",
       "      <th>SibSp</th>\n",
       "      <th>Parch</th>\n",
       "      <th>AgeFill</th>\n",
       "      <th>Gender</th>\n",
       "      <th>Embarked_C</th>\n",
       "      <th>Embarked_Q</th>\n",
       "      <th>Embarked_S</th>\n",
       "    </tr>\n",
       "  </thead>\n",
       "  <tbody>\n",
       "    <tr>\n",
       "      <th>886</th>\n",
       "      <td>2</td>\n",
       "      <td>0</td>\n",
       "      <td>0</td>\n",
       "      <td>27.000000</td>\n",
       "      <td>1</td>\n",
       "      <td>0.0</td>\n",
       "      <td>0.0</td>\n",
       "      <td>1.0</td>\n",
       "    </tr>\n",
       "    <tr>\n",
       "      <th>887</th>\n",
       "      <td>1</td>\n",
       "      <td>0</td>\n",
       "      <td>0</td>\n",
       "      <td>19.000000</td>\n",
       "      <td>0</td>\n",
       "      <td>0.0</td>\n",
       "      <td>0.0</td>\n",
       "      <td>1.0</td>\n",
       "    </tr>\n",
       "    <tr>\n",
       "      <th>888</th>\n",
       "      <td>3</td>\n",
       "      <td>1</td>\n",
       "      <td>2</td>\n",
       "      <td>29.699118</td>\n",
       "      <td>0</td>\n",
       "      <td>0.0</td>\n",
       "      <td>0.0</td>\n",
       "      <td>1.0</td>\n",
       "    </tr>\n",
       "    <tr>\n",
       "      <th>889</th>\n",
       "      <td>1</td>\n",
       "      <td>0</td>\n",
       "      <td>0</td>\n",
       "      <td>26.000000</td>\n",
       "      <td>1</td>\n",
       "      <td>1.0</td>\n",
       "      <td>0.0</td>\n",
       "      <td>0.0</td>\n",
       "    </tr>\n",
       "    <tr>\n",
       "      <th>890</th>\n",
       "      <td>3</td>\n",
       "      <td>0</td>\n",
       "      <td>0</td>\n",
       "      <td>32.000000</td>\n",
       "      <td>1</td>\n",
       "      <td>0.0</td>\n",
       "      <td>1.0</td>\n",
       "      <td>0.0</td>\n",
       "    </tr>\n",
       "  </tbody>\n",
       "</table>\n",
       "</div>"
      ],
      "text/plain": [
       "     Pclass  SibSp  Parch    AgeFill  Gender  Embarked_C  Embarked_Q  \\\n",
       "886       2      0      0  27.000000       1         0.0         0.0   \n",
       "887       1      0      0  19.000000       0         0.0         0.0   \n",
       "888       3      1      2  29.699118       0         0.0         0.0   \n",
       "889       1      0      0  26.000000       1         1.0         0.0   \n",
       "890       3      0      0  32.000000       1         0.0         1.0   \n",
       "\n",
       "     Embarked_S  \n",
       "886         1.0  \n",
       "887         1.0  \n",
       "888         1.0  \n",
       "889         0.0  \n",
       "890         0.0  "
      ]
     },
     "execution_count": 269,
     "metadata": {},
     "output_type": "execute_result"
    }
   ],
   "source": [
    "X = df_train[['Age', 'Pclass', 'Sex', 'SibSp', 'Parch', 'Embarked']].copy()\n",
    "y = df_train['Survived'].copy()\n",
    "X_test = df_test[['Age', 'Pclass', 'Sex', 'SibSp', 'Parch', 'Embarked']].copy()\n",
    "\n",
    "X['AgeFill'] = X['Age'].fillna(X['Age'].mean())\n",
    "X_test['AgeFill'] = X_test['Age'].fillna(X['Age'].mean())\n",
    "X = X.drop(['Age'], axis=1)\n",
    "X_test = X_test.drop(['Age'], axis=1)\n",
    "\n",
    "le = LabelEncoder()\n",
    "le.fit(X['Sex'])\n",
    "X['Gender'] = le.transform(X['Sex'])\n",
    "X_test['Gender'] = le.transform(X_test['Sex'])\n",
    "\n",
    "X = X.join(pd.get_dummies(X['Embarked'], prefix='Embarked'))\n",
    "X_test = X_test.join(pd.get_dummies(X['Embarked'], prefix='Embarked'))\n",
    "X = X.drop(['Sex', 'Embarked'], axis=1)\n",
    "X_test = X_test.drop(['Sex', 'Embarked'], axis=1)\n",
    "\n",
    "X.tail()"
   ]
  },
  {
   "cell_type": "code",
   "execution_count": 270,
   "metadata": {
    "collapsed": false
   },
   "outputs": [
    {
     "data": {
      "text/plain": [
       "(array([ 0.79329609,  0.78089888,  0.80337079,  0.81460674,  0.80337079]),\n",
       " 0.79910865607934212,\n",
       " 0.022661053339677807)"
      ]
     },
     "execution_count": 270,
     "metadata": {},
     "output_type": "execute_result"
    }
   ],
   "source": [
    "clf = LogisticRegression()\n",
    "scores = cross_val(clf, X, y, 5)\n",
    "scores, scores.mean(), scores.std()*2"
   ]
  },
  {
   "cell_type": "code",
   "execution_count": 450,
   "metadata": {
    "collapsed": false,
    "scrolled": true
   },
   "outputs": [
    {
     "name": "stdout",
     "output_type": "stream",
     "text": [
      "Scores: [ 0.78212291  0.76404494  0.79213483  0.78089888  0.7247191 ]\n",
      "Mean Score: 0.769 (+/-0.048)\n"
     ]
    }
   ],
   "source": [
    "clf = DecisionTreeClassifier(criterion='entropy', max_depth=2, min_samples_leaf=2)\n",
    "scores = cross_val(clf, X, y, 5)\n",
    "print('Scores:', scores)\n",
    "print('Mean Score: {0:.3f} (+/-{1:.3f})'.format(scores.mean(), scores.std()*2))"
   ]
  },
  {
   "cell_type": "code",
   "execution_count": 452,
   "metadata": {
    "collapsed": false
   },
   "outputs": [
    {
     "data": {
      "text/plain": [
       "['classes_',\n",
       " 'feature_importances_',\n",
       " 'max_features_',\n",
       " 'n_classes_',\n",
       " 'n_features_',\n",
       " 'n_outputs_',\n",
       " 'tree_']"
      ]
     },
     "execution_count": 452,
     "metadata": {},
     "output_type": "execute_result"
    }
   ],
   "source": [
    "estimated_params(clf)"
   ]
  },
  {
   "cell_type": "code",
   "execution_count": 451,
   "metadata": {
    "collapsed": false
   },
   "outputs": [
    {
     "data": {
      "text/plain": [
       "DecisionTreeClassifier(class_weight=None, criterion='entropy', max_depth=2,\n",
       "            max_features=None, max_leaf_nodes=None, min_samples_leaf=2,\n",
       "            min_samples_split=2, min_weight_fraction_leaf=0.0,\n",
       "            presort=False, random_state=None, splitter='best')"
      ]
     },
     "execution_count": 451,
     "metadata": {},
     "output_type": "execute_result"
    }
   ],
   "source": [
    "tree_clf = DecisionTreeClassifier(criterion='entropy', max_depth=2, min_samples_leaf=2)\n",
    "#tree_clf = DecisionTreeClassifier(criterion='entropy', max_depth=3, min_samples_leaf=3)\n",
    "\n",
    "tree_clf.fit(X, y)\n"
   ]
  },
  {
   "cell_type": "code",
   "execution_count": 423,
   "metadata": {
    "collapsed": false
   },
   "outputs": [],
   "source": []
  },
  {
   "cell_type": "code",
   "execution_count": 351,
   "metadata": {
    "collapsed": false,
    "scrolled": false
   },
   "outputs": [
    {
     "data": {
      "image/png": "[encoded data removed]",
      "text/plain": [
       "<IPython.core.display.Image object>"
      ]
     },
     "execution_count": 351,
     "metadata": {
      "image/png": {
       "height": 500,
       "width": 500
      }
     },
     "output_type": "execute_result"
    }
   ],
   "source": [
    "from sklearn.externals.six import StringIO as SkStringIO\n",
    "from IPython.display import Image\n",
    "import graphviz\n",
    "\n",
    "def tree_plot(decision_tree, width=500, height=500, max_depth=None,\n",
    "         feature_names=None, class_names=None, label='all',\n",
    "         filled=False, leaves_parallel=False, impurity=True,\n",
    "         node_ids=False, proportion=False, rotate=False,\n",
    "         rounded=False, special_characters=False):\n",
    "    in_memory_dot_file = SkStringIO()\n",
    "    export_graphviz(\n",
    "            decision_tree, out_file=in_memory_dot_file, max_depth=max_depth,\n",
    "            feature_names=feature_names, class_names=class_names, label=label,\n",
    "            filled=filled, leaves_parallel=leaves_parallel, impurity=impurity,\n",
    "            node_ids=node_ids, proportion=proportion, rotate=rotate,\n",
    "            rounded=rounded, special_characters=special_characters)\n",
    "    src = graphviz.Source(in_memory_dot_file.getvalue())\n",
    "    return Image(src.pipe(format='png'), height=height, width=width)\n",
    "\n",
    "tree_plot(tree_clf,\n",
    "#tree_plot(clf,\n",
    "    feature_names=X.columns,  \n",
    "#    class_names=[\"0\", \"1\"],\n",
    "    class_names=[\"d\", \"s\"],\n",
    "#    class_names={1: \"s\", 0: \"d\"},\n",
    "#    class_names=list(y.apply(str)),\n",
    "    filled=True,\n",
    "    rounded=True,\n",
    "    special_characters=True\n",
    ") \n"
   ]
  },
  {
   "cell_type": "code",
   "execution_count": 334,
   "metadata": {
    "collapsed": false
   },
   "outputs": [
    {
     "data": {
      "text/plain": [
       "1    161\n",
       "0      9\n",
       "Name: Survived, dtype: int64"
      ]
     },
     "execution_count": 334,
     "metadata": {},
     "output_type": "execute_result"
    }
   ],
   "source": [
    "X_y = pd.concat([X, y], axis=1)\n",
    "t1 = X_y[X_y.Gender <= 0.5]\n",
    "t1[t1.Pclass <= 2.5].Survived.value_counts()\n"
   ]
  },
  {
   "cell_type": "code",
   "execution_count": 335,
   "metadata": {
    "collapsed": false,
    "scrolled": true
   },
   "outputs": [
    {
     "data": {
      "text/plain": [
       "1    72\n",
       "0    72\n",
       "Name: Survived, dtype: int64"
      ]
     },
     "execution_count": 335,
     "metadata": {},
     "output_type": "execute_result"
    }
   ],
   "source": [
    "t1[t1.Pclass > 2.5].Survived.value_counts()\n"
   ]
  },
  {
   "cell_type": "code",
   "execution_count": 336,
   "metadata": {
    "collapsed": false
   },
   "outputs": [
    {
     "data": {
      "text/plain": [
       "0    77\n",
       "1    45\n",
       "Name: Survived, dtype: int64"
      ]
     },
     "execution_count": 336,
     "metadata": {},
     "output_type": "execute_result"
    }
   ],
   "source": [
    "f1 = X_y[X_y.Gender > 0.5]\n",
    "f1[f1.Pclass <= 1.5].Survived.value_counts()"
   ]
  },
  {
   "cell_type": "code",
   "execution_count": 337,
   "metadata": {
    "collapsed": false,
    "scrolled": true
   },
   "outputs": [
    {
     "data": {
      "text/plain": [
       "0    391\n",
       "1     64\n",
       "Name: Survived, dtype: int64"
      ]
     },
     "execution_count": 337,
     "metadata": {},
     "output_type": "execute_result"
    }
   ],
   "source": [
    "f1[f1.Pclass > 1.5].Survived.value_counts()"
   ]
  },
  {
   "cell_type": "code",
   "execution_count": 436,
   "metadata": {
    "collapsed": false
   },
   "outputs": [
    {
     "data": {
      "text/plain": [
       "['classes_',\n",
       " 'feature_importances_',\n",
       " 'max_features_',\n",
       " 'n_classes_',\n",
       " 'n_features_',\n",
       " 'n_outputs_',\n",
       " 'tree_']"
      ]
     },
     "execution_count": 436,
     "metadata": {},
     "output_type": "execute_result"
    }
   ],
   "source": [
    "estimated_params(tree_clf)"
   ]
  },
  {
   "cell_type": "code",
   "execution_count": 429,
   "metadata": {
    "collapsed": false
   },
   "outputs": [
    {
     "data": {
      "text/plain": [
       "(array([0, 1]),\n",
       " array([ 0.30417882,  0.        ,  0.        ,  0.        ,  0.69582118,\n",
       "         0.        ,  0.        ,  0.        ]))"
      ]
     },
     "execution_count": 429,
     "metadata": {},
     "output_type": "execute_result"
    }
   ],
   "source": [
    "tree_clf.classes_, tree_clf.feature_importances_"
   ]
  },
  {
   "cell_type": "code",
   "execution_count": 430,
   "metadata": {
    "collapsed": false
   },
   "outputs": [
    {
     "data": {
      "text/plain": [
       "(8, 2)"
      ]
     },
     "execution_count": 430,
     "metadata": {},
     "output_type": "execute_result"
    }
   ],
   "source": [
    "tree_clf.max_features_, tree_clf.n_classes_"
   ]
  },
  {
   "cell_type": "code",
   "execution_count": 432,
   "metadata": {
    "collapsed": false
   },
   "outputs": [
    {
     "data": {
      "text/plain": [
       "(8, 1)"
      ]
     },
     "execution_count": 432,
     "metadata": {},
     "output_type": "execute_result"
    }
   ],
   "source": [
    "tree_clf.n_features_, tree_clf.n_outputs_"
   ]
  },
  {
   "cell_type": "code",
   "execution_count": 431,
   "metadata": {
    "collapsed": false,
    "scrolled": true
   },
   "outputs": [
    {
     "data": {
      "text/plain": [
       "<sklearn.tree._tree.Tree at 0x11e626030>"
      ]
     },
     "execution_count": 431,
     "metadata": {},
     "output_type": "execute_result"
    }
   ],
   "source": [
    "tree_clf.tree_"
   ]
  },
  {
   "cell_type": "code",
   "execution_count": null,
   "metadata": {
    "collapsed": true
   },
   "outputs": [],
   "source": []
  },
  {
   "cell_type": "code",
   "execution_count": null,
   "metadata": {
    "collapsed": true
   },
   "outputs": [],
   "source": []
  },
  {
   "cell_type": "code",
   "execution_count": null,
   "metadata": {
    "collapsed": true
   },
   "outputs": [],
   "source": []
  },
  {
   "cell_type": "code",
   "execution_count": 311,
   "metadata": {
    "collapsed": false
   },
   "outputs": [
    {
     "ename": "TypeError",
     "evalue": "startswith first arg must be str or a tuple of str, not bytes",
     "output_type": "error",
     "traceback": [
      "\u001b[0;31m---------------------------------------------------------------------------\u001b[0m",
      "\u001b[0;31mTypeError\u001b[0m                                 Traceback (most recent call last)",
      "\u001b[0;32m<ipython-input-311-7387233abd8b>\u001b[0m in \u001b[0;36m<module>\u001b[0;34m()\u001b[0m\n\u001b[1;32m     10\u001b[0m     \u001b[0mfilled\u001b[0m\u001b[0;34m=\u001b[0m\u001b[0;32mTrue\u001b[0m\u001b[0;34m,\u001b[0m \u001b[0mrounded\u001b[0m\u001b[0;34m=\u001b[0m\u001b[0;32mTrue\u001b[0m\u001b[0;34m,\u001b[0m\u001b[0;34m\u001b[0m\u001b[0m\n\u001b[1;32m     11\u001b[0m     special_characters=True) \n\u001b[0;32m---> 12\u001b[0;31m \u001b[0mgraph\u001b[0m \u001b[0;34m=\u001b[0m \u001b[0mpydot\u001b[0m\u001b[0;34m.\u001b[0m\u001b[0mgraph_from_dot_data\u001b[0m\u001b[0;34m(\u001b[0m\u001b[0mdot_data\u001b[0m\u001b[0;34m.\u001b[0m\u001b[0mgetvalue\u001b[0m\u001b[0;34m(\u001b[0m\u001b[0;34m)\u001b[0m\u001b[0;34m)\u001b[0m\u001b[0;34m\u001b[0m\u001b[0m\n\u001b[0m\u001b[1;32m     13\u001b[0m \u001b[0mImage\u001b[0m\u001b[0;34m(\u001b[0m\u001b[0mgraph\u001b[0m\u001b[0;34m.\u001b[0m\u001b[0mcreate_png\u001b[0m\u001b[0;34m(\u001b[0m\u001b[0;34m)\u001b[0m\u001b[0;34m)\u001b[0m\u001b[0;34m\u001b[0m\u001b[0m\n\u001b[1;32m     14\u001b[0m \u001b[0;31m#print(dot_data.getvalue())\u001b[0m\u001b[0;34m\u001b[0m\u001b[0;34m\u001b[0m\u001b[0m\n",
      "\u001b[0;32m/Users/knt/.pyenv/versions/anaconda3-2.5.0/lib/python3.5/site-packages/pydot.py\u001b[0m in \u001b[0;36mgraph_from_dot_data\u001b[0;34m(data)\u001b[0m\n\u001b[1;32m    218\u001b[0m     \"\"\"\n\u001b[1;32m    219\u001b[0m \u001b[0;34m\u001b[0m\u001b[0m\n\u001b[0;32m--> 220\u001b[0;31m     \u001b[0;32mreturn\u001b[0m \u001b[0mdot_parser\u001b[0m\u001b[0;34m.\u001b[0m\u001b[0mparse_dot_data\u001b[0m\u001b[0;34m(\u001b[0m\u001b[0mdata\u001b[0m\u001b[0;34m)\u001b[0m\u001b[0;34m\u001b[0m\u001b[0m\n\u001b[0m\u001b[1;32m    221\u001b[0m \u001b[0;34m\u001b[0m\u001b[0m\n\u001b[1;32m    222\u001b[0m \u001b[0;34m\u001b[0m\u001b[0m\n",
      "\u001b[0;32m/Users/knt/.pyenv/versions/anaconda3-2.5.0/lib/python3.5/site-packages/dot_parser.py\u001b[0m in \u001b[0;36mparse_dot_data\u001b[0;34m(data)\u001b[0m\n\u001b[1;32m    508\u001b[0m     \u001b[0mtop_graphs\u001b[0m \u001b[0;34m=\u001b[0m \u001b[0mlist\u001b[0m\u001b[0;34m(\u001b[0m\u001b[0;34m)\u001b[0m\u001b[0;34m\u001b[0m\u001b[0m\n\u001b[1;32m    509\u001b[0m \u001b[0;34m\u001b[0m\u001b[0m\n\u001b[0;32m--> 510\u001b[0;31m     \u001b[0;32mif\u001b[0m \u001b[0mdata\u001b[0m\u001b[0;34m.\u001b[0m\u001b[0mstartswith\u001b[0m\u001b[0;34m(\u001b[0m\u001b[0mcodecs\u001b[0m\u001b[0;34m.\u001b[0m\u001b[0mBOM_UTF8\u001b[0m\u001b[0;34m)\u001b[0m\u001b[0;34m:\u001b[0m\u001b[0;34m\u001b[0m\u001b[0m\n\u001b[0m\u001b[1;32m    511\u001b[0m         \u001b[0mdata\u001b[0m \u001b[0;34m=\u001b[0m \u001b[0mdata\u001b[0m\u001b[0;34m.\u001b[0m\u001b[0mdecode\u001b[0m\u001b[0;34m(\u001b[0m \u001b[0;34m'utf-8'\u001b[0m \u001b[0;34m)\u001b[0m\u001b[0;34m\u001b[0m\u001b[0m\n\u001b[1;32m    512\u001b[0m \u001b[0;34m\u001b[0m\u001b[0m\n",
      "\u001b[0;31mTypeError\u001b[0m: startswith first arg must be str or a tuple of str, not bytes"
     ]
    }
   ],
   "source": [
    "from sklearn.externals.six import StringIO as SkStringIO\n",
    "from io import StringIO as SkStringIO\n",
    "import pydot \n",
    "from IPython.display import Image\n",
    "dot_data = SkStringIO()\n",
    "export_graphviz(\n",
    "    tree_clf, out_file=dot_data,  \n",
    "    feature_names=X.columns,  \n",
    "    class_names=y.unique(),\n",
    "    filled=True, rounded=True,  \n",
    "    special_characters=True) \n",
    "graph = pydot.graph_from_dot_data(dot_data.getvalue())  \n",
    "Image(graph.create_png())\n",
    "#print(dot_data.getvalue())\n"
   ]
  },
  {
   "cell_type": "markdown",
   "metadata": {},
   "source": [
    "## グリッドサーチ\n",
    "グリッドサーチは、分類器のパラメータを指定した範囲で変化させ、最もスコアの高いパラメータの組合せを探してくれる便利な機能です。"
   ]
  },
  {
   "cell_type": "code",
   "execution_count": 352,
   "metadata": {
    "collapsed": false,
    "scrolled": false
   },
   "outputs": [
    {
     "name": "stdout",
     "output_type": "stream",
     "text": [
      "Fitting 5 folds for each of 16 candidates, totalling 80 fits\n"
     ]
    },
    {
     "name": "stderr",
     "output_type": "stream",
     "text": [
      "[Parallel(n_jobs=-1)]: Done  80 out of  80 | elapsed:    0.3s finished\n"
     ]
    },
    {
     "data": {
      "text/plain": [
       "GridSearchCV(cv=sklearn.cross_validation.KFold(n=891, n_folds=5, shuffle=True, random_state=0),\n",
       "       error_score='raise',\n",
       "       estimator=DecisionTreeClassifier(class_weight=None, criterion='entropy', max_depth=2,\n",
       "            max_features=None, max_leaf_nodes=None, min_samples_leaf=2,\n",
       "            min_samples_split=2, min_weight_fraction_leaf=0.0,\n",
       "            presort=False, random_state=None, splitter='best'),\n",
       "       fit_params={}, iid=True, n_jobs=-1,\n",
       "       param_grid={'max_depth': [2, 3, 4, 5], 'min_samples_leaf': [2, 3, 4, 5]},\n",
       "       pre_dispatch='2*n_jobs', refit=True, scoring=None, verbose=1)"
      ]
     },
     "execution_count": 352,
     "metadata": {},
     "output_type": "execute_result"
    }
   ],
   "source": [
    "clf = DecisionTreeClassifier(criterion='entropy', max_depth=2, min_samples_leaf=2)\n",
    "\n",
    "param_grid = {'max_depth': [2, 3, 4, 5], 'min_samples_leaf': [2, 3, 4, 5]}\n",
    "cv = KFold(len(y), 5, shuffle=True, random_state=0)\n",
    "\n",
    "grid_search = GridSearchCV(clf, param_grid, cv=cv, n_jobs=-1, verbose=1)\n",
    "grid_search.fit(X, y)"
   ]
  },
  {
   "cell_type": "code",
   "execution_count": 437,
   "metadata": {
    "collapsed": false
   },
   "outputs": [
    {
     "data": {
      "text/plain": [
       "['best_estimator_', 'best_params_', 'best_score_', 'grid_scores_', 'scorer_']"
      ]
     },
     "execution_count": 437,
     "metadata": {},
     "output_type": "execute_result"
    }
   ],
   "source": [
    "estimated_params(grid_search)"
   ]
  },
  {
   "cell_type": "code",
   "execution_count": 420,
   "metadata": {
    "collapsed": false
   },
   "outputs": [
    {
     "data": {
      "text/plain": [
       "DecisionTreeClassifier(class_weight=None, criterion='entropy', max_depth=4,\n",
       "            max_features=None, max_leaf_nodes=None, min_samples_leaf=3,\n",
       "            min_samples_split=2, min_weight_fraction_leaf=0.0,\n",
       "            presort=False, random_state=None, splitter='best')"
      ]
     },
     "execution_count": 420,
     "metadata": {},
     "output_type": "execute_result"
    }
   ],
   "source": [
    "grid_search.best_estimator_"
   ]
  },
  {
   "cell_type": "code",
   "execution_count": 419,
   "metadata": {
    "collapsed": false,
    "scrolled": false
   },
   "outputs": [
    {
     "data": {
      "text/plain": [
       "[0.81705948372615034, {'max_depth': 4, 'min_samples_leaf': 3}]"
      ]
     },
     "execution_count": 419,
     "metadata": {},
     "output_type": "execute_result"
    }
   ],
   "source": [
    "grid_search.best_score_, grid_search.best_params_"
   ]
  },
  {
   "cell_type": "code",
   "execution_count": 438,
   "metadata": {
    "collapsed": false
   },
   "outputs": [
    {
     "data": {
      "text/plain": [
       "<function sklearn.metrics.scorer._passthrough_scorer>"
      ]
     },
     "execution_count": 438,
     "metadata": {},
     "output_type": "execute_result"
    }
   ],
   "source": [
    "grid_search.scorer_"
   ]
  },
  {
   "cell_type": "code",
   "execution_count": 356,
   "metadata": {
    "collapsed": false,
    "scrolled": false
   },
   "outputs": [
    {
     "data": {
      "text/plain": [
       "[mean: 0.76880, std: 0.02381, params: {'max_depth': 2, 'min_samples_leaf': 2},\n",
       " mean: 0.76880, std: 0.02381, params: {'max_depth': 2, 'min_samples_leaf': 3},\n",
       " mean: 0.76880, std: 0.02381, params: {'max_depth': 2, 'min_samples_leaf': 4},\n",
       " mean: 0.76880, std: 0.02381, params: {'max_depth': 2, 'min_samples_leaf': 5},\n",
       " mean: 0.80471, std: 0.01474, params: {'max_depth': 3, 'min_samples_leaf': 2},\n",
       " mean: 0.80584, std: 0.01686, params: {'max_depth': 3, 'min_samples_leaf': 3},\n",
       " mean: 0.80584, std: 0.01686, params: {'max_depth': 3, 'min_samples_leaf': 4},\n",
       " mean: 0.80584, std: 0.01686, params: {'max_depth': 3, 'min_samples_leaf': 5},\n",
       " mean: 0.81594, std: 0.01180, params: {'max_depth': 4, 'min_samples_leaf': 2},\n",
       " mean: 0.81706, std: 0.01391, params: {'max_depth': 4, 'min_samples_leaf': 3},\n",
       " mean: 0.81257, std: 0.01345, params: {'max_depth': 4, 'min_samples_leaf': 4},\n",
       " mean: 0.80808, std: 0.01750, params: {'max_depth': 4, 'min_samples_leaf': 5},\n",
       " mean: 0.80247, std: 0.01421, params: {'max_depth': 5, 'min_samples_leaf': 2},\n",
       " mean: 0.80471, std: 0.01552, params: {'max_depth': 5, 'min_samples_leaf': 3},\n",
       " mean: 0.79686, std: 0.02005, params: {'max_depth': 5, 'min_samples_leaf': 4},\n",
       " mean: 0.79686, std: 0.01660, params: {'max_depth': 5, 'min_samples_leaf': 5}]"
      ]
     },
     "execution_count": 356,
     "metadata": {},
     "output_type": "execute_result"
    }
   ],
   "source": [
    "grid_search.grid_scores_"
   ]
  },
  {
   "cell_type": "code",
   "execution_count": 382,
   "metadata": {
    "collapsed": false
   },
   "outputs": [
    {
     "data": {
      "text/plain": [
       "dict_values([1, 2])"
      ]
     },
     "execution_count": 382,
     "metadata": {},
     "output_type": "execute_result"
    }
   ],
   "source": [
    "{\"a\": 1, \"b\": 2}.values()"
   ]
  },
  {
   "cell_type": "code",
   "execution_count": 410,
   "metadata": {
    "collapsed": false,
    "scrolled": false
   },
   "outputs": [
    {
     "data": {
      "text/html": [
       "<div>\n",
       "<table border=\"1\" class=\"dataframe\">\n",
       "  <thead>\n",
       "    <tr style=\"text-align: right;\">\n",
       "      <th></th>\n",
       "      <th>mean_validation_score</th>\n",
       "      <th>max_depth</th>\n",
       "      <th>min_samples_leaf</th>\n",
       "    </tr>\n",
       "  </thead>\n",
       "  <tbody>\n",
       "    <tr>\n",
       "      <th>0</th>\n",
       "      <td>0.768799</td>\n",
       "      <td>2</td>\n",
       "      <td>2</td>\n",
       "    </tr>\n",
       "    <tr>\n",
       "      <th>1</th>\n",
       "      <td>0.768799</td>\n",
       "      <td>2</td>\n",
       "      <td>3</td>\n",
       "    </tr>\n",
       "  </tbody>\n",
       "</table>\n",
       "</div>"
      ],
      "text/plain": [
       "   mean_validation_score  max_depth  min_samples_leaf\n",
       "0               0.768799          2                 2\n",
       "1               0.768799          2                 3"
      ]
     },
     "execution_count": 410,
     "metadata": {},
     "output_type": "execute_result"
    }
   ],
   "source": [
    "gs_df = pd.DataFrame(grid_search.grid_scores_)\n",
    "params_df = gs_df.parameters.apply(\n",
    "    lambda p: pd.Series(list(p.values()), p.keys()))\n",
    "pd.concat([\n",
    "    gs_df.drop([\"parameters\", \"cv_validation_scores\"], axis=1),\n",
    "    params_df\n",
    "], axis=1).head(2)\n"
   ]
  },
  {
   "cell_type": "code",
   "execution_count": 371,
   "metadata": {
    "collapsed": false
   },
   "outputs": [
    {
     "data": {
      "text/html": [
       "<div>\n",
       "<table border=\"1\" class=\"dataframe\">\n",
       "  <thead>\n",
       "    <tr style=\"text-align: right;\">\n",
       "      <th></th>\n",
       "      <th>0</th>\n",
       "      <th>1</th>\n",
       "    </tr>\n",
       "  </thead>\n",
       "  <tbody>\n",
       "    <tr>\n",
       "      <th>0</th>\n",
       "      <td>k</td>\n",
       "      <td>v</td>\n",
       "    </tr>\n",
       "    <tr>\n",
       "      <th>1</th>\n",
       "      <td>k1</td>\n",
       "      <td>v1</td>\n",
       "    </tr>\n",
       "  </tbody>\n",
       "</table>\n",
       "</div>"
      ],
      "text/plain": [
       "    0   1\n",
       "0   k   v\n",
       "1  k1  v1"
      ]
     },
     "execution_count": 371,
     "metadata": {},
     "output_type": "execute_result"
    }
   ],
   "source": [
    "s = pd.Series([\"k:v\", \"k1:v1\"])\n",
    "s.str.split(\":\", expand=True)"
   ]
  },
  {
   "cell_type": "code",
   "execution_count": 418,
   "metadata": {
    "collapsed": false
   },
   "outputs": [
    {
     "data": {
      "text/html": [
       "<div>\n",
       "<table border=\"1\" class=\"dataframe\">\n",
       "  <thead>\n",
       "    <tr style=\"text-align: right;\">\n",
       "      <th></th>\n",
       "      <th>col1</th>\n",
       "      <th>col2</th>\n",
       "      <th>0</th>\n",
       "    </tr>\n",
       "  </thead>\n",
       "  <tbody>\n",
       "    <tr>\n",
       "      <th>0</th>\n",
       "      <td>k</td>\n",
       "      <td>v</td>\n",
       "      <td>[k, v]</td>\n",
       "    </tr>\n",
       "    <tr>\n",
       "      <th>1</th>\n",
       "      <td>k1</td>\n",
       "      <td>v1</td>\n",
       "      <td>[k1, v1]</td>\n",
       "    </tr>\n",
       "  </tbody>\n",
       "</table>\n",
       "</div>"
      ],
      "text/plain": [
       "  col1 col2         0\n",
       "0    k    v    [k, v]\n",
       "1   k1   v1  [k1, v1]"
      ]
     },
     "execution_count": 418,
     "metadata": {},
     "output_type": "execute_result"
    }
   ],
   "source": [
    "pd.concat([\n",
    "    s.apply(lambda x: pd.Series(x.split(\":\"), index=['col1', 'col2'])),\n",
    "    s.apply(lambda x: (x.split(\":\")))\n",
    "], axis=1)"
   ]
  },
  {
   "cell_type": "code",
   "execution_count": 415,
   "metadata": {
    "collapsed": false
   },
   "outputs": [
    {
     "data": {
      "text/html": [
       "<div>\n",
       "<table border=\"1\" class=\"dataframe\">\n",
       "  <thead>\n",
       "    <tr style=\"text-align: right;\">\n",
       "      <th></th>\n",
       "      <th>London</th>\n",
       "      <th>New York</th>\n",
       "      <th>Helsinki</th>\n",
       "    </tr>\n",
       "  </thead>\n",
       "  <tbody>\n",
       "    <tr>\n",
       "      <th>0</th>\n",
       "      <td>20</td>\n",
       "      <td>21</td>\n",
       "      <td>12</td>\n",
       "    </tr>\n",
       "    <tr>\n",
       "      <th>1</th>\n",
       "      <td>20</td>\n",
       "      <td>21</td>\n",
       "      <td>12</td>\n",
       "    </tr>\n",
       "  </tbody>\n",
       "</table>\n",
       "</div>"
      ],
      "text/plain": [
       "   London  New York  Helsinki\n",
       "0      20        21        12\n",
       "1      20        21        12"
      ]
     },
     "execution_count": 415,
     "metadata": {},
     "output_type": "execute_result"
    }
   ],
   "source": [
    "series = pd.Series([20, 21, 12], index=['London', 'New York','Helsinki'])\n",
    "pd.DataFrame([series, series])"
   ]
  },
  {
   "cell_type": "code",
   "execution_count": 395,
   "metadata": {
    "collapsed": false
   },
   "outputs": [
    {
     "data": {
      "text/plain": [
       "<bound method StringMethods.split of <pandas.core.strings.StringMethods object at 0x11e82b438>>"
      ]
     },
     "execution_count": 395,
     "metadata": {},
     "output_type": "execute_result"
    }
   ],
   "source": [
    "pd.Series(list(\"abc\")).str.split"
   ]
  },
  {
   "cell_type": "code",
   "execution_count": 414,
   "metadata": {
    "collapsed": false
   },
   "outputs": [
    {
     "data": {
      "text/plain": [
       "<function sklearn.grid_search.BaseSearchCV.predict>"
      ]
     },
     "execution_count": 414,
     "metadata": {},
     "output_type": "execute_result"
    }
   ],
   "source": [
    "y_test_pred = grid_search.predict(X_test)\n",
    "grid_search.predict"
   ]
  },
  {
   "cell_type": "code",
   "execution_count": null,
   "metadata": {
    "collapsed": true
   },
   "outputs": [],
   "source": []
  }
 ],
 "metadata": {
  "hide_input": false,
  "kernelspec": {
   "display_name": "Python [default]",
   "language": "python",
   "name": "python3"
  },
  "language_info": {
   "codemirror_mode": {
    "name": "ipython",
    "version": 3
   },
   "file_extension": ".py",
   "mimetype": "text/x-python",
   "name": "python",
   "nbconvert_exporter": "python",
   "pygments_lexer": "ipython3",
   "version": "3.5.2"
  },
  "toc": {
   "toc_cell": false,
   "toc_number_sections": true,
   "toc_threshold": 6,
   "toc_window_display": false
  }
 },
 "nbformat": 4,
 "nbformat_minor": 0
}
