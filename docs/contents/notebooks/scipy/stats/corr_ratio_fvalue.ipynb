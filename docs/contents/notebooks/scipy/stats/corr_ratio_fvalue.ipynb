{
 "cells": [
  {
   "cell_type": "markdown",
   "metadata": {},
   "source": [
    "# corr_ratio_fvalue"
   ]
  },
  {
   "cell_type": "code",
   "execution_count": 1,
   "metadata": {
    "collapsed": true
   },
   "outputs": [],
   "source": [
    "%matplotlib inline\n",
    "import numpy as np\n",
    "import pandas as pd\n",
    "import scipy.stats\n",
    "import matplotlib.pyplot as plt\n",
    "import seaborn as sns"
   ]
  },
  {
   "cell_type": "code",
   "execution_count": 2,
   "metadata": {
    "collapsed": false,
    "scrolled": true
   },
   "outputs": [
    {
     "data": {
      "text/html": [
       "<div>\n",
       "<table border=\"1\" class=\"dataframe\">\n",
       "  <thead>\n",
       "    <tr style=\"text-align: right;\">\n",
       "      <th></th>\n",
       "      <th>1_t</th>\n",
       "      <th>2_sha</th>\n",
       "      <th>3_ba</th>\n",
       "    </tr>\n",
       "  </thead>\n",
       "  <tbody>\n",
       "    <tr>\n",
       "      <th>0</th>\n",
       "      <td>23.0</td>\n",
       "      <td>25.0</td>\n",
       "      <td>15</td>\n",
       "    </tr>\n",
       "    <tr>\n",
       "      <th>1</th>\n",
       "      <td>26.0</td>\n",
       "      <td>26.0</td>\n",
       "      <td>16</td>\n",
       "    </tr>\n",
       "    <tr>\n",
       "      <th>2</th>\n",
       "      <td>27.0</td>\n",
       "      <td>29.0</td>\n",
       "      <td>18</td>\n",
       "    </tr>\n",
       "    <tr>\n",
       "      <th>3</th>\n",
       "      <td>28.0</td>\n",
       "      <td>32.0</td>\n",
       "      <td>22</td>\n",
       "    </tr>\n",
       "    <tr>\n",
       "      <th>4</th>\n",
       "      <td>NaN</td>\n",
       "      <td>33.0</td>\n",
       "      <td>26</td>\n",
       "    </tr>\n",
       "    <tr>\n",
       "      <th>5</th>\n",
       "      <td>NaN</td>\n",
       "      <td>NaN</td>\n",
       "      <td>29</td>\n",
       "    </tr>\n",
       "  </tbody>\n",
       "</table>\n",
       "</div>"
      ],
      "text/plain": [
       "    1_t  2_sha  3_ba\n",
       "0  23.0   25.0    15\n",
       "1  26.0   26.0    16\n",
       "2  27.0   29.0    18\n",
       "3  28.0   32.0    22\n",
       "4   NaN   33.0    26\n",
       "5   NaN    NaN    29"
      ]
     },
     "execution_count": 2,
     "metadata": {},
     "output_type": "execute_result"
    }
   ],
   "source": [
    "# マンガでわかる統計学: p121-126\n",
    "observed = pd.DataFrame({\n",
    "    \"1_t\": [23, 26, 27, 28, np.nan, np.nan],\n",
    "    \"2_sha\": [25, 26, 29, 32, 33, np.nan],\n",
    "    \"3_ba\": [15, 16, 18, 22, 26, 29]\n",
    "})\n",
    "observed"
   ]
  },
  {
   "cell_type": "code",
   "execution_count": 3,
   "metadata": {
    "collapsed": false,
    "scrolled": false
   },
   "outputs": [
    {
     "data": {
      "text/plain": [
       "(10, 40)"
      ]
     },
     "execution_count": 3,
     "metadata": {},
     "output_type": "execute_result"
    },
    {
     "data": {
      "image/png": "[encoded data removed]",
      "text/plain": [
       "<matplotlib.figure.Figure at 0x10ee69c18>"
      ]
     },
     "metadata": {},
     "output_type": "display_data"
    }
   ],
   "source": [
    "sns.swarmplot(data=observed)\n",
    "plt.ylim(10, 40)"
   ]
  },
  {
   "cell_type": "code",
   "execution_count": 4,
   "metadata": {
    "collapsed": true
   },
   "outputs": [],
   "source": [
    "def corr_ratio(observed):\n",
    "    # 級内変動\n",
    "    ssw = ((observed - observed.mean()) ** 2).sum().sum()\n",
    "\n",
    "    # 級間変動\n",
    "    ssb = (observed.count() * ((observed.mean() - np.nanmean(observed)) ** 2)).sum()\n",
    "\n",
    "    # sst\n",
    "    sst = ((observed - np.nanmean(observed)) ** 2).sum().sum()\n",
    "\n",
    "    # 相関比\n",
    "    ratio = ssb / (ssb + ssw)\n",
    "    \n",
    "    # F\n",
    "    dfn = observed.shape[1] - 1\n",
    "    dfd = (observed.count() - 1).sum()\n",
    "    f = (ssb / dfn) / (ssw / dfd)\n",
    "    \n",
    "    # p\n",
    "    p = scipy.stats.f.sf(f, dfn, dfd)\n",
    "    \n",
    "    return (ssw, ssb, ratio, sst, f, p)\n"
   ]
  },
  {
   "cell_type": "code",
   "execution_count": 5,
   "metadata": {
    "collapsed": false
   },
   "outputs": [
    {
     "data": {
      "text/plain": [
       "(224.0,\n",
       " 180.0,\n",
       " 0.44554455445544555,\n",
       " 404.0,\n",
       " 4.821428571428571,\n",
       " 0.029053597747097693)"
      ]
     },
     "execution_count": 5,
     "metadata": {},
     "output_type": "execute_result"
    }
   ],
   "source": [
    "corr_ratio(observed)"
   ]
  },
  {
   "cell_type": "code",
   "execution_count": 6,
   "metadata": {
    "collapsed": false,
    "scrolled": true
   },
   "outputs": [
    {
     "data": {
      "text/plain": [
       "F_onewayResult(statistic=4.8214285714285712, pvalue=0.029053597747097693)"
      ]
     },
     "execution_count": 6,
     "metadata": {},
     "output_type": "execute_result"
    }
   ],
   "source": [
    "scipy.stats.f_oneway(observed[\"1_t\"].dropna(),\n",
    "                             observed[\"2_sha\"].dropna(),\n",
    "                             observed[\"3_ba\"].dropna())"
   ]
  },
  {
   "cell_type": "code",
   "execution_count": 7,
   "metadata": {
    "collapsed": true
   },
   "outputs": [],
   "source": [
    "# https://en.wikipedia.org/wiki/Correlation_ratio\n",
    "df_math_scores = pd.DataFrame({\n",
    "    \"Algebra\": [45, 70, 29, 15, 21, np.nan],\n",
    "    \"Geometry\": [40, 20, 30, 42, np.nan, np.nan],\n",
    "    \"Statistics\": [65, 95, 80, 70, 85, 73]\n",
    "})\n"
   ]
  },
  {
   "cell_type": "markdown",
   "metadata": {},
   "source": [
    "$$\n",
    "\\eta ^{2}={\\frac  {6780}{9640}}=0.7033\\ldots \n",
    "$$"
   ]
  },
  {
   "cell_type": "code",
   "execution_count": 8,
   "metadata": {
    "collapsed": false,
    "scrolled": true
   },
   "outputs": [
    {
     "data": {
      "text/plain": [
       "(2860.0,\n",
       " 6780.0,\n",
       " 0.7033195020746889,\n",
       " 9640.0,\n",
       " 14.223776223776223,\n",
       " 0.000681920890799404)"
      ]
     },
     "execution_count": 8,
     "metadata": {},
     "output_type": "execute_result"
    }
   ],
   "source": [
    "corr_ratio(df_math_scores)"
   ]
  },
  {
   "cell_type": "code",
   "execution_count": 9,
   "metadata": {
    "collapsed": false
   },
   "outputs": [
    {
     "data": {
      "text/plain": [
       "9640.0"
      ]
     },
     "execution_count": 9,
     "metadata": {},
     "output_type": "execute_result"
    }
   ],
   "source": [
    "sum(corr_ratio(df_math_scores)[:2])"
   ]
  },
  {
   "cell_type": "code",
   "execution_count": null,
   "metadata": {
    "collapsed": true
   },
   "outputs": [],
   "source": []
  }
 ],
 "metadata": {
  "kernelspec": {
   "display_name": "Python [default]",
   "language": "python",
   "name": "python3"
  },
  "language_info": {
   "codemirror_mode": {
    "name": "ipython",
    "version": 3
   },
   "file_extension": ".py",
   "mimetype": "text/x-python",
   "name": "python",
   "nbconvert_exporter": "python",
   "pygments_lexer": "ipython3",
   "version": "3.5.2"
  }
 },
 "nbformat": 4,
 "nbformat_minor": 2
}
