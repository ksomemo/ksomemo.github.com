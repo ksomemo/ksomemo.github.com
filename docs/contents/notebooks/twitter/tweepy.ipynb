{
 "cells": [
  {
   "cell_type": "markdown",
   "metadata": {},
   "source": [
    "# tweepy"
   ]
  },
  {
   "cell_type": "code",
   "execution_count": 38,
   "metadata": {
    "collapsed": true
   },
   "outputs": [],
   "source": [
    "import pandas as pd\n",
    "import numpy as np\n",
    "import os\n",
    "import tweepy"
   ]
  },
  {
   "cell_type": "code",
   "execution_count": 222,
   "metadata": {
    "collapsed": false
   },
   "outputs": [
    {
     "data": {
      "text/plain": [
       "'3.5.0'"
      ]
     },
     "execution_count": 222,
     "metadata": {},
     "output_type": "execute_result"
    }
   ],
   "source": [
    "tweepy.__version__"
   ]
  },
  {
   "cell_type": "markdown",
   "metadata": {},
   "source": [
    "## 認証"
   ]
  },
  {
   "cell_type": "markdown",
   "metadata": {},
   "source": [
    "### key/token"
   ]
  },
  {
   "cell_type": "code",
   "execution_count": 6,
   "metadata": {
    "collapsed": true
   },
   "outputs": [],
   "source": [
    "!echo \".env\" > .gitignore"
   ]
  },
  {
   "cell_type": "code",
   "execution_count": 10,
   "metadata": {
    "collapsed": false
   },
   "outputs": [],
   "source": [
    "%%bash\n",
    "cat <<EOF > .env\n",
    "consumer_key=\n",
    "consumer_secret=\n",
    "access_token=\n",
    "access_token_secret=\n",
    "EOF"
   ]
  },
  {
   "cell_type": "code",
   "execution_count": 17,
   "metadata": {
    "collapsed": false,
    "scrolled": true
   },
   "outputs": [
    {
     "name": "stdout",
     "output_type": "stream",
     "text": [
      "The dotenv extension is already loaded. To reload it, use:\n",
      "  %reload_ext dotenv\n"
     ]
    }
   ],
   "source": [
    "%load_ext dotenv\n",
    "%dotenv"
   ]
  },
  {
   "cell_type": "code",
   "execution_count": 117,
   "metadata": {
    "collapsed": true
   },
   "outputs": [],
   "source": [
    "consumer_key = os.environ[\"consumer_key\"]\n",
    "consumer_secret = os.environ[\"consumer_secret\"]\n",
    "access_token = os.environ[\"access_token\"]\n",
    "access_token_secret = os.environ[\"access_token_secret\"]"
   ]
  },
  {
   "cell_type": "code",
   "execution_count": 467,
   "metadata": {
    "collapsed": false
   },
   "outputs": [],
   "source": [
    "auth = tweepy.OAuthHandler(consumer_key, consumer_secret)\n",
    "auth.set_access_token(access_token, access_token_secret)\n",
    "\n",
    "api = tweepy.API(auth)"
   ]
  },
  {
   "cell_type": "code",
   "execution_count": 119,
   "metadata": {
    "collapsed": false
   },
   "outputs": [
    {
     "data": {
      "text/plain": [
       "tweepy.api.API"
      ]
     },
     "execution_count": 119,
     "metadata": {},
     "output_type": "execute_result"
    }
   ],
   "source": [
    "type(api)"
   ]
  },
  {
   "cell_type": "markdown",
   "metadata": {},
   "source": [
    "### bash for python variable\n",
    "<https://stackoverflow.com/questions/19579546/can-i-access-python-variables-within-a-bash-or-script-ipython-notebook-c>"
   ]
  },
  {
   "cell_type": "code",
   "execution_count": 603,
   "metadata": {
    "collapsed": true
   },
   "outputs": [],
   "source": [
    "var_for_bash = 111"
   ]
  },
  {
   "cell_type": "code",
   "execution_count": 605,
   "metadata": {
    "collapsed": false
   },
   "outputs": [
    {
     "name": "stdout",
     "output_type": "stream",
     "text": [
      "111\r\n"
     ]
    }
   ],
   "source": [
    "!echo {var_for_bash}"
   ]
  },
  {
   "cell_type": "code",
   "execution_count": 609,
   "metadata": {
    "collapsed": false
   },
   "outputs": [
    {
     "name": "stdout",
     "output_type": "stream",
     "text": [
      "111\n",
      "{var_for_bash}\n"
     ]
    }
   ],
   "source": [
    "%%bash -s $var_for_bash\n",
    "echo $1\n",
    "echo {var_for_bash}"
   ]
  },
  {
   "cell_type": "markdown",
   "metadata": {},
   "source": [
    "## 認証からアクセストークンとシークレットキーを取得"
   ]
  },
  {
   "cell_type": "code",
   "execution_count": 607,
   "metadata": {
    "collapsed": false
   },
   "outputs": [],
   "source": [
    "redirect_url = auth.get_authorization_url()"
   ]
  },
  {
   "cell_type": "code",
   "execution_count": 608,
   "metadata": {
    "collapsed": false
   },
   "outputs": [],
   "source": [
    "!open {redirect_url}"
   ]
  },
  {
   "cell_type": "markdown",
   "metadata": {},
   "source": [
    "- ブラウザで「アプリ名」にアカウントの利用を許可しますか？の画面を開いたら、\n",
    "- 認証をして\n",
    "- https://設定したURL?oauth_token=xxx&oauth_verifier=yyy にリダイレクトする\n",
    "- 自分の場合、https://twitter.com/ksomemo なので特に処理をすることなくURLを閲覧できる\n",
    "- oauth_verifier の値を下記に渡す"
   ]
  },
  {
   "cell_type": "code",
   "execution_count": 601,
   "metadata": {
    "collapsed": false,
    "scrolled": true
   },
   "outputs": [],
   "source": [
    "verifier = input('oauth_verifier: ')"
   ]
  },
  {
   "cell_type": "code",
   "execution_count": 600,
   "metadata": {
    "collapsed": false
   },
   "outputs": [],
   "source": [
    "_ = auth.get_access_token(verifier)"
   ]
  },
  {
   "cell_type": "markdown",
   "metadata": {},
   "source": [
    "## APIの呼び出し\n",
    "1. API modelの各APIはpropertyを呼び出す\n",
    "2. propertyからはbind_api関数を呼び出す\n",
    "3. bind_api呼び出し時に内部でAPIMethodクラスを作成(インスタンス生成ではない)\n",
    "4. APIMethodクラスには呼び出し時に指定した設定がクラスにbindされる\n",
    "5. 最終的には上記クラスからインスタンスを作成しAPI実行メソッドを呼び出す関数(_call)を返す\n",
    "5. property呼び出しなので、上記はapi.api_name(args)は_call(args, kwargs)となる\n",
    "5. kwargsにcreateが含まれその値がTrueと判断される場合、新たにAPIMethodクラスのインスタンス作成をする"
   ]
  },
  {
   "cell_type": "code",
   "execution_count": 237,
   "metadata": {
    "collapsed": false
   },
   "outputs": [
    {
     "data": {
      "text/plain": [
       "<function tweepy.binder.bind_api.<locals>._call>"
      ]
     },
     "execution_count": 237,
     "metadata": {},
     "output_type": "execute_result"
    }
   ],
   "source": [
    "api.get_status"
   ]
  },
  {
   "cell_type": "code",
   "execution_count": 226,
   "metadata": {
    "collapsed": false
   },
   "outputs": [
    {
     "name": "stdout",
     "output_type": "stream",
     "text": [
      "[{'code': 144, 'message': 'No status found with that ID.'}]\n"
     ]
    }
   ],
   "source": [
    "try:\n",
    "    api.get_status(create=False)\n",
    "except Exception as e:\n",
    "    print(e)"
   ]
  },
  {
   "cell_type": "code",
   "execution_count": 238,
   "metadata": {
    "collapsed": false
   },
   "outputs": [
    {
     "data": {
      "text/plain": [
       "<tweepy.binder.bind_api.<locals>.APIMethod at 0x10fb37a58>"
      ]
     },
     "execution_count": 238,
     "metadata": {},
     "output_type": "execute_result"
    }
   ],
   "source": [
    "api_method = api.get_status(create=True)\n",
    "api_method"
   ]
  },
  {
   "cell_type": "code",
   "execution_count": 240,
   "metadata": {
    "collapsed": false
   },
   "outputs": [
    {
     "name": "stdout",
     "output_type": "stream",
     "text": [
      "[{'code': 144, 'message': 'No status found with that ID.'}]\n"
     ]
    }
   ],
   "source": [
    "try:\n",
    "    api_method.execute()\n",
    "except Exception as e:\n",
    "    print(e)"
   ]
  },
  {
   "cell_type": "code",
   "execution_count": 230,
   "metadata": {
    "collapsed": false
   },
   "outputs": [
    {
     "data": {
      "text/plain": [
       "<function tweepy.binder.bind_api.<locals>._call>"
      ]
     },
     "execution_count": 230,
     "metadata": {},
     "output_type": "execute_result"
    }
   ],
   "source": [
    "from tweepy.binder import bind_api\n",
    "binded_api = bind_api(\n",
    "    api=api,\n",
    "    path='/my/api.json',\n",
    "    method='POST',\n",
    "    payload_type='user',\n",
    "    allowed_param=['id', 'user_id', 'screen_name'],\n",
    "    require_auth=True\n",
    ")\n",
    "binded_api"
   ]
  },
  {
   "cell_type": "code",
   "execution_count": 233,
   "metadata": {
    "collapsed": false
   },
   "outputs": [
    {
     "data": {
      "text/plain": [
       "<tweepy.binder.bind_api.<locals>.APIMethod at 0x10fb7ab38>"
      ]
     },
     "execution_count": 233,
     "metadata": {},
     "output_type": "execute_result"
    }
   ],
   "source": [
    "my_api_method = binded_api(create=True)\n",
    "my_api_method"
   ]
  },
  {
   "cell_type": "code",
   "execution_count": 235,
   "metadata": {
    "collapsed": false
   },
   "outputs": [
    {
     "name": "stdout",
     "output_type": "stream",
     "text": [
      "[{'code': 34, 'message': 'Sorry, that page does not exist'}]\n"
     ]
    }
   ],
   "source": [
    "try:\n",
    "    my_api_method.execute()\n",
    "except Exception as e:\n",
    "    print(e)"
   ]
  },
  {
   "cell_type": "code",
   "execution_count": 236,
   "metadata": {
    "collapsed": false
   },
   "outputs": [
    {
     "name": "stdout",
     "output_type": "stream",
     "text": [
      "[{'code': 34, 'message': 'Sorry, that page does not exist'}]\n"
     ]
    }
   ],
   "source": [
    "try:\n",
    "    binded_api()\n",
    "except Exception as e:\n",
    "    print(e)"
   ]
  },
  {
   "cell_type": "markdown",
   "metadata": {},
   "source": [
    "## API Limit"
   ]
  },
  {
   "cell_type": "code",
   "execution_count": 398,
   "metadata": {
    "collapsed": false
   },
   "outputs": [
    {
     "data": {
      "text/html": [
       "<div>\n",
       "<table border=\"1\" class=\"dataframe\">\n",
       "  <thead>\n",
       "    <tr style=\"text-align: right;\">\n",
       "      <th></th>\n",
       "      <th>0</th>\n",
       "    </tr>\n",
       "  </thead>\n",
       "  <tbody>\n",
       "    <tr>\n",
       "      <th>resources.geo./geo/search.remaining</th>\n",
       "      <td>15</td>\n",
       "    </tr>\n",
       "    <tr>\n",
       "      <th>resources.saved_searches./saved_searches/destroy/:id.remaining</th>\n",
       "      <td>15</td>\n",
       "    </tr>\n",
       "    <tr>\n",
       "      <th>resources.saved_searches./saved_searches/list.remaining</th>\n",
       "      <td>15</td>\n",
       "    </tr>\n",
       "    <tr>\n",
       "      <th>resources.saved_searches./saved_searches/show/:id.remaining</th>\n",
       "      <td>15</td>\n",
       "    </tr>\n",
       "    <tr>\n",
       "      <th>resources.search./search/tweets.remaining</th>\n",
       "      <td>180</td>\n",
       "    </tr>\n",
       "    <tr>\n",
       "      <th>resources.users./users/search.remaining</th>\n",
       "      <td>900</td>\n",
       "    </tr>\n",
       "  </tbody>\n",
       "</table>\n",
       "</div>"
      ],
      "text/plain": [
       "                                                      0\n",
       "resources.geo./geo/search.remaining                  15\n",
       "resources.saved_searches./saved_searches/destro...   15\n",
       "resources.saved_searches./saved_searches/list.r...   15\n",
       "resources.saved_searches./saved_searches/show/:...   15\n",
       "resources.search./search/tweets.remaining           180\n",
       "resources.users./users/search.remaining             900"
      ]
     },
     "execution_count": 398,
     "metadata": {},
     "output_type": "execute_result"
    }
   ],
   "source": [
    "rate = api.rate_limit_status()\n",
    "rate_df = pd.io.json.json_normalize(rate).T\n",
    "rate_df = rate_df[rate_df.index.str.endswith(\"remaining\")]\n",
    "rate_df = rate_df[rate_df.index.str.contains(\"search\")]\n",
    "rate_df"
   ]
  },
  {
   "cell_type": "markdown",
   "metadata": {},
   "source": [
    "## User model"
   ]
  },
  {
   "cell_type": "code",
   "execution_count": 22,
   "metadata": {
    "collapsed": false,
    "scrolled": true
   },
   "outputs": [
    {
     "data": {
      "text/plain": [
       "tweepy.models.User"
      ]
     },
     "execution_count": 22,
     "metadata": {},
     "output_type": "execute_result"
    }
   ],
   "source": [
    "me = api.me()\n",
    "type(me)"
   ]
  },
  {
   "cell_type": "markdown",
   "metadata": {},
   "source": [
    "### Userのkey"
   ]
  },
  {
   "cell_type": "code",
   "execution_count": 136,
   "metadata": {
    "collapsed": false
   },
   "outputs": [
    {
     "data": {
      "text/plain": [
       "46"
      ]
     },
     "execution_count": 136,
     "metadata": {},
     "output_type": "execute_result"
    }
   ],
   "source": [
    "user_keys = list(me._json.keys())\n",
    "len(user_keys)"
   ]
  },
  {
   "cell_type": "code",
   "execution_count": 142,
   "metadata": {
    "collapsed": false
   },
   "outputs": [
    {
     "data": {
      "text/html": [
       "<div>\n",
       "<table border=\"1\" class=\"dataframe\">\n",
       "  <thead>\n",
       "    <tr style=\"text-align: right;\">\n",
       "      <th></th>\n",
       "      <th>0</th>\n",
       "      <th>1</th>\n",
       "      <th>2</th>\n",
       "      <th>3</th>\n",
       "      <th>4</th>\n",
       "    </tr>\n",
       "  </thead>\n",
       "  <tbody>\n",
       "    <tr>\n",
       "      <th>0</th>\n",
       "      <td>time_zone</td>\n",
       "      <td>location</td>\n",
       "      <td>name</td>\n",
       "      <td>url</td>\n",
       "      <td>profile_background_image_url_https</td>\n",
       "    </tr>\n",
       "    <tr>\n",
       "      <th>1</th>\n",
       "      <td>description</td>\n",
       "      <td>default_profile</td>\n",
       "      <td>is_translation_enabled</td>\n",
       "      <td>is_translator</td>\n",
       "      <td>profile_text_color</td>\n",
       "    </tr>\n",
       "    <tr>\n",
       "      <th>2</th>\n",
       "      <td>notifications</td>\n",
       "      <td>statuses_count</td>\n",
       "      <td>profile_background_tile</td>\n",
       "      <td>lang</td>\n",
       "      <td>needs_phone_verification</td>\n",
       "    </tr>\n",
       "    <tr>\n",
       "      <th>3</th>\n",
       "      <td>utc_offset</td>\n",
       "      <td>has_extended_profile</td>\n",
       "      <td>profile_use_background_image</td>\n",
       "      <td>suspended</td>\n",
       "      <td>id</td>\n",
       "    </tr>\n",
       "    <tr>\n",
       "      <th>4</th>\n",
       "      <td>favourites_count</td>\n",
       "      <td>status</td>\n",
       "      <td>protected</td>\n",
       "      <td>geo_enabled</td>\n",
       "      <td>profile_sidebar_border_color</td>\n",
       "    </tr>\n",
       "    <tr>\n",
       "      <th>5</th>\n",
       "      <td>created_at</td>\n",
       "      <td>profile_background_image_url</td>\n",
       "      <td>profile_image_url_https</td>\n",
       "      <td>verified</td>\n",
       "      <td>contributors_enabled</td>\n",
       "    </tr>\n",
       "    <tr>\n",
       "      <th>6</th>\n",
       "      <td>listed_count</td>\n",
       "      <td>profile_background_color</td>\n",
       "      <td>profile_link_color</td>\n",
       "      <td>following</td>\n",
       "      <td>profile_sidebar_fill_color</td>\n",
       "    </tr>\n",
       "    <tr>\n",
       "      <th>7</th>\n",
       "      <td>friends_count</td>\n",
       "      <td>translator_type</td>\n",
       "      <td>id_str</td>\n",
       "      <td>follow_request_sent</td>\n",
       "      <td>profile_banner_url</td>\n",
       "    </tr>\n",
       "    <tr>\n",
       "      <th>8</th>\n",
       "      <td>profile_image_url</td>\n",
       "      <td>entities</td>\n",
       "      <td>profile_location</td>\n",
       "      <td>default_profile_image</td>\n",
       "      <td>followers_count</td>\n",
       "    </tr>\n",
       "    <tr>\n",
       "      <th>9</th>\n",
       "      <td>screen_name</td>\n",
       "      <td></td>\n",
       "      <td></td>\n",
       "      <td></td>\n",
       "      <td></td>\n",
       "    </tr>\n",
       "  </tbody>\n",
       "</table>\n",
       "</div>"
      ],
      "text/plain": [
       "                   0                             1  \\\n",
       "0          time_zone                      location   \n",
       "1        description               default_profile   \n",
       "2      notifications                statuses_count   \n",
       "3         utc_offset          has_extended_profile   \n",
       "4   favourites_count                        status   \n",
       "5         created_at  profile_background_image_url   \n",
       "6       listed_count      profile_background_color   \n",
       "7      friends_count               translator_type   \n",
       "8  profile_image_url                      entities   \n",
       "9        screen_name                                 \n",
       "\n",
       "                              2                      3  \\\n",
       "0                          name                    url   \n",
       "1        is_translation_enabled          is_translator   \n",
       "2       profile_background_tile                   lang   \n",
       "3  profile_use_background_image              suspended   \n",
       "4                     protected            geo_enabled   \n",
       "5       profile_image_url_https               verified   \n",
       "6            profile_link_color              following   \n",
       "7                        id_str    follow_request_sent   \n",
       "8              profile_location  default_profile_image   \n",
       "9                                                        \n",
       "\n",
       "                                    4  \n",
       "0  profile_background_image_url_https  \n",
       "1                  profile_text_color  \n",
       "2            needs_phone_verification  \n",
       "3                                  id  \n",
       "4        profile_sidebar_border_color  \n",
       "5                contributors_enabled  \n",
       "6          profile_sidebar_fill_color  \n",
       "7                  profile_banner_url  \n",
       "8                     followers_count  \n",
       "9                                      "
      ]
     },
     "execution_count": 142,
     "metadata": {},
     "output_type": "execute_result"
    }
   ],
   "source": [
    "pd.DataFrame(\n",
    "    np.array(user_keys + [\"\"] * 4).reshape(10, 5)\n",
    ")"
   ]
  },
  {
   "cell_type": "markdown",
   "metadata": {},
   "source": [
    "## 属性とjson化による違いがないか確認"
   ]
  },
  {
   "cell_type": "code",
   "execution_count": 45,
   "metadata": {
    "collapsed": true
   },
   "outputs": [],
   "source": [
    "attrs = [attr for attr in dir(me)\n",
    "           if not callable(getattr(me, attr)) and not attr.startswith(\"_\")]"
   ]
  },
  {
   "cell_type": "code",
   "execution_count": 68,
   "metadata": {
    "collapsed": false
   },
   "outputs": [],
   "source": [
    "me_series = pd.Series({attr: getattr(me, attr) for attr in attrs})"
   ]
  },
  {
   "cell_type": "markdown",
   "metadata": {},
   "source": [
    "### keyごとの確認"
   ]
  },
  {
   "cell_type": "code",
   "execution_count": 115,
   "metadata": {
    "collapsed": false
   },
   "outputs": [
    {
     "data": {
      "text/plain": [
       "Index(['contributors_enabled', 'created_at', 'default_profile'], dtype='object')"
      ]
     },
     "execution_count": 115,
     "metadata": {},
     "output_type": "execute_result"
    }
   ],
   "source": [
    "me_series.index[:3]"
   ]
  },
  {
   "cell_type": "code",
   "execution_count": 77,
   "metadata": {
    "collapsed": false,
    "scrolled": true
   },
   "outputs": [
    {
     "data": {
      "text/plain": [
       "True"
      ]
     },
     "execution_count": 77,
     "metadata": {},
     "output_type": "execute_result"
    }
   ],
   "source": [
    "(me_series.index == me_json2_series.index).all()"
   ]
  },
  {
   "cell_type": "markdown",
   "metadata": {},
   "source": [
    "### 値ごとの確認"
   ]
  },
  {
   "cell_type": "code",
   "execution_count": 78,
   "metadata": {
    "collapsed": false
   },
   "outputs": [
    {
     "data": {
      "text/plain": [
       "True     43\n",
       "False     3\n",
       "dtype: int64"
      ]
     },
     "execution_count": 78,
     "metadata": {},
     "output_type": "execute_result"
    }
   ],
   "source": [
    "is_same = (me_series == me_json2_series)\n",
    "is_same.value_counts() "
   ]
  },
  {
   "cell_type": "code",
   "execution_count": 84,
   "metadata": {
    "collapsed": false,
    "scrolled": true
   },
   "outputs": [
    {
     "data": {
      "text/html": [
       "<div>\n",
       "<table border=\"1\" class=\"dataframe\">\n",
       "  <thead>\n",
       "    <tr style=\"text-align: right;\">\n",
       "      <th></th>\n",
       "      <th>0</th>\n",
       "      <th>1</th>\n",
       "    </tr>\n",
       "  </thead>\n",
       "  <tbody>\n",
       "    <tr>\n",
       "      <th>created_at</th>\n",
       "      <td>2011-07-09 08:09:35</td>\n",
       "      <td>Sat Jul 09 08:09:35 +0000 2011</td>\n",
       "    </tr>\n",
       "    <tr>\n",
       "      <th>profile_location</th>\n",
       "      <td>None</td>\n",
       "      <td>None</td>\n",
       "    </tr>\n",
       "    <tr>\n",
       "      <th>status</th>\n",
       "      <td>Status(id=896303711286206464, geo=None, coordi...</td>\n",
       "      <td>{'id': 896303711286206464, 'geo': None, 'coord...</td>\n",
       "    </tr>\n",
       "  </tbody>\n",
       "</table>\n",
       "</div>"
      ],
      "text/plain": [
       "                                                                  0  \\\n",
       "created_at                                      2011-07-09 08:09:35   \n",
       "profile_location                                               None   \n",
       "status            Status(id=896303711286206464, geo=None, coordi...   \n",
       "\n",
       "                                                                  1  \n",
       "created_at                           Sat Jul 09 08:09:35 +0000 2011  \n",
       "profile_location                                               None  \n",
       "status            {'id': 896303711286206464, 'geo': None, 'coord...  "
      ]
     },
     "execution_count": 84,
     "metadata": {},
     "output_type": "execute_result"
    }
   ],
   "source": [
    "diff = pd.concat([\n",
    "    me_series[~ is_same],\n",
    "    me_json2_series[~ is_same]\n",
    "], axis=1)\n",
    "diff"
   ]
  },
  {
   "cell_type": "markdown",
   "metadata": {},
   "source": [
    "### ISOフォーマットでない日時を変換できるか比較"
   ]
  },
  {
   "cell_type": "code",
   "execution_count": 108,
   "metadata": {
    "collapsed": false
   },
   "outputs": [
    {
     "data": {
      "text/plain": [
       "Timestamp('2011-07-09 08:09:35')"
      ]
     },
     "execution_count": 108,
     "metadata": {},
     "output_type": "execute_result"
    }
   ],
   "source": [
    "pd.to_datetime(diff.loc[\"created_at\", 1])"
   ]
  },
  {
   "cell_type": "markdown",
   "metadata": {},
   "source": [
    "### Null系の比較"
   ]
  },
  {
   "cell_type": "code",
   "execution_count": 112,
   "metadata": {
    "collapsed": false
   },
   "outputs": [
    {
     "data": {
      "text/plain": [
       "(False, True, True, True)"
      ]
     },
     "execution_count": 112,
     "metadata": {},
     "output_type": "execute_result"
    }
   ],
   "source": [
    "(\n",
    "    np.nan == np.nan,\n",
    "    np.isnan(np.nan),\n",
    "    pd.isnull(np.nan),\n",
    "    pd.isnull(None),\n",
    "    # np.isnan(None) # error\n",
    ")"
   ]
  },
  {
   "cell_type": "markdown",
   "metadata": {},
   "source": [
    "### Status modelとjsonの比較"
   ]
  },
  {
   "cell_type": "code",
   "execution_count": 186,
   "metadata": {
    "collapsed": false
   },
   "outputs": [
    {
     "data": {
      "text/plain": [
       "tweepy.models.Status"
      ]
     },
     "execution_count": 186,
     "metadata": {},
     "output_type": "execute_result"
    }
   ],
   "source": [
    "user_status_model = diff.loc[\"status\", 0]\n",
    "type(user_status_model)"
   ]
  },
  {
   "cell_type": "code",
   "execution_count": 187,
   "metadata": {
    "collapsed": false
   },
   "outputs": [
    {
     "data": {
      "text/plain": [
       "True"
      ]
     },
     "execution_count": 187,
     "metadata": {},
     "output_type": "execute_result"
    }
   ],
   "source": [
    "# https://stackoverflow.com/questions/4527942/comparing-two-dictionaries-in-python\n",
    "set(user_status_model._json) == set(diff.loc[\"status\", 1])"
   ]
  },
  {
   "cell_type": "markdown",
   "metadata": {},
   "source": [
    "## statusのkey"
   ]
  },
  {
   "cell_type": "code",
   "execution_count": 189,
   "metadata": {
    "collapsed": false
   },
   "outputs": [
    {
     "data": {
      "text/plain": [
       "24"
      ]
     },
     "execution_count": 189,
     "metadata": {},
     "output_type": "execute_result"
    }
   ],
   "source": [
    "user_status_keys = list(user_status_model._json.keys())\n",
    "len(user_status_keys)"
   ]
  },
  {
   "cell_type": "code",
   "execution_count": 190,
   "metadata": {
    "collapsed": false
   },
   "outputs": [
    {
     "data": {
      "text/html": [
       "<div>\n",
       "<table border=\"1\" class=\"dataframe\">\n",
       "  <thead>\n",
       "    <tr style=\"text-align: right;\">\n",
       "      <th></th>\n",
       "      <th>0</th>\n",
       "      <th>1</th>\n",
       "      <th>2</th>\n",
       "      <th>3</th>\n",
       "      <th>4</th>\n",
       "    </tr>\n",
       "  </thead>\n",
       "  <tbody>\n",
       "    <tr>\n",
       "      <th>0</th>\n",
       "      <td>id</td>\n",
       "      <td>geo</td>\n",
       "      <td>coordinates</td>\n",
       "      <td>retweeted_status</td>\n",
       "      <td>in_reply_to_user_id_str</td>\n",
       "    </tr>\n",
       "    <tr>\n",
       "      <th>1</th>\n",
       "      <td>text</td>\n",
       "      <td>contributors</td>\n",
       "      <td>in_reply_to_status_id</td>\n",
       "      <td>favorited</td>\n",
       "      <td>created_at</td>\n",
       "    </tr>\n",
       "    <tr>\n",
       "      <th>2</th>\n",
       "      <td>source</td>\n",
       "      <td>retweeted</td>\n",
       "      <td>retweet_count</td>\n",
       "      <td>is_quote_status</td>\n",
       "      <td>place</td>\n",
       "    </tr>\n",
       "    <tr>\n",
       "      <th>3</th>\n",
       "      <td>in_reply_to_status_id_str</td>\n",
       "      <td>in_reply_to_screen_name</td>\n",
       "      <td>entities</td>\n",
       "      <td>possibly_sensitive</td>\n",
       "      <td>id_str</td>\n",
       "    </tr>\n",
       "    <tr>\n",
       "      <th>4</th>\n",
       "      <td>in_reply_to_user_id</td>\n",
       "      <td>truncated</td>\n",
       "      <td>lang</td>\n",
       "      <td>favorite_count</td>\n",
       "      <td></td>\n",
       "    </tr>\n",
       "  </tbody>\n",
       "</table>\n",
       "</div>"
      ],
      "text/plain": [
       "                           0                        1                      2  \\\n",
       "0                         id                      geo            coordinates   \n",
       "1                       text             contributors  in_reply_to_status_id   \n",
       "2                     source                retweeted          retweet_count   \n",
       "3  in_reply_to_status_id_str  in_reply_to_screen_name               entities   \n",
       "4        in_reply_to_user_id                truncated                   lang   \n",
       "\n",
       "                    3                        4  \n",
       "0    retweeted_status  in_reply_to_user_id_str  \n",
       "1           favorited               created_at  \n",
       "2     is_quote_status                    place  \n",
       "3  possibly_sensitive                   id_str  \n",
       "4      favorite_count                           "
      ]
     },
     "execution_count": 190,
     "metadata": {},
     "output_type": "execute_result"
    }
   ],
   "source": [
    "pd.DataFrame(\n",
    "    np.array(user_status_keys + [\"\"]).reshape(5, 5)\n",
    ")"
   ]
  },
  {
   "cell_type": "markdown",
   "metadata": {},
   "source": [
    "## tweet\n",
    "- from api function\n",
    "    - <http://docs.tweepy.org/en/v3.5.0/api.html>\n",
    "- from status method\n",
    "    - <https://github.com/tweepy/tweepy/blob/v3.5.0/tweepy/models.py>"
   ]
  },
  {
   "cell_type": "code",
   "execution_count": 122,
   "metadata": {
    "collapsed": false
   },
   "outputs": [
    {
     "data": {
      "text/plain": [
       "tweepy.models.Status"
      ]
     },
     "execution_count": 122,
     "metadata": {},
     "output_type": "execute_result"
    }
   ],
   "source": [
    "status = api.update_status(status='1, Updating using OAuth authentication via Tweepy!')\n",
    "type(status)"
   ]
  },
  {
   "cell_type": "markdown",
   "metadata": {},
   "source": [
    "### tweet status"
   ]
  },
  {
   "cell_type": "code",
   "execution_count": 191,
   "metadata": {
    "collapsed": false
   },
   "outputs": [
    {
     "data": {
      "text/plain": [
       "24"
      ]
     },
     "execution_count": 191,
     "metadata": {},
     "output_type": "execute_result"
    }
   ],
   "source": [
    "status_keys = list(status._json.keys())\n",
    "len(status_keys)"
   ]
  },
  {
   "cell_type": "code",
   "execution_count": 192,
   "metadata": {
    "collapsed": false
   },
   "outputs": [
    {
     "data": {
      "text/html": [
       "<div>\n",
       "<table border=\"1\" class=\"dataframe\">\n",
       "  <thead>\n",
       "    <tr style=\"text-align: right;\">\n",
       "      <th></th>\n",
       "      <th>0</th>\n",
       "      <th>1</th>\n",
       "      <th>2</th>\n",
       "      <th>3</th>\n",
       "      <th>4</th>\n",
       "    </tr>\n",
       "  </thead>\n",
       "  <tbody>\n",
       "    <tr>\n",
       "      <th>0</th>\n",
       "      <td>id</td>\n",
       "      <td>geo</td>\n",
       "      <td>coordinates</td>\n",
       "      <td>retweeted_status</td>\n",
       "      <td>in_reply_to_user_id_str</td>\n",
       "    </tr>\n",
       "    <tr>\n",
       "      <th>1</th>\n",
       "      <td>text</td>\n",
       "      <td>contributors</td>\n",
       "      <td>in_reply_to_status_id</td>\n",
       "      <td>favorited</td>\n",
       "      <td>created_at</td>\n",
       "    </tr>\n",
       "    <tr>\n",
       "      <th>2</th>\n",
       "      <td>source</td>\n",
       "      <td>retweeted</td>\n",
       "      <td>retweet_count</td>\n",
       "      <td>is_quote_status</td>\n",
       "      <td>place</td>\n",
       "    </tr>\n",
       "    <tr>\n",
       "      <th>3</th>\n",
       "      <td>in_reply_to_status_id_str</td>\n",
       "      <td>in_reply_to_screen_name</td>\n",
       "      <td>entities</td>\n",
       "      <td>id_str</td>\n",
       "      <td>in_reply_to_user_id</td>\n",
       "    </tr>\n",
       "    <tr>\n",
       "      <th>4</th>\n",
       "      <td>user</td>\n",
       "      <td>truncated</td>\n",
       "      <td>lang</td>\n",
       "      <td>favorite_count</td>\n",
       "      <td></td>\n",
       "    </tr>\n",
       "  </tbody>\n",
       "</table>\n",
       "</div>"
      ],
      "text/plain": [
       "                           0                        1                      2  \\\n",
       "0                         id                      geo            coordinates   \n",
       "1                       text             contributors  in_reply_to_status_id   \n",
       "2                     source                retweeted          retweet_count   \n",
       "3  in_reply_to_status_id_str  in_reply_to_screen_name               entities   \n",
       "4                       user                truncated                   lang   \n",
       "\n",
       "                  3                        4  \n",
       "0  retweeted_status  in_reply_to_user_id_str  \n",
       "1         favorited               created_at  \n",
       "2   is_quote_status                    place  \n",
       "3            id_str      in_reply_to_user_id  \n",
       "4    favorite_count                           "
      ]
     },
     "execution_count": 192,
     "metadata": {},
     "output_type": "execute_result"
    }
   ],
   "source": [
    "pd.DataFrame(\n",
    "    np.array(status_keys + [\"\"]).reshape(5, 5)\n",
    ")"
   ]
  },
  {
   "cell_type": "code",
   "execution_count": 194,
   "metadata": {
    "collapsed": false
   },
   "outputs": [
    {
     "data": {
      "text/plain": [
       "{'possibly_sensitive'}"
      ]
     },
     "execution_count": 194,
     "metadata": {},
     "output_type": "execute_result"
    }
   ],
   "source": [
    "set(user_status_keys) - set(status_keys)"
   ]
  },
  {
   "cell_type": "code",
   "execution_count": 195,
   "metadata": {
    "collapsed": false
   },
   "outputs": [
    {
     "data": {
      "text/plain": [
       "{'user'}"
      ]
     },
     "execution_count": 195,
     "metadata": {},
     "output_type": "execute_result"
    }
   ],
   "source": [
    "set(status_keys) - set(user_status_keys)"
   ]
  },
  {
   "cell_type": "code",
   "execution_count": 197,
   "metadata": {
    "collapsed": false
   },
   "outputs": [
    {
     "data": {
      "text/plain": [
       "False"
      ]
     },
     "execution_count": 197,
     "metadata": {},
     "output_type": "execute_result"
    }
   ],
   "source": [
    "user_status_model.possibly_sensitive"
   ]
  },
  {
   "cell_type": "code",
   "execution_count": 145,
   "metadata": {
    "collapsed": false
   },
   "outputs": [
    {
     "data": {
      "text/plain": [
       "(False, False)"
      ]
     },
     "execution_count": 145,
     "metadata": {},
     "output_type": "execute_result"
    }
   ],
   "source": [
    "status.retweeted, status.favorited"
   ]
  },
  {
   "cell_type": "code",
   "execution_count": 177,
   "metadata": {
    "collapsed": false
   },
   "outputs": [
    {
     "data": {
      "text/plain": [
       "tweepy.models.User"
      ]
     },
     "execution_count": 177,
     "metadata": {},
     "output_type": "execute_result"
    }
   ],
   "source": [
    "type(status.user)"
   ]
  },
  {
   "cell_type": "markdown",
   "metadata": {},
   "source": [
    "### retweet"
   ]
  },
  {
   "cell_type": "code",
   "execution_count": 148,
   "metadata": {
    "collapsed": false
   },
   "outputs": [
    {
     "data": {
      "text/plain": [
       "(True, 1)"
      ]
     },
     "execution_count": 148,
     "metadata": {},
     "output_type": "execute_result"
    }
   ],
   "source": [
    "status = status.retweet()\n",
    "status.retweeted, status.retweet_count"
   ]
  },
  {
   "cell_type": "markdown",
   "metadata": {},
   "source": [
    "### retweets"
   ]
  },
  {
   "cell_type": "markdown",
   "metadata": {},
   "source": [
    "- 自分の場合は含まれない?\n",
    "- <https://dev.twitter.com/rest/reference/get/statuses/retweets/id>"
   ]
  },
  {
   "cell_type": "code",
   "execution_count": 149,
   "metadata": {
    "collapsed": false
   },
   "outputs": [
    {
     "data": {
      "text/plain": [
       "[]"
      ]
     },
     "execution_count": 149,
     "metadata": {},
     "output_type": "execute_result"
    }
   ],
   "source": [
    "retweets = status.retweets()\n",
    "retweets"
   ]
  },
  {
   "cell_type": "markdown",
   "metadata": {},
   "source": [
    "### get status"
   ]
  },
  {
   "cell_type": "code",
   "execution_count": 207,
   "metadata": {
    "collapsed": true
   },
   "outputs": [],
   "source": [
    "deep_learning_tweet_id = 839463666059599872"
   ]
  },
  {
   "cell_type": "code",
   "execution_count": 208,
   "metadata": {
    "collapsed": false
   },
   "outputs": [
    {
     "data": {
      "text/plain": [
       "tweepy.models.Status"
      ]
     },
     "execution_count": 208,
     "metadata": {},
     "output_type": "execute_result"
    }
   ],
   "source": [
    "deep_learning_tweet1 = api.get_status(str(deep_learning_tweet_id))\n",
    "type(deep_learning_tweet1)"
   ]
  },
  {
   "cell_type": "code",
   "execution_count": 209,
   "metadata": {
    "collapsed": false
   },
   "outputs": [],
   "source": [
    "tweets = api.statuses_lookup([str(deep_learning_tweet_id), deep_learning_tweet_id])\n",
    "deep_learning_tweet2 = tweets[0]"
   ]
  },
  {
   "cell_type": "code",
   "execution_count": 206,
   "metadata": {
    "collapsed": false
   },
   "outputs": [
    {
     "data": {
      "text/plain": [
       "1"
      ]
     },
     "execution_count": 206,
     "metadata": {},
     "output_type": "execute_result"
    }
   ],
   "source": [
    "len(tweets)"
   ]
  },
  {
   "cell_type": "code",
   "execution_count": 170,
   "metadata": {
    "collapsed": false
   },
   "outputs": [
    {
     "name": "stdout",
     "output_type": "stream",
     "text": [
      "楽しかった＼深層学習！／\n",
      "\n",
      "いっぱい走った＼GPU！／\n",
      "\n",
      "見つからなかった＼hyperparameter！／\n",
      "\n",
      "徐々に消えていく＼勾配！／\n",
      "\n",
      "影で糸を引く＼NVIDIA！／\n",
      "\n",
      "突如現れた＼論文！／\n",
      "\n",
      "一夜にして崩れ去る＼僕の研究！／\n",
      "\n",
      "遂に目覚めた＼AIの力！／ True\n"
     ]
    }
   ],
   "source": [
    "print(deep_learning_tweet1.text)"
   ]
  },
  {
   "cell_type": "code",
   "execution_count": 199,
   "metadata": {
    "collapsed": false
   },
   "outputs": [
    {
     "data": {
      "text/plain": [
       "16"
      ]
     },
     "execution_count": 199,
     "metadata": {},
     "output_type": "execute_result"
    }
   ],
   "source": [
    "retweets = deep_learning_tweet.retweets()\n",
    "len(retweets)"
   ]
  },
  {
   "cell_type": "code",
   "execution_count": 162,
   "metadata": {
    "collapsed": false
   },
   "outputs": [
    {
     "data": {
      "text/plain": [
       "(tweepy.models.ResultSet, tweepy.models.Status)"
      ]
     },
     "execution_count": 162,
     "metadata": {},
     "output_type": "execute_result"
    }
   ],
   "source": [
    "type(retweets), type(retweets[0])"
   ]
  },
  {
   "cell_type": "code",
   "execution_count": 202,
   "metadata": {
    "collapsed": false
   },
   "outputs": [
    {
     "data": {
      "text/plain": [
       "24"
      ]
     },
     "execution_count": 202,
     "metadata": {},
     "output_type": "execute_result"
    }
   ],
   "source": [
    "retweets_status_keys = list(retweets[0]._json.keys())\n",
    "len(retweets_status_keys)"
   ]
  },
  {
   "cell_type": "code",
   "execution_count": 203,
   "metadata": {
    "collapsed": false
   },
   "outputs": [
    {
     "data": {
      "text/html": [
       "<div>\n",
       "<table border=\"1\" class=\"dataframe\">\n",
       "  <thead>\n",
       "    <tr style=\"text-align: right;\">\n",
       "      <th></th>\n",
       "      <th>0</th>\n",
       "      <th>1</th>\n",
       "      <th>2</th>\n",
       "      <th>3</th>\n",
       "      <th>4</th>\n",
       "    </tr>\n",
       "  </thead>\n",
       "  <tbody>\n",
       "    <tr>\n",
       "      <th>0</th>\n",
       "      <td>id</td>\n",
       "      <td>geo</td>\n",
       "      <td>coordinates</td>\n",
       "      <td>retweeted_status</td>\n",
       "      <td>in_reply_to_user_id_str</td>\n",
       "    </tr>\n",
       "    <tr>\n",
       "      <th>1</th>\n",
       "      <td>text</td>\n",
       "      <td>contributors</td>\n",
       "      <td>in_reply_to_status_id</td>\n",
       "      <td>favorited</td>\n",
       "      <td>created_at</td>\n",
       "    </tr>\n",
       "    <tr>\n",
       "      <th>2</th>\n",
       "      <td>source</td>\n",
       "      <td>retweeted</td>\n",
       "      <td>retweet_count</td>\n",
       "      <td>is_quote_status</td>\n",
       "      <td>place</td>\n",
       "    </tr>\n",
       "    <tr>\n",
       "      <th>3</th>\n",
       "      <td>in_reply_to_status_id_str</td>\n",
       "      <td>in_reply_to_screen_name</td>\n",
       "      <td>entities</td>\n",
       "      <td>id_str</td>\n",
       "      <td>in_reply_to_user_id</td>\n",
       "    </tr>\n",
       "    <tr>\n",
       "      <th>4</th>\n",
       "      <td>user</td>\n",
       "      <td>truncated</td>\n",
       "      <td>lang</td>\n",
       "      <td>favorite_count</td>\n",
       "      <td></td>\n",
       "    </tr>\n",
       "  </tbody>\n",
       "</table>\n",
       "</div>"
      ],
      "text/plain": [
       "                           0                        1                      2  \\\n",
       "0                         id                      geo            coordinates   \n",
       "1                       text             contributors  in_reply_to_status_id   \n",
       "2                     source                retweeted          retweet_count   \n",
       "3  in_reply_to_status_id_str  in_reply_to_screen_name               entities   \n",
       "4                       user                truncated                   lang   \n",
       "\n",
       "                  3                        4  \n",
       "0  retweeted_status  in_reply_to_user_id_str  \n",
       "1         favorited               created_at  \n",
       "2   is_quote_status                    place  \n",
       "3            id_str      in_reply_to_user_id  \n",
       "4    favorite_count                           "
      ]
     },
     "execution_count": 203,
     "metadata": {},
     "output_type": "execute_result"
    }
   ],
   "source": [
    "pd.DataFrame(\n",
    "    np.array(retweets_status_keys + [\"\"]).reshape(5, 5)\n",
    ")"
   ]
  },
  {
   "cell_type": "code",
   "execution_count": 204,
   "metadata": {
    "collapsed": false
   },
   "outputs": [
    {
     "data": {
      "text/plain": [
       "set()"
      ]
     },
     "execution_count": 204,
     "metadata": {},
     "output_type": "execute_result"
    }
   ],
   "source": [
    "set(retweets_status_keys) - set(status_keys)"
   ]
  },
  {
   "cell_type": "code",
   "execution_count": 180,
   "metadata": {
    "collapsed": false,
    "scrolled": false
   },
   "outputs": [
    {
     "data": {
      "text/plain": [
       "[(884439627511103492, 'Takehiko Hashimoto', 'takenotabi'),\n",
       " (884418026216370177, 'yasunori1978', 'yasunori1978'),\n",
       " (884417309548216320, 'Tomoya', 'BbugreportT'),\n",
       " (847843890283520000, 'アキ', 'Aki_Ta_24'),\n",
       " (844154189580124160, 'しゃちきゅん@まよい', 'KHsessu'),\n",
       " (843971883640938496, '加藤真也', '0x19f'),\n",
       " (843969645824507904, 'カエデbot', 'ahahsak'),\n",
       " (843966508841615361, '開発室Graph\\uf8ff', 'studio_graph'),\n",
       " (843966492777447425, '矢場泰斗', 'sntaito'),\n",
       " (843966415677804544, 'ねこ', 'takayu_k'),\n",
       " (843965829469224960, 'nooyosh', 'nooyosh'),\n",
       " (843726975608930305, 'たかとー 🌸ΩΣ', 'takatoh1'),\n",
       " (843706790864801792, '太い樹', 'futoiki'),\n",
       " (843702128216481793, 'しゅんしんくん', 'koryor'),\n",
       " (843701970976169984, 'Masahiro Yamada', 'myamadakg'),\n",
       " (843696208904241152, 'ᴉnʞnℲ ᴉɥsoɹᴉH', 'Catechine0125')]"
      ]
     },
     "execution_count": 180,
     "metadata": {},
     "output_type": "execute_result"
    }
   ],
   "source": [
    "[(s.id, s.user.name, s.user.screen_name) for s in retweets]"
   ]
  },
  {
   "cell_type": "code",
   "execution_count": 214,
   "metadata": {
    "collapsed": false
   },
   "outputs": [
    {
     "data": {
      "text/plain": [
       "87"
      ]
     },
     "execution_count": 214,
     "metadata": {},
     "output_type": "execute_result"
    }
   ],
   "source": [
    "retweets_100 = api.retweets(deep_learning_tweet_id, count=100)\n",
    "len(retweets_100)"
   ]
  },
  {
   "cell_type": "markdown",
   "metadata": {},
   "source": [
    "<https://dev.twitter.com/rest/reference/get/statuses/retweeters/ids> is not implemented"
   ]
  },
  {
   "cell_type": "markdown",
   "metadata": {},
   "source": [
    "## retweets_of_me\n",
    "- RTされたもの\n",
    "- <https://dev.twitter.com/rest/reference/get/statuses/retweets_of_me>"
   ]
  },
  {
   "cell_type": "code",
   "execution_count": 217,
   "metadata": {
    "collapsed": false,
    "scrolled": false
   },
   "outputs": [],
   "source": [
    "retweets_of_me = api.retweets_of_me()"
   ]
  },
  {
   "cell_type": "code",
   "execution_count": 218,
   "metadata": {
    "collapsed": false,
    "scrolled": true
   },
   "outputs": [
    {
     "data": {
      "text/plain": [
       "[('○○めも(時間の浪費)',\n",
       "  'Facebookで育ったので、人間関係は逃げる場所がなく、受け入れてもらうスキルを磨かないと生きていけなかった。息がつまる日々だった。その点Twitterは付き合う人を選べるだけの懐の深さがあって、息がしやすい。'),\n",
       " ('○○めも(時間の浪費)', '1, Updating using OAuth authentication via Tweepy!'),\n",
       " ('○○めも(時間の浪費)',\n",
       "  '“本書は HTTP に関する内容を一冊に集めることを目的として企画されていて、「WebAPI: The Good Parts」と「ハイパフォーマンスブラウザネットワーキング」の間におさまる本として書かれている” / “「Real…” https://t.co/9ruqej0sqD'),\n",
       " ('○○めも(時間の浪費)',\n",
       "  '“ドキュメント自動検査（校正）ツール RedPen に，バージョン 1.9.0 から待望の reST パーサーが入りました。” / “[Tips] Travis CI + RedPen で reST ドキュメントを継続的検査する…” https://t.co/3tIGsClMDF'),\n",
       " ('○○めも(時間の浪費)',\n",
       "  '“1章：数値流体解析やりなおしのための流体力学超入門 2章：Riemann 幾何学ユーザーのための情報幾何学入門” / “技術者のためのやさしい数学 / DLmarket” https://t.co/lqvty3TqX3')]"
      ]
     },
     "execution_count": 218,
     "metadata": {},
     "output_type": "execute_result"
    }
   ],
   "source": [
    "[(s.user.name, s.text) for s in retweets_of_me[:5]]"
   ]
  },
  {
   "cell_type": "markdown",
   "metadata": {},
   "source": [
    "### favorite"
   ]
  },
  {
   "cell_type": "code",
   "execution_count": 129,
   "metadata": {
    "collapsed": false
   },
   "outputs": [
    {
     "data": {
      "text/plain": [
       "(True, 1)"
      ]
     },
     "execution_count": 129,
     "metadata": {},
     "output_type": "execute_result"
    }
   ],
   "source": [
    "status = status.favorite()\n",
    "status.favorited, status.favorite_count"
   ]
  },
  {
   "cell_type": "code",
   "execution_count": 130,
   "metadata": {
    "collapsed": false,
    "scrolled": true
   },
   "outputs": [
    {
     "data": {
      "text/plain": [
       "(False, 0)"
      ]
     },
     "execution_count": 130,
     "metadata": {},
     "output_type": "execute_result"
    }
   ],
   "source": [
    "status = api.destroy_favorite(status.id)\n",
    "status.favorited, status.favorite_count"
   ]
  },
  {
   "cell_type": "markdown",
   "metadata": {},
   "source": [
    "## favorites\n",
    "- お気に入り一覧\n",
    "- <https://dev.twitter.com/rest/reference/get/favorites/list>"
   ]
  },
  {
   "cell_type": "code",
   "execution_count": 219,
   "metadata": {
    "collapsed": true
   },
   "outputs": [],
   "source": [
    "favorites = api.favorites()"
   ]
  },
  {
   "cell_type": "code",
   "execution_count": 220,
   "metadata": {
    "collapsed": false
   },
   "outputs": [
    {
     "data": {
      "text/plain": [
       "20"
      ]
     },
     "execution_count": 220,
     "metadata": {},
     "output_type": "execute_result"
    }
   ],
   "source": [
    "len(favorites)"
   ]
  },
  {
   "cell_type": "code",
   "execution_count": 259,
   "metadata": {
    "collapsed": false,
    "scrolled": true
   },
   "outputs": [
    {
     "data": {
      "text/plain": [
       "[('松本 勇気', '若者は他人のこと気にせずコード'),\n",
       " ('Mr. ベイエリア', '日本人、何かを始めるにはそれに'),\n",
       " ('t_yano', 'core.asyncでサーバ書'),\n",
       " ('統計たん@青の子可愛い', '統計的仮説検定は有意差があるな'),\n",
       " ('Mamoru Komachi', '8月9日の日記。毎年少しずつ更'),\n",
       " ('とーます', 'SMBCから完全に資金を引き揚'),\n",
       " ('Kentaro Matsuura', 'Stanマニュアルの日本語訳の'),\n",
       " ('眼力 玉壱號', 'ハチミツの代わりに浅田飴の水飴'),\n",
       " ('Mr.Unadon', 'もうすこしで、夏の仕事の一つが'),\n",
       " ('🐈🐈🐈🐈🐈🐈🐈🐈', '他人のメアドを勝手に教える輩、'),\n",
       " ('TJO', 'Googleマップの駐車場混雑'),\n",
       " ('⭕️', '「CRFをResNetみたいに'),\n",
       " ('しましま', '「しましまのKDD2017まと'),\n",
       " ('しましま', 'それにしても，lassoまわり'),\n",
       " ('しましま', '特徴選択のチュートリアル ht'),\n",
       " ('Sebastian Raschka', 'Just put up a t'),\n",
       " ('Mr. ベイエリア', '書いてある文章をありのままに理'),\n",
       " ('いしたー', '人工知能本当に範囲が広くて神経'),\n",
       " ('超循環評価器', 'Welcome to A/B '),\n",
       " ('Amazon Web Services', 'Create a Python')]"
      ]
     },
     "execution_count": 259,
     "metadata": {},
     "output_type": "execute_result"
    }
   ],
   "source": [
    "[(f.user.name, f.text[:15].replace(\"\\n\", \" \")) for f in favorites]"
   ]
  },
  {
   "cell_type": "markdown",
   "metadata": {},
   "source": [
    "## Cursor\n",
    "- <https://github.com/tweepy/tweepy/blob/v3.5.0/tweepy/binder.py#L247>\n",
    "- <https://github.com/tweepy/tweepy/blob/v3.5.0/tweepy/cursor.py>\n",
    "- prev?"
   ]
  },
  {
   "cell_type": "code",
   "execution_count": 275,
   "metadata": {
    "collapsed": true
   },
   "outputs": [],
   "source": [
    "class MyIterator(object):\n",
    "    def __init__(self, values):\n",
    "        self.values = values\n",
    "        self.index = 0\n",
    "        \n",
    "    def __iter__(self):\n",
    "        return self\n",
    "    \n",
    "    def __next__(self):\n",
    "        if self.index == len(self.values):\n",
    "            raise StopIteration()\n",
    "        value = self.values[self.index]\n",
    "        self.index += 1\n",
    "        return value\n",
    "    \n",
    "#     def prev(next):\n",
    "#         pass"
   ]
  },
  {
   "cell_type": "code",
   "execution_count": 276,
   "metadata": {
    "collapsed": false
   },
   "outputs": [
    {
     "name": "stdout",
     "output_type": "stream",
     "text": [
      "1\n",
      "2\n",
      "3\n"
     ]
    }
   ],
   "source": [
    "my_it = MyIterator([1,2,3])\n",
    "for v in my_it:\n",
    "    print(v)"
   ]
  },
  {
   "cell_type": "markdown",
   "metadata": {},
   "source": [
    "## user_timeline with Cursor"
   ]
  },
  {
   "cell_type": "markdown",
   "metadata": {},
   "source": [
    "### limit count"
   ]
  },
  {
   "cell_type": "code",
   "execution_count": 254,
   "metadata": {
    "collapsed": false,
    "scrolled": false
   },
   "outputs": [
    {
     "name": "stdout",
     "output_type": "stream",
     "text": [
      "○○めも(時間の浪費)\tFalse\tFalse\tTrue\t今の https://t.co/VqAl\n",
      "○○めも(時間の浪費)\tFalse\tTrue\tFalse\tRT @ksomemo 昔のあれテスト\n",
      "○○めも(時間の浪費)\tFalse\tFalse\tFalse\t“Quote Tweet API - R\n",
      "○○めも(時間の浪費)\tFalse\tFalse\tFalse\tGithubの草データ使ってランダムフォ\n",
      "○○めも(時間の浪費)\tTrue\tTrue\tFalse\tRT @TrsNium: 最近濃ゆい h\n",
      "○○めも(時間の浪費)\tTrue\tTrue\tFalse\tRT @nagamyu: フェネック お\n",
      "○○めも(時間の浪費)\tFalse\tFalse\tFalse\t絵のタイプが変わってる\n",
      "○○めも(時間の浪費)\tTrue\tTrue\tFalse\tRT @Sakine3901: ムサシの\n",
      "○○めも(時間の浪費)\tTrue\tTrue\tFalse\tRT @7shi: 四元数に興味を持って\n",
      "○○めも(時間の浪費)\tFalse\tFalse\tFalse\t競技プログラミングでCython使えない\n",
      "○○めも(時間の浪費)\tFalse\tFalse\tFalse\t油系と、クリーム系と、スープ系スパゲティ\n",
      "○○めも(時間の浪費)\tTrue\tTrue\tFalse\tRT @simizut22: 日経コンピ\n",
      "○○めも(時間の浪費)\tTrue\tTrue\tFalse\tRT @todesking: \"Clas\n",
      "○○めも(時間の浪費)\tFalse\tFalse\tFalse\t真の乱数はproductionで使うとし\n",
      "○○めも(時間の浪費)\tTrue\tTrue\tTrue\tRT @TomoyukiMorimae:\n",
      "○○めも(時間の浪費)\tTrue\tTrue\tFalse\tRT @OE_uia: OSS活動で役立\n",
      "○○めも(時間の浪費)\tFalse\tFalse\tFalse\tなんで使っているか気になっている部分の解\n",
      "○○めも(時間の浪費)\tFalse\tFalse\tFalse\t“DP (Dynamic Program\n",
      "○○めも(時間の浪費)\tFalse\tFalse\tFalse\tあのときの自分へにさすがに含まれてなかっ\n",
      "○○めも(時間の浪費)\tTrue\tTrue\tFalse\tRT @inao: WEB+DB PRE\n",
      "○○めも(時間の浪費)\tTrue\tTrue\tFalse\tRT @seri_k: JetBrain\n",
      "○○めも(時間の浪費)\tFalse\tFalse\tFalse\tDeep関連全然分からん（全然勉強してな\n",
      "○○めも(時間の浪費)\tFalse\tFalse\tFalse\tなんか違う気がしたので久しぶりに消した\n",
      "○○めも(時間の浪費)\tTrue\tTrue\tFalse\tRT @h_okumura: @h_ok\n",
      "○○めも(時間の浪費)\tTrue\tTrue\tFalse\tRT @vaaaaanquish: 「エ\n"
     ]
    }
   ],
   "source": [
    "for s in tweepy.Cursor(api.user_timeline, screen_name=\"ksomemo\").items(25):\n",
    "    # not include retweeted_status\n",
    "    print(s.user.name,\n",
    "           s.retweeted,\n",
    "          \"RT @\" in s.text,\n",
    "          s.is_quote_status, s.text[:20].replace(\"\\n\", \" \"),\n",
    "          sep=\"\\t\")\n"
   ]
  },
  {
   "cell_type": "markdown",
   "metadata": {},
   "source": [
    "### limit page"
   ]
  },
  {
   "cell_type": "code",
   "execution_count": 257,
   "metadata": {
    "collapsed": false,
    "scrolled": false
   },
   "outputs": [
    {
     "name": "stdout",
     "output_type": "stream",
     "text": [
      "page: 1 ----------\n",
      "Chris Birchall, EdSurge, 英語たん@8年目,ツイート改訂なう, 厄年, Analytics Vidhya, platypus, MIT Tech Review, Yuya Takeyama, Machine Learning, フェリン, Manning Publications, フェリン, Gogengo! - 英単語 語源, dj patil, One R Tip a Day, Amazon Web Services, 切り取り線, platypus, きんいろモザイクで英語bot, Ken, \n",
      "page: 2 ----------\n",
      "Yuya Takeyama, トデス子'\\, Trs, 吉田光男, Ph.D.; bot, 値, フェリン, Kazuki Yoshida, ざら速(ザラ場速報), MURAOKA Taro, 💦, Kaggle Datasets, まーす, ざら速(ザラ場速報), ぽんこつ@ボドゲ会忘れてた奴, Ken, kosakkun, #BarelyProgrammer, Takami Sato, Hideyuki Tanaka, ○○めも(時間の浪費), \n"
     ]
    }
   ],
   "source": [
    "# Only iterate through the first 3 pages\n",
    "for page_no, page in enumerate(tweepy.Cursor(api.home_timeline).pages(2), 1):\n",
    "    print(\"page:\", page_no, \"-\" * 10)\n",
    "    for s in page:\n",
    "        print(s.user.name, end=\", \")\n",
    "    print(\"\")"
   ]
  },
  {
   "cell_type": "markdown",
   "metadata": {},
   "source": [
    "## 本題のRT/fav削除"
   ]
  },
  {
   "cell_type": "markdown",
   "metadata": {},
   "source": [
    "- twitter api more 3200 tweets (user timeline)\n",
    "- twitter api more than 7 days (search)\n",
    "- twitter search api more than 100\n"
   ]
  },
  {
   "cell_type": "markdown",
   "metadata": {},
   "source": [
    "### RT"
   ]
  },
  {
   "cell_type": "code",
   "execution_count": 289,
   "metadata": {
    "collapsed": true
   },
   "outputs": [],
   "source": [
    "import time\n",
    "import datetime"
   ]
  },
  {
   "cell_type": "code",
   "execution_count": 287,
   "metadata": {
    "collapsed": true
   },
   "outputs": [],
   "source": [
    "max_id = None"
   ]
  },
  {
   "cell_type": "code",
   "execution_count": 481,
   "metadata": {
    "collapsed": false
   },
   "outputs": [
    {
     "data": {
      "text/plain": [
       "855444549098905601"
      ]
     },
     "execution_count": 481,
     "metadata": {},
     "output_type": "execute_result"
    }
   ],
   "source": [
    "max_id"
   ]
  },
  {
   "cell_type": "code",
   "execution_count": 480,
   "metadata": {
    "collapsed": false,
    "scrolled": false
   },
   "outputs": [
    {
     "name": "stdout",
     "output_type": "stream",
     "text": [
      "0 start: 2017-08-19 23:43:17.794501\n",
      "1 start: 2017-08-19 23:43:18.331707\n",
      "2 start: 2017-08-19 23:43:18.706040\n",
      "3 start: 2017-08-19 23:43:19.087822\n",
      "4 start: 2017-08-19 23:43:19.485019\n",
      "5 start: 2017-08-19 23:43:20.148726\n",
      "6 start: 2017-08-19 23:43:20.532701\n",
      "7 start: 2017-08-19 23:43:20.945410\n",
      "8 start: 2017-08-19 23:43:21.305765\n",
      "9 start: 2017-08-19 23:43:21.688944\n",
      "0 0\n"
     ]
    }
   ],
   "source": [
    "tweet_count = 0\n",
    "destroy_count = 0\n",
    "for i in range(10):\n",
    "    print(i, \"start:\", datetime.datetime.now())\n",
    "    for s in tweepy.Cursor(api.user_timeline,\n",
    "                           screen_name=\"ksomemo\", count=100,\n",
    "                           max_id=max_id).items():\n",
    "        try:\n",
    "            tweet_count += 1\n",
    "            if s.retweeted or s.text.startswith(\"RT @\"):\n",
    "                s.destroy()\n",
    "                destroy_count += 1\n",
    "                time.sleep(0.2)\n",
    "            max_id = s.id\n",
    "        except Exception as e:\n",
    "            print(e)\n",
    "            max_id = s.id\n",
    "            print(max_id)\n",
    "            print(\"err:\", datetime.datetime.now())\n",
    "            break\n",
    "print(tweet_count, destroy_count)"
   ]
  },
  {
   "cell_type": "markdown",
   "metadata": {},
   "source": [
    "user_timelineは3200件までなので、RT以外の自分のツイートがあるためすべてを取得できない"
   ]
  },
  {
   "cell_type": "markdown",
   "metadata": {},
   "source": [
    "### search API\n",
    "- <https://dev.twitter.com/rest/public/search>\n",
    "- <https://dev.twitter.com/rest/reference/get/search/tweets>"
   ]
  },
  {
   "cell_type": "code",
   "execution_count": 316,
   "metadata": {
    "collapsed": false,
    "scrolled": false
   },
   "outputs": [
    {
     "data": {
      "text/html": [
       "<div>\n",
       "<table border=\"1\" class=\"dataframe\">\n",
       "  <thead>\n",
       "    <tr style=\"text-align: right;\">\n",
       "      <th></th>\n",
       "      <th>Operator</th>\n",
       "      <th>Finds Tweets...</th>\n",
       "    </tr>\n",
       "  </thead>\n",
       "  <tbody>\n",
       "    <tr>\n",
       "      <th>0</th>\n",
       "      <td>watching now</td>\n",
       "      <td>containing both “watching” and “now”. This is ...</td>\n",
       "    </tr>\n",
       "    <tr>\n",
       "      <th>1</th>\n",
       "      <td>“happy hour”</td>\n",
       "      <td>containing the exact phrase “happy hour”.</td>\n",
       "    </tr>\n",
       "    <tr>\n",
       "      <th>2</th>\n",
       "      <td>love OR hate</td>\n",
       "      <td>containing either “love” or “hate” (or both).</td>\n",
       "    </tr>\n",
       "    <tr>\n",
       "      <th>3</th>\n",
       "      <td>beer -root</td>\n",
       "      <td>containing “beer” but not “root”.</td>\n",
       "    </tr>\n",
       "    <tr>\n",
       "      <th>4</th>\n",
       "      <td>#haiku</td>\n",
       "      <td>containing the hashtag “haiku”.</td>\n",
       "    </tr>\n",
       "    <tr>\n",
       "      <th>5</th>\n",
       "      <td>from:interior</td>\n",
       "      <td>sent from Twitter account “interior”.</td>\n",
       "    </tr>\n",
       "    <tr>\n",
       "      <th>6</th>\n",
       "      <td>list:NASA/astronauts-in-space-now</td>\n",
       "      <td>sent from a Twitter account in the NASA list a...</td>\n",
       "    </tr>\n",
       "    <tr>\n",
       "      <th>7</th>\n",
       "      <td>to:NASA</td>\n",
       "      <td>a Tweet authored in reply to Twitter account “...</td>\n",
       "    </tr>\n",
       "    <tr>\n",
       "      <th>8</th>\n",
       "      <td>@NASA</td>\n",
       "      <td>mentioning Twitter account “NASA”.</td>\n",
       "    </tr>\n",
       "    <tr>\n",
       "      <th>9</th>\n",
       "      <td>politics filter:safe</td>\n",
       "      <td>containing “politics” with Tweets marked as po...</td>\n",
       "    </tr>\n",
       "    <tr>\n",
       "      <th>10</th>\n",
       "      <td>puppy filter:media</td>\n",
       "      <td>containing “puppy” and an image or video.</td>\n",
       "    </tr>\n",
       "    <tr>\n",
       "      <th>11</th>\n",
       "      <td>puppy -filter:retweets</td>\n",
       "      <td>containing “puppy”, filtering out retweets</td>\n",
       "    </tr>\n",
       "    <tr>\n",
       "      <th>12</th>\n",
       "      <td>puppy filter:native_video</td>\n",
       "      <td>containing “puppy” and an uploaded video, Ampl...</td>\n",
       "    </tr>\n",
       "    <tr>\n",
       "      <th>13</th>\n",
       "      <td>puppy filter:periscope</td>\n",
       "      <td>containing “puppy” and a Periscope video URL.</td>\n",
       "    </tr>\n",
       "    <tr>\n",
       "      <th>14</th>\n",
       "      <td>puppy filter:vine</td>\n",
       "      <td>containing “puppy” and a Vine.</td>\n",
       "    </tr>\n",
       "    <tr>\n",
       "      <th>15</th>\n",
       "      <td>puppy filter:images</td>\n",
       "      <td>containing “puppy” and links identified as pho...</td>\n",
       "    </tr>\n",
       "    <tr>\n",
       "      <th>16</th>\n",
       "      <td>puppy filter:twimg</td>\n",
       "      <td>containing “puppy” and a pic.twitter.com link ...</td>\n",
       "    </tr>\n",
       "    <tr>\n",
       "      <th>17</th>\n",
       "      <td>hilarious filter:links</td>\n",
       "      <td>containing “hilarious” and linking to URL.</td>\n",
       "    </tr>\n",
       "    <tr>\n",
       "      <th>18</th>\n",
       "      <td>puppy url:amazon</td>\n",
       "      <td>containing “puppy” and a URL with the word “am...</td>\n",
       "    </tr>\n",
       "    <tr>\n",
       "      <th>19</th>\n",
       "      <td>superhero since:2015-12-21</td>\n",
       "      <td>containing “superhero” and sent since date “20...</td>\n",
       "    </tr>\n",
       "    <tr>\n",
       "      <th>20</th>\n",
       "      <td>puppy until:2015-12-21</td>\n",
       "      <td>containing “puppy” and sent before the date “2...</td>\n",
       "    </tr>\n",
       "    <tr>\n",
       "      <th>21</th>\n",
       "      <td>movie -scary :)</td>\n",
       "      <td>containing “movie”, but not “scary”, and with ...</td>\n",
       "    </tr>\n",
       "    <tr>\n",
       "      <th>22</th>\n",
       "      <td>flight :(</td>\n",
       "      <td>containing “flight” and with a negative attitude.</td>\n",
       "    </tr>\n",
       "    <tr>\n",
       "      <th>23</th>\n",
       "      <td>traffic ?</td>\n",
       "      <td>containing “traffic” and asking a question.</td>\n",
       "    </tr>\n",
       "  </tbody>\n",
       "</table>\n",
       "</div>"
      ],
      "text/plain": [
       "                             Operator  \\\n",
       "0                        watching now   \n",
       "1                        “happy hour”   \n",
       "2                        love OR hate   \n",
       "3                          beer -root   \n",
       "4                              #haiku   \n",
       "5                       from:interior   \n",
       "6   list:NASA/astronauts-in-space-now   \n",
       "7                             to:NASA   \n",
       "8                               @NASA   \n",
       "9                politics filter:safe   \n",
       "10                 puppy filter:media   \n",
       "11             puppy -filter:retweets   \n",
       "12          puppy filter:native_video   \n",
       "13             puppy filter:periscope   \n",
       "14                  puppy filter:vine   \n",
       "15                puppy filter:images   \n",
       "16                 puppy filter:twimg   \n",
       "17             hilarious filter:links   \n",
       "18                   puppy url:amazon   \n",
       "19         superhero since:2015-12-21   \n",
       "20             puppy until:2015-12-21   \n",
       "21                    movie -scary :)   \n",
       "22                          flight :(   \n",
       "23                          traffic ?   \n",
       "\n",
       "                                      Finds Tweets...  \n",
       "0   containing both “watching” and “now”. This is ...  \n",
       "1           containing the exact phrase “happy hour”.  \n",
       "2       containing either “love” or “hate” (or both).  \n",
       "3                   containing “beer” but not “root”.  \n",
       "4                     containing the hashtag “haiku”.  \n",
       "5               sent from Twitter account “interior”.  \n",
       "6   sent from a Twitter account in the NASA list a...  \n",
       "7   a Tweet authored in reply to Twitter account “...  \n",
       "8                  mentioning Twitter account “NASA”.  \n",
       "9   containing “politics” with Tweets marked as po...  \n",
       "10          containing “puppy” and an image or video.  \n",
       "11         containing “puppy”, filtering out retweets  \n",
       "12  containing “puppy” and an uploaded video, Ampl...  \n",
       "13      containing “puppy” and a Periscope video URL.  \n",
       "14                     containing “puppy” and a Vine.  \n",
       "15  containing “puppy” and links identified as pho...  \n",
       "16  containing “puppy” and a pic.twitter.com link ...  \n",
       "17         containing “hilarious” and linking to URL.  \n",
       "18  containing “puppy” and a URL with the word “am...  \n",
       "19  containing “superhero” and sent since date “20...  \n",
       "20  containing “puppy” and sent before the date “2...  \n",
       "21  containing “movie”, but not “scary”, and with ...  \n",
       "22  containing “flight” and with a negative attitude.  \n",
       "23        containing “traffic” and asking a question.  "
      ]
     },
     "execution_count": 316,
     "metadata": {},
     "output_type": "execute_result"
    }
   ],
   "source": [
    "search_query_table = pd.read_html(\"https://dev.twitter.com/rest/public/search\")[0]\n",
    "search_query_table"
   ]
  },
  {
   "cell_type": "markdown",
   "metadata": {},
   "source": [
    "## Twilogから公式RTのstatus idを見つけて対応\n",
    "- 全ツイートJSONのダウンロードを忘れていた\n",
    "- そのため、めんどうだがスクレイピングで対応していた"
   ]
  },
  {
   "cell_type": "code",
   "execution_count": 541,
   "metadata": {
    "collapsed": true
   },
   "outputs": [],
   "source": [
    "from bs4 import BeautifulSoup\n",
    "import requests"
   ]
  },
  {
   "cell_type": "code",
   "execution_count": 571,
   "metadata": {
    "collapsed": true
   },
   "outputs": [],
   "source": [
    "error_ids = []\n"
   ]
  },
  {
   "cell_type": "code",
   "execution_count": 542,
   "metadata": {
    "collapsed": false
   },
   "outputs": [],
   "source": [
    "start_ym = \"2012-08\"\n"
   ]
  },
  {
   "cell_type": "code",
   "execution_count": 572,
   "metadata": {
    "collapsed": false
   },
   "outputs": [
    {
     "data": {
      "text/plain": [
       "'2013-10'"
      ]
     },
     "execution_count": 572,
     "metadata": {},
     "output_type": "execute_result"
    }
   ],
   "source": [
    "start_ym"
   ]
  },
  {
   "cell_type": "code",
   "execution_count": 586,
   "metadata": {
    "collapsed": false,
    "scrolled": false
   },
   "outputs": [
    {
     "name": "stdout",
     "output_type": "stream",
     "text": [
      "2013-11-01 00:00:00\n",
      "398319878345461760 Failed to send request: (\"bad handshake: SysCallError(54, 'ECONNRESET')\",)\n",
      "2013-12-01 00:00:00\n",
      "416235918228324353 Failed to send request: (\"bad handshake: SysCallError(54, 'ECONNRESET')\",)\n",
      "408400980493889536 Failed to send request: (\"bad handshake: SysCallError(54, 'ECONNRESET')\",)\n",
      "407037072793292800 Failed to send request: (\"bad handshake: SysCallError(54, 'ECONNRESET')\",)\n",
      "2014-01-01 00:00:00\n",
      "427092163680157696 Failed to send request: (\"bad handshake: SysCallError(54, 'ECONNRESET')\",)\n",
      "426707097057632258 Failed to send request: (\"bad handshake: SysCallError(54, 'ECONNRESET')\",)\n",
      "421971269819449344 Failed to send request: (\"bad handshake: SysCallError(54, 'ECONNRESET')\",)\n",
      "2014-02-01 00:00:00\n",
      "2014-03-01 00:00:00\n",
      "447754683856064513 Failed to send request: (\"bad handshake: SysCallError(54, 'ECONNRESET')\",)\n",
      "446652346227896321 Failed to send request: (\"bad handshake: SysCallError(54, 'ECONNRESET')\",)\n",
      "446302665052389376 Failed to send request: (\"bad handshake: SysCallError(54, 'ECONNRESET')\",)\n",
      "2014-04-01 00:00:00\n",
      "460671084174376960 Failed to send request: (\"bad handshake: SysCallError(54, 'ECONNRESET')\",)\n",
      "460048741139881987 Failed to send request: (\"bad handshake: SysCallError(54, 'ECONNRESET')\",)\n",
      "455583638499770368 Failed to send request: (\"bad handshake: SysCallError(54, 'ECONNRESET')\",)\n",
      "451548153750114305 Failed to send request: (\"bad handshake: SysCallError(54, 'ECONNRESET')\",)\n",
      "2014-05-01 00:00:00\n",
      "2014-06-01 00:00:00\n",
      "482948399780462594 Failed to send request: (\"bad handshake: SysCallError(54, 'ECONNRESET')\",)\n",
      "478209758726340608 Failed to send request: (\"bad handshake: SysCallError(54, 'ECONNRESET')\",)\n",
      "2014-07-01 00:00:00\n",
      "494709986816045062 Failed to send request: (\"bad handshake: SysCallError(54, 'ECONNRESET')\",)\n",
      "493595474541023233 Failed to send request: (\"bad handshake: SysCallError(54, 'ECONNRESET')\",)\n",
      "492088078698545152 Failed to send request: (\"bad handshake: SysCallError(54, 'ECONNRESET')\",)\n",
      "489765028459859968 Failed to send request: (\"bad handshake: SysCallError(54, 'ECONNRESET')\",)\n",
      "486968076299014144 Failed to send request: (\"bad handshake: SysCallError(54, 'ECONNRESET')\",)\n",
      "2014-08-01 00:00:00\n",
      "501899775793319937 Failed to send request: (\"bad handshake: SysCallError(54, 'ECONNRESET')\",)\n",
      "500816209827205120 Twitter error response: status code = 503\n",
      "497540291889344512 Failed to send request: (\"bad handshake: SysCallError(54, 'ECONNRESET')\",)\n",
      "2014-09-01 00:00:00\n",
      "516802433859584000 Failed to send request: (\"bad handshake: SysCallError(54, 'ECONNRESET')\",)\n",
      "515131941029298176 Failed to send request: (\"bad handshake: SysCallError(54, 'ECONNRESET')\",)\n",
      "2014-10-01 00:00:00\n",
      "528154998857691138 Failed to send request: (\"bad handshake: SysCallError(54, 'ECONNRESET')\",)\n",
      "528074686119165953 Failed to send request: (\"bad handshake: SysCallError(54, 'ECONNRESET')\",)\n",
      "527978111346827264 Failed to send request: (\"bad handshake: SysCallError(54, 'ECONNRESET')\",)\n",
      "527744663780728832 Failed to send request: (\"bad handshake: SysCallError(54, 'ECONNRESET')\",)\n",
      "526254824770138112 Failed to send request: (\"bad handshake: SysCallError(54, 'ECONNRESET')\",)\n",
      "522363775098171392 Failed to send request: (\"bad handshake: SysCallError(54, 'ECONNRESET')\",)\n",
      "520544544723460097 Failed to send request: (\"bad handshake: SysCallError(54, 'ECONNRESET')\",)\n",
      "520009179407196161 Failed to send request: (\"bad handshake: SysCallError(54, 'ECONNRESET')\",)\n",
      "519645902449811456 Failed to send request: (\"bad handshake: SysCallError(54, 'ECONNRESET')\",)\n",
      "518915107959484416 Failed to send request: (\"bad handshake: SysCallError(54, 'ECONNRESET')\",)\n",
      "2014-11-01 00:00:00\n",
      "535052312520056832 Failed to send request: (\"bad handshake: SysCallError(54, 'ECONNRESET')\",)\n",
      "528573677822963717 Failed to send request: (\"bad handshake: SysCallError(54, 'ECONNRESET')\",)\n",
      "2014-12-01 00:00:00\n",
      "549563918536810497 Failed to send request: (\"bad handshake: SysCallError(54, 'ECONNRESET')\",)\n",
      "549472071906914305 Failed to send request: (\"bad handshake: SysCallError(54, 'ECONNRESET')\",)\n",
      "547700746884378624 Failed to send request: (\"bad handshake: SysCallError(54, 'ECONNRESET')\",)\n",
      "547324344242675713 Failed to send request: (\"bad handshake: SysCallError(54, 'ECONNRESET')\",)\n",
      "545975793923272706 Failed to send request: (\"bad handshake: SysCallError(54, 'ECONNRESET')\",)\n",
      "544153642933055489 Failed to send request: (\"bad handshake: SysCallError(54, 'ECONNRESET')\",)\n",
      "539546012826603520 Failed to send request: (\"bad handshake: SysCallError(54, 'ECONNRESET')\",)\n",
      "2015-01-01 00:00:00\n",
      "561350130830307328 [{'code': 63, 'message': 'User has been suspended.'}]\n",
      "556691353598324737 Failed to send request: (\"bad handshake: SysCallError(54, 'ECONNRESET')\",)\n",
      "555386804153503745 Failed to send request: (\"bad handshake: SysCallError(54, 'ECONNRESET')\",)\n",
      "555382243531583490 Failed to send request: (\"bad handshake: SysCallError(54, 'ECONNRESET')\",)\n",
      "553143498111590400 Failed to send request: (\"bad handshake: SysCallError(54, 'ECONNRESET')\",)\n",
      "2015-02-01 00:00:00\n",
      "571504109787848706 Failed to send request: (\"bad handshake: SysCallError(54, 'ECONNRESET')\",)\n",
      "570967967476756481 Failed to send request: (\"bad handshake: SysCallError(54, 'ECONNRESET')\",)\n",
      "569110854353817600 Failed to send request: (\"bad handshake: SysCallError(54, 'ECONNRESET')\",)\n",
      "562991000512385026 Failed to send request: (\"bad handshake: SysCallError(54, 'ECONNRESET')\",)\n",
      "2015-03-01 00:00:00\n",
      "576404811169419264 Failed to send request: (\"bad handshake: SysCallError(54, 'ECONNRESET')\",)\n",
      "575074851590795264 Failed to send request: (\"bad handshake: SysCallError(54, 'ECONNRESET')\",)\n",
      "573884866955075585 Failed to send request: (\"bad handshake: SysCallError(54, 'ECONNRESET')\",)\n",
      "572974012973760512 Failed to send request: (\"bad handshake: SysCallError(54, 'ECONNRESET')\",)\n",
      "572921013660327936 Failed to send request: (\"bad handshake: SysCallError(54, 'ECONNRESET')\",)\n",
      "2015-04-01 00:00:00\n",
      "587758451465461760 Failed to send request: (\"bad handshake: SysCallError(54, 'ECONNRESET')\",)\n",
      "586179128887390208 Failed to send request: (\"bad handshake: SysCallError(54, 'ECONNRESET')\",)\n",
      "2015-05-01 00:00:00\n",
      "603984553305251840 Failed to send request: (\"bad handshake: SysCallError(54, 'ECONNRESET')\",)\n",
      "600234150025560065 Failed to send request: (\"bad handshake: SysCallError(54, 'ECONNRESET')\",)\n",
      "596661761366827009 [{'code': 179, 'message': 'Sorry, you are not authorized to see this status.'}]\n",
      "2015-06-01 00:00:00\n",
      "613160143627247617 Failed to send request: (\"bad handshake: SysCallError(54, 'ECONNRESET')\",)\n",
      "605288744275427328 Failed to send request: (\"bad handshake: SysCallError(54, 'ECONNRESET')\",)\n",
      "2015-07-01 00:00:00\n",
      "626636802686726144 Failed to send request: (\"bad handshake: SysCallError(54, 'ECONNRESET')\",)\n",
      "621532579104100353 Failed to send request: (\"bad handshake: SysCallError(54, 'ECONNRESET')\",)\n",
      "2015-08-01 00:00:00\n",
      "637269858170769408 Failed to send request: (\"bad handshake: SysCallError(54, 'ECONNRESET')\",)\n",
      "634618525487755264 Failed to send request: (\"bad handshake: SysCallError(54, 'ECONNRESET')\",)\n",
      "628456450956750848 Failed to send request: (\"bad handshake: SysCallError(54, 'ECONNRESET')\",)\n",
      "627892294864101376 Failed to send request: (\"bad handshake: SysCallError(54, 'ECONNRESET')\",)\n",
      "2015-09-01 00:00:00\n",
      "648804036720758784 Failed to send request: (\"bad handshake: SysCallError(54, 'ECONNRESET')\",)\n",
      "642987602992234496 Failed to send request: (\"bad handshake: SysCallError(54, 'ECONNRESET')\",)\n",
      "2015-10-01 00:00:00\n",
      "651957825665568769 Failed to send request: (\"bad handshake: SysCallError(54, 'ECONNRESET')\",)\n",
      "2015-11-01 00:00:00\n",
      "671264734956552192 Failed to send request: (\"bad handshake: SysCallError(54, 'ECONNRESET')\",)\n",
      "663550051650678784 Failed to send request: (\"bad handshake: SysCallError(54, 'ECONNRESET')\",)\n",
      "2015-12-01 00:00:00\n",
      "677773625760477184 Failed to send request: (\"bad handshake: SysCallError(54, 'ECONNRESET')\",)\n",
      "675164994464563200 [{'code': 179, 'message': 'Sorry, you are not authorized to see this status.'}]\n",
      "672743062263631876 Failed to send request: (\"bad handshake: SysCallError(54, 'ECONNRESET')\",)\n",
      "2016-01-01 00:00:00\n",
      "689968138994204672 Failed to send request: (\"bad handshake: SysCallError(54, 'ECONNRESET')\",)\n",
      "683795233096642560 Failed to send request: (\"bad handshake: SysCallError(54, 'ECONNRESET')\",)\n",
      "683608924281372672 Failed to send request: (\"bad handshake: SysCallError(54, 'ECONNRESET')\",)\n",
      "2016-02-01 00:00:00\n",
      "700161800168296448 Failed to send request: (\"bad handshake: SysCallError(54, 'ECONNRESET')\",)\n",
      "696568228315697152 Failed to send request: (\"bad handshake: SysCallError(54, 'ECONNRESET')\",)\n",
      "2016-03-01 00:00:00\n",
      "713888172615139328 Failed to send request: (\"bad handshake: SysCallError(54, 'ECONNRESET')\",)\n",
      "708336741199912960 Failed to send request: (\"bad handshake: SysCallError(54, 'ECONNRESET')\",)\n",
      "2016-04-01 00:00:00\n",
      "725646706759454721 Failed to send request: (\"bad handshake: SysCallError(54, 'ECONNRESET')\",)\n",
      "724444735041998848 Failed to send request: (\"bad handshake: SysCallError(54, 'ECONNRESET')\",)\n",
      "722065571072716801 Failed to send request: (\"bad handshake: SysCallError(54, 'ECONNRESET')\",)\n",
      "720581351779344384 Failed to send request: (\"bad handshake: SysCallError(54, 'ECONNRESET')\",)\n",
      "716617832356663297 Failed to send request: (\"bad handshake: SysCallError(54, 'ECONNRESET')\",)\n",
      "715568152743051268 Failed to send request: (\"bad handshake: SysCallError(54, 'ECONNRESET')\",)\n",
      "2016-05-01 00:00:00\n",
      "734743115890753536 Failed to send request: (\"bad handshake: SysCallError(54, 'ECONNRESET')\",)\n",
      "732154092613570560 Failed to send request: (\"bad handshake: SysCallError(54, 'ECONNRESET')\",)\n",
      "732073427779997696 Failed to send request: (\"bad handshake: SysCallError(54, 'ECONNRESET')\",)\n",
      "730644849221763072 Failed to send request: (\"bad handshake: SysCallError(54, 'ECONNRESET')\",)\n",
      "2016-06-01 00:00:00\n",
      "2016-07-01 00:00:00\n",
      "753907289581506560 Failed to send request: (\"bad handshake: SysCallError(54, 'ECONNRESET')\",)\n",
      "2016-08-01 00:00:00\n",
      "770825161255768064 Failed to send request: (\"bad handshake: SysCallError(54, 'ECONNRESET')\",)\n",
      "769789524486393857 Failed to send request: (\"bad handshake: SysCallError(54, 'ECONNRESET')\",)\n",
      "768818999299756033 Failed to send request: (\"bad handshake: SysCallError(54, 'ECONNRESET')\",)\n",
      "762668237620285441 Failed to send request: (\"bad handshake: SysCallError(54, 'ECONNRESET')\",)\n",
      "2016-09-01 00:00:00\n",
      "2016-10-01 00:00:00\n",
      "787856125144145921 Failed to send request: (\"bad handshake: SysCallError(54, 'ECONNRESET')\",)\n",
      "2016-11-01 00:00:00\n",
      "798130402481225728 Failed to send request: (\"bad handshake: SysCallError(54, 'ECONNRESET')\",)\n",
      "2016-12-01 00:00:00\n",
      "815090121678548992 Failed to send request: (\"bad handshake: SysCallError(54, 'ECONNRESET')\",)\n",
      "807980095839162368 Failed to send request: (\"bad handshake: SysCallError(54, 'ECONNRESET')\",)\n",
      "2017-01-01 00:00:00\n",
      "817317156039770112 Failed to send request: (\"bad handshake: SysCallError(54, 'ECONNRESET')\",)\n",
      "2017-02-01 00:00:00\n",
      "830043292892946432 Failed to send request: (\"bad handshake: SysCallError(54, 'ECONNRESET')\",)\n",
      "828980949677285377 Failed to send request: (\"bad handshake: SysCallError(54, 'ECONNRESET')\",)\n",
      "2017-03-01 00:00:00\n",
      "843831078909489153 Failed to send request: (\"bad handshake: SysCallError(54, 'ECONNRESET')\",)\n",
      "840533752660996096 Failed to send request: (\"bad handshake: SysCallError(54, 'ECONNRESET')\",)\n",
      "839850780983095296 Failed to send request: (\"bad handshake: SysCallError(54, 'ECONNRESET')\",)\n",
      "839837222475988993 Failed to send request: (\"bad handshake: SysCallError(54, 'ECONNRESET')\",)\n",
      "2017-04-01 00:00:00\n",
      "857967759870664705 Failed to send request: (\"bad handshake: SysCallError(54, 'ECONNRESET')\",)\n",
      "857535698877898752 Failed to send request: (\"bad handshake: SysCallError(54, 'ECONNRESET')\",)\n",
      "854574800546668544 Failed to send request: (\"bad handshake: SysCallError(54, 'ECONNRESET')\",)\n",
      "851412118762962944 Failed to send request: (\"bad handshake: SysCallError(54, 'ECONNRESET')\",)\n",
      "848316117663838209 Failed to send request: (\"bad handshake: SysCallError(54, 'ECONNRESET')\",)\n",
      "2017-05-01 00:00:00\n",
      "864469634677841922 Failed to send request: (\"bad handshake: SysCallError(54, 'ECONNRESET')\",)\n",
      "2017-06-01 00:00:00\n",
      "871348835120889856 Failed to send request: (\"bad handshake: SysCallError(54, 'ECONNRESET')\",)\n",
      "2017-07-01 00:00:00\n",
      "891834192413077504 Failed to send request: (\"bad handshake: SysCallError(54, 'ECONNRESET')\",)\n",
      "890164457325838336 Failed to send request: (\"bad handshake: SysCallError(54, 'ECONNRESET')\",)\n",
      "2017-08-01 00:00:00\n"
     ]
    }
   ],
   "source": [
    "twilog_month_list = pd.date_range(start_ym, \"2017-08\", freq=\"MS\")\n",
    "url_format = \"http://twilog.org/ksomemo/month-{ym}/rt-{page}\"\n",
    "for first_date in twilog_month_list:\n",
    "    print(first_date)\n",
    "    start_ym = first_date.strftime(\"%Y-%m\")\n",
    "    ym = first_date.strftime(\"%y%m\")\n",
    "\n",
    "    for page in range(1, 20 + 1):\n",
    "        res = requests.get(url_format.format(**{\n",
    "            \"ym\": ym, \"page\": page\n",
    "        }))\n",
    "        bs = BeautifulSoup(res.content, \"lxml\")\n",
    "        elements = bs.select(\"#content > section > article > p.tl-time > a\")\n",
    "        if not elements:\n",
    "            break\n",
    "\n",
    "        for el in elements:\n",
    "            status_id = el.attrs.get(\"href\").split(\"/\")[-1]\n",
    "            try:\n",
    "                api.destroy_status(status_id)\n",
    "                time.sleep(0.5)\n",
    "            except tweepy.TweepError as e:\n",
    "                # No status found with that ID.\n",
    "                if \"144\" not in e.reason:\n",
    "                    error_ids.append(status_id)\n",
    "                    print(status_id, e)\n",
    "            except tweepy.RateLimitError as e:\n",
    "                print(\"-\" * 10)\n",
    "                raise e\n",
    "            except Exception as e:\n",
    "                print(e, type(e))\n"
   ]
  },
  {
   "cell_type": "markdown",
   "metadata": {},
   "source": [
    "### 削除漏れを削除"
   ]
  },
  {
   "cell_type": "code",
   "execution_count": 590,
   "metadata": {
    "collapsed": true
   },
   "outputs": [],
   "source": [
    "log=\"\"\"\n",
    "2017-06-01 00:00:00\n",
    "871348835120889856 Failed to send request: (\"bad handshake: SysCallError(54, 'ECONNRESET')\",)\n",
    "2017-07-01 00:00:00\n",
    "891834192413077504 Failed to send request: (\"bad handshake: SysCallError(54, 'ECONNRESET')\",)\n",
    "890164457325838336 Failed to send request: (\"bad handshake: SysCallError(54, 'ECONNRESET')\",)\n",
    "2017-08-01 00:00:00\n",
    "\"\"\""
   ]
  },
  {
   "cell_type": "code",
   "execution_count": 591,
   "metadata": {
    "collapsed": false
   },
   "outputs": [
    {
     "name": "stdout",
     "output_type": "stream",
     "text": [
      "871348835120889856 [{'code': 144, 'message': 'No status found with that ID.'}]\n",
      "891834192413077504 [{'code': 144, 'message': 'No status found with that ID.'}]\n",
      "890164457325838336 [{'code': 144, 'message': 'No status found with that ID.'}]\n"
     ]
    }
   ],
   "source": [
    "import re\n",
    "for l in log.splitlines():\n",
    "    if not re.search(\"bad\", l):\n",
    "        continue\n",
    "    status_id = l.split()[0]\n",
    "    try:\n",
    "        api.destroy_status(status_id)\n",
    "    except Exception as e:\n",
    "        print(status_id, e)\n",
    "        "
   ]
  },
  {
   "cell_type": "markdown",
   "metadata": {},
   "source": [
    "## max_idを利用した直近ログの検索"
   ]
  },
  {
   "cell_type": "code",
   "execution_count": 471,
   "metadata": {
    "collapsed": false,
    "scrolled": false
   },
   "outputs": [
    {
     "name": "stdout",
     "output_type": "stream",
     "text": [
      "86\n",
      "max_id: 895793799024136191\n",
      "result id(first, last): (898914663458459648, 895793799024136192)\n",
      "==========\n",
      "0\n"
     ]
    }
   ],
   "source": [
    "max_id = -1\n",
    "query = \"from:ksomemo\"\n",
    "tweets = {}\n",
    "for i  in range(10):\n",
    "    search_result = api.search(\n",
    "        q=query, result_type=\"recent\",\n",
    "        max_id=max_id, count=100\n",
    "    )\n",
    "    print(len(search_result))\n",
    "    if search_result.max_id is None:\n",
    "        break\n",
    "\n",
    "    max_id = search_result.max_id\n",
    "    print(\"max_id:\", max_id)\n",
    "    print(\"result id(first, last):\", (search_result[0].id, search_result[-1].id))\n",
    "    print(\"=\"*10)\n",
    "    tweets[max_id] = search_result\n",
    "    time.sleep(0.5)\n",
    "    "
   ]
  },
  {
   "cell_type": "code",
   "execution_count": 464,
   "metadata": {
    "collapsed": false
   },
   "outputs": [
    {
     "name": "stdout",
     "output_type": "stream",
     "text": [
      "895793799024136191 34\n",
      "897464355540697087 50\n"
     ]
    }
   ],
   "source": [
    "for k, v in tweets.items():\n",
    "    print(k, len(v))"
   ]
  },
  {
   "cell_type": "markdown",
   "metadata": {},
   "source": [
    "### Favorite"
   ]
  },
  {
   "cell_type": "code",
   "execution_count": 308,
   "metadata": {
    "collapsed": false,
    "scrolled": false
   },
   "outputs": [
    {
     "name": "stdout",
     "output_type": "stream",
     "text": [
      "start: 2017-08-18 07:36:24.536214\n"
     ]
    }
   ],
   "source": [
    "print(\"start:\", datetime.datetime.now())\n",
    "for f in tweepy.Cursor(api.favorites).items():\n",
    "    try:\n",
    "        api.destroy_favorite(f.id)\n",
    "        time.sleep(0.2)\n",
    "    except Exception as e:\n",
    "        print(e)\n",
    "        print(\"err:\", datetime.datetime.now())\n",
    "        break\n"
   ]
  },
  {
   "cell_type": "markdown",
   "metadata": {},
   "source": [
    "## Stream\n",
    "- <http://docs.tweepy.org/en/v3.5.0/streaming_how_to.html>\n",
    "- <https://github.com/tweepy/tweepy/blob/v3.5.0/tweepy/streaming.py#L30-L136>\n",
    "- <https://dev.twitter.com/streaming/overview>\n",
    "\n",
    "### run\n",
    "from there method. inner: _start -> _run, when async stream uses threading.Thread\n",
    "\n",
    "- filter\n",
    "- sitestream\n",
    "- userstream\n",
    "- sample\n",
    "- retweet\n",
    "- firehose\n"
   ]
  },
  {
   "cell_type": "code",
   "execution_count": 265,
   "metadata": {
    "collapsed": true
   },
   "outputs": [],
   "source": [
    "class MyStreamListener(tweepy.StreamListener):\n",
    "    def on_connect(self):\n",
    "        print(\"connected\")\n",
    "        \n",
    "    def on_status(self, status):\n",
    "        print(status.text)\n",
    "        \n",
    "    def on_error(self, status_code):\n",
    "        \"\"\"https://dev.twitter.com/overview/api/response-codes\n",
    "        \"\"\"\n",
    "        print(status_code)\n",
    "        if status_code == 420:\n",
    "            return False\n",
    "\n",
    "    def on_connect(self):\n",
    "        print(\"connected\")"
   ]
  },
  {
   "cell_type": "code",
   "execution_count": 614,
   "metadata": {
    "collapsed": true
   },
   "outputs": [],
   "source": [
    "listener = MyStreamListener()\n",
    "stream = tweepy.Stream(auth=api.auth, listener=listener)"
   ]
  },
  {
   "cell_type": "code",
   "execution_count": 615,
   "metadata": {
    "collapsed": true
   },
   "outputs": [],
   "source": [
    "stream.disconnect()"
   ]
  },
  {
   "cell_type": "code",
   "execution_count": null,
   "metadata": {
    "collapsed": false,
    "scrolled": false
   },
   "outputs": [],
   "source": [
    "try:\n",
    "    stream.filter(track=[\"python\"])\n",
    "except Exception as e:\n",
    "    print(e)"
   ]
  },
  {
   "cell_type": "markdown",
   "metadata": {},
   "source": [
    "### HTTP Status Codes"
   ]
  },
  {
   "cell_type": "code",
   "execution_count": 260,
   "metadata": {
    "collapsed": true
   },
   "outputs": [],
   "source": [
    "tables = pd.read_html(\"https://dev.twitter.com/overview/api/response-codes\")"
   ]
  },
  {
   "cell_type": "code",
   "execution_count": 261,
   "metadata": {
    "collapsed": false
   },
   "outputs": [
    {
     "data": {
      "text/plain": [
       "2"
      ]
     },
     "execution_count": 261,
     "metadata": {},
     "output_type": "execute_result"
    }
   ],
   "source": [
    "len(tables)"
   ]
  },
  {
   "cell_type": "code",
   "execution_count": 262,
   "metadata": {
    "collapsed": false
   },
   "outputs": [
    {
     "data": {
      "text/html": [
       "<div>\n",
       "<table border=\"1\" class=\"dataframe\">\n",
       "  <thead>\n",
       "    <tr style=\"text-align: right;\">\n",
       "      <th></th>\n",
       "      <th>Code</th>\n",
       "      <th>Text</th>\n",
       "      <th>Description</th>\n",
       "    </tr>\n",
       "  </thead>\n",
       "  <tbody>\n",
       "    <tr>\n",
       "      <th>0</th>\n",
       "      <td>200</td>\n",
       "      <td>OK</td>\n",
       "      <td>Success!</td>\n",
       "    </tr>\n",
       "    <tr>\n",
       "      <th>1</th>\n",
       "      <td>304</td>\n",
       "      <td>Not Modified</td>\n",
       "      <td>There was no new data to return.</td>\n",
       "    </tr>\n",
       "    <tr>\n",
       "      <th>2</th>\n",
       "      <td>400</td>\n",
       "      <td>Bad Request</td>\n",
       "      <td>The request was invalid or cannot be otherwise...</td>\n",
       "    </tr>\n",
       "    <tr>\n",
       "      <th>3</th>\n",
       "      <td>401</td>\n",
       "      <td>Unauthorized</td>\n",
       "      <td>Missing or incorrect authentication credential...</td>\n",
       "    </tr>\n",
       "    <tr>\n",
       "      <th>4</th>\n",
       "      <td>403</td>\n",
       "      <td>Forbidden</td>\n",
       "      <td>The request is understood, but it has been ref...</td>\n",
       "    </tr>\n",
       "    <tr>\n",
       "      <th>5</th>\n",
       "      <td>404</td>\n",
       "      <td>Not Found</td>\n",
       "      <td>The URI requested is invalid or the resource r...</td>\n",
       "    </tr>\n",
       "    <tr>\n",
       "      <th>6</th>\n",
       "      <td>406</td>\n",
       "      <td>Not Acceptable</td>\n",
       "      <td>Returned when an invalid format is specified i...</td>\n",
       "    </tr>\n",
       "    <tr>\n",
       "      <th>7</th>\n",
       "      <td>410</td>\n",
       "      <td>Gone</td>\n",
       "      <td>This resource is gone. Used to indicate that a...</td>\n",
       "    </tr>\n",
       "    <tr>\n",
       "      <th>8</th>\n",
       "      <td>420</td>\n",
       "      <td>Enhance Your Calm</td>\n",
       "      <td>Returned when an application is being rate lim...</td>\n",
       "    </tr>\n",
       "    <tr>\n",
       "      <th>9</th>\n",
       "      <td>422</td>\n",
       "      <td>Unprocessable Entity</td>\n",
       "      <td>Returned when an image uploaded to POST accoun...</td>\n",
       "    </tr>\n",
       "    <tr>\n",
       "      <th>10</th>\n",
       "      <td>429</td>\n",
       "      <td>Too Many Requests</td>\n",
       "      <td>Returned when a request cannot be served due t...</td>\n",
       "    </tr>\n",
       "    <tr>\n",
       "      <th>11</th>\n",
       "      <td>500</td>\n",
       "      <td>Internal Server Error</td>\n",
       "      <td>Something is broken. Please post to the develo...</td>\n",
       "    </tr>\n",
       "    <tr>\n",
       "      <th>12</th>\n",
       "      <td>502</td>\n",
       "      <td>Bad Gateway</td>\n",
       "      <td>Twitter is down or being upgraded.</td>\n",
       "    </tr>\n",
       "    <tr>\n",
       "      <th>13</th>\n",
       "      <td>503</td>\n",
       "      <td>Service Unavailable</td>\n",
       "      <td>The Twitter servers are up, but overloaded wit...</td>\n",
       "    </tr>\n",
       "    <tr>\n",
       "      <th>14</th>\n",
       "      <td>504</td>\n",
       "      <td>Gateway timeout</td>\n",
       "      <td>The Twitter servers are up, but the request co...</td>\n",
       "    </tr>\n",
       "  </tbody>\n",
       "</table>\n",
       "</div>"
      ],
      "text/plain": [
       "    Code                   Text  \\\n",
       "0    200                     OK   \n",
       "1    304           Not Modified   \n",
       "2    400            Bad Request   \n",
       "3    401           Unauthorized   \n",
       "4    403              Forbidden   \n",
       "5    404              Not Found   \n",
       "6    406         Not Acceptable   \n",
       "7    410                   Gone   \n",
       "8    420      Enhance Your Calm   \n",
       "9    422   Unprocessable Entity   \n",
       "10   429      Too Many Requests   \n",
       "11   500  Internal Server Error   \n",
       "12   502            Bad Gateway   \n",
       "13   503    Service Unavailable   \n",
       "14   504        Gateway timeout   \n",
       "\n",
       "                                          Description  \n",
       "0                                            Success!  \n",
       "1                    There was no new data to return.  \n",
       "2   The request was invalid or cannot be otherwise...  \n",
       "3   Missing or incorrect authentication credential...  \n",
       "4   The request is understood, but it has been ref...  \n",
       "5   The URI requested is invalid or the resource r...  \n",
       "6   Returned when an invalid format is specified i...  \n",
       "7   This resource is gone. Used to indicate that a...  \n",
       "8   Returned when an application is being rate lim...  \n",
       "9   Returned when an image uploaded to POST accoun...  \n",
       "10  Returned when a request cannot be served due t...  \n",
       "11  Something is broken. Please post to the develo...  \n",
       "12                 Twitter is down or being upgraded.  \n",
       "13  The Twitter servers are up, but overloaded wit...  \n",
       "14  The Twitter servers are up, but the request co...  "
      ]
     },
     "execution_count": 262,
     "metadata": {},
     "output_type": "execute_result"
    }
   ],
   "source": [
    "tables[0]"
   ]
  },
  {
   "cell_type": "markdown",
   "metadata": {},
   "source": [
    "### Error Codes"
   ]
  },
  {
   "cell_type": "code",
   "execution_count": 263,
   "metadata": {
    "collapsed": false
   },
   "outputs": [
    {
     "data": {
      "text/html": [
       "<div>\n",
       "<table border=\"1\" class=\"dataframe\">\n",
       "  <thead>\n",
       "    <tr style=\"text-align: right;\">\n",
       "      <th></th>\n",
       "      <th>Code</th>\n",
       "      <th>Text</th>\n",
       "      <th>Description</th>\n",
       "    </tr>\n",
       "  </thead>\n",
       "  <tbody>\n",
       "    <tr>\n",
       "      <th>0</th>\n",
       "      <td>32</td>\n",
       "      <td>Could not authenticate you</td>\n",
       "      <td>Your call could not be completed as dialed.</td>\n",
       "    </tr>\n",
       "    <tr>\n",
       "      <th>1</th>\n",
       "      <td>34</td>\n",
       "      <td>Sorry, that page does not exist</td>\n",
       "      <td>Corresponds with HTTP 404 - the specified reso...</td>\n",
       "    </tr>\n",
       "    <tr>\n",
       "      <th>2</th>\n",
       "      <td>36</td>\n",
       "      <td>You cannot report yourself for spam.</td>\n",
       "      <td>Corresponds with HTTP 403. You cannot use your...</td>\n",
       "    </tr>\n",
       "    <tr>\n",
       "      <th>3</th>\n",
       "      <td>44</td>\n",
       "      <td>attachment_url parameter is invalid</td>\n",
       "      <td>Corresponds with HTTP 400. The URL value provi...</td>\n",
       "    </tr>\n",
       "    <tr>\n",
       "      <th>4</th>\n",
       "      <td>50</td>\n",
       "      <td>User not found.</td>\n",
       "      <td>Corresponds with HTTP 404. The user is not found.</td>\n",
       "    </tr>\n",
       "    <tr>\n",
       "      <th>5</th>\n",
       "      <td>63</td>\n",
       "      <td>User has been suspended.</td>\n",
       "      <td>The user account has been suspended and inform...</td>\n",
       "    </tr>\n",
       "    <tr>\n",
       "      <th>6</th>\n",
       "      <td>64</td>\n",
       "      <td>Your account is suspended and is not permitted...</td>\n",
       "      <td>Corresponds with HTTP 403 — the access token b...</td>\n",
       "    </tr>\n",
       "    <tr>\n",
       "      <th>7</th>\n",
       "      <td>68</td>\n",
       "      <td>The Twitter REST API v1 is no longer active. P...</td>\n",
       "      <td>Corresponds to a HTTP request to a retired v1-...</td>\n",
       "    </tr>\n",
       "    <tr>\n",
       "      <th>8</th>\n",
       "      <td>87</td>\n",
       "      <td>Client is not permitted to perform this action.</td>\n",
       "      <td>Corresponds with HTTP 403. The endpoint called...</td>\n",
       "    </tr>\n",
       "    <tr>\n",
       "      <th>9</th>\n",
       "      <td>88</td>\n",
       "      <td>Rate limit exceeded</td>\n",
       "      <td>The request limit for this resource has been r...</td>\n",
       "    </tr>\n",
       "    <tr>\n",
       "      <th>10</th>\n",
       "      <td>89</td>\n",
       "      <td>Invalid or expired token</td>\n",
       "      <td>The access token used in the request is incorr...</td>\n",
       "    </tr>\n",
       "    <tr>\n",
       "      <th>11</th>\n",
       "      <td>92</td>\n",
       "      <td>SSL is required</td>\n",
       "      <td>Only SSL connections are allowed in the API, y...</td>\n",
       "    </tr>\n",
       "    <tr>\n",
       "      <th>12</th>\n",
       "      <td>93</td>\n",
       "      <td>This application is not allowed to access or d...</td>\n",
       "      <td>Corresponds with HTTP 403. The OAuth token doe...</td>\n",
       "    </tr>\n",
       "    <tr>\n",
       "      <th>13</th>\n",
       "      <td>99</td>\n",
       "      <td>Unable to verify your credentials.</td>\n",
       "      <td>Corresponds with HTTP 403. The OAuth credentia...</td>\n",
       "    </tr>\n",
       "    <tr>\n",
       "      <th>14</th>\n",
       "      <td>130</td>\n",
       "      <td>Over capacity</td>\n",
       "      <td>Corresponds with HTTP 503 - Twitter is tempora...</td>\n",
       "    </tr>\n",
       "    <tr>\n",
       "      <th>15</th>\n",
       "      <td>131</td>\n",
       "      <td>Internal error</td>\n",
       "      <td>Corresponds with HTTP 500 - An unknown interna...</td>\n",
       "    </tr>\n",
       "    <tr>\n",
       "      <th>16</th>\n",
       "      <td>135</td>\n",
       "      <td>Could not authenticate you</td>\n",
       "      <td>Corresponds with HTTP 401 - Timestamp out of b...</td>\n",
       "    </tr>\n",
       "    <tr>\n",
       "      <th>17</th>\n",
       "      <td>144</td>\n",
       "      <td>No status found with that ID.</td>\n",
       "      <td>Corresponds with HTTP 404 - the requested Twee...</td>\n",
       "    </tr>\n",
       "    <tr>\n",
       "      <th>18</th>\n",
       "      <td>150</td>\n",
       "      <td>You cannot send messages to users who are not ...</td>\n",
       "      <td>Corresponds with HTTP 403 — sending a Direct M...</td>\n",
       "    </tr>\n",
       "    <tr>\n",
       "      <th>19</th>\n",
       "      <td>151</td>\n",
       "      <td>There was an error sending your message: reason</td>\n",
       "      <td>Corresponds with HTTP 403 — sending a Direct M...</td>\n",
       "    </tr>\n",
       "    <tr>\n",
       "      <th>20</th>\n",
       "      <td>161</td>\n",
       "      <td>You are unable to follow more people at this time</td>\n",
       "      <td>Corresponds with HTTP 403 — thrown when a user...</td>\n",
       "    </tr>\n",
       "    <tr>\n",
       "      <th>21</th>\n",
       "      <td>179</td>\n",
       "      <td>Sorry, you are not authorized to see this status</td>\n",
       "      <td>Corresponds with HTTP 403 — thrown when a Twee...</td>\n",
       "    </tr>\n",
       "    <tr>\n",
       "      <th>22</th>\n",
       "      <td>185</td>\n",
       "      <td>User is over daily status update limit</td>\n",
       "      <td>Corresponds with HTTP 403 — thrown when a Twee...</td>\n",
       "    </tr>\n",
       "    <tr>\n",
       "      <th>23</th>\n",
       "      <td>187</td>\n",
       "      <td>Status is a duplicate</td>\n",
       "      <td>The status text has already been Tweeted by th...</td>\n",
       "    </tr>\n",
       "    <tr>\n",
       "      <th>24</th>\n",
       "      <td>205</td>\n",
       "      <td>You are over the limit for spam reports.</td>\n",
       "      <td>Corresponds with HTTP 403. The account limit f...</td>\n",
       "    </tr>\n",
       "    <tr>\n",
       "      <th>25</th>\n",
       "      <td>215</td>\n",
       "      <td>Bad authentication data</td>\n",
       "      <td>Typically sent with 1.1 responses with HTTP co...</td>\n",
       "    </tr>\n",
       "    <tr>\n",
       "      <th>26</th>\n",
       "      <td>220</td>\n",
       "      <td>Your credentials do not allow access to this r...</td>\n",
       "      <td>Corresponds with HTTP 403. The authentication ...</td>\n",
       "    </tr>\n",
       "    <tr>\n",
       "      <th>27</th>\n",
       "      <td>226</td>\n",
       "      <td>This request looks like it might be automated....</td>\n",
       "      <td>We constantly monitor and adjust our filters t...</td>\n",
       "    </tr>\n",
       "    <tr>\n",
       "      <th>28</th>\n",
       "      <td>231</td>\n",
       "      <td>User must verify login</td>\n",
       "      <td>Returned as a challenge in xAuth when the user...</td>\n",
       "    </tr>\n",
       "    <tr>\n",
       "      <th>29</th>\n",
       "      <td>251</td>\n",
       "      <td>This endpoint has been retired and should not ...</td>\n",
       "      <td>Corresponds to a HTTP request to a retired URL.</td>\n",
       "    </tr>\n",
       "    <tr>\n",
       "      <th>30</th>\n",
       "      <td>261</td>\n",
       "      <td>Application cannot perform write actions.</td>\n",
       "      <td>Corresponds with HTTP 403 — thrown when the ap...</td>\n",
       "    </tr>\n",
       "    <tr>\n",
       "      <th>31</th>\n",
       "      <td>271</td>\n",
       "      <td>You can’t mute yourself.</td>\n",
       "      <td>Corresponds with HTTP 403. The authenticated u...</td>\n",
       "    </tr>\n",
       "    <tr>\n",
       "      <th>32</th>\n",
       "      <td>272</td>\n",
       "      <td>You are not muting the specified user.</td>\n",
       "      <td>Corresponds with HTTP 403. The authenticated u...</td>\n",
       "    </tr>\n",
       "    <tr>\n",
       "      <th>33</th>\n",
       "      <td>323</td>\n",
       "      <td>Animated GIFs are not allowed when uploading m...</td>\n",
       "      <td>Corresponds with HTTP 400. Only one animated G...</td>\n",
       "    </tr>\n",
       "    <tr>\n",
       "      <th>34</th>\n",
       "      <td>324</td>\n",
       "      <td>The validation of media ids failed.</td>\n",
       "      <td>Corresponds with HTTP 400. There was a problem...</td>\n",
       "    </tr>\n",
       "    <tr>\n",
       "      <th>35</th>\n",
       "      <td>325</td>\n",
       "      <td>A media id was not found.</td>\n",
       "      <td>Corresponds with HTTP 400. The media ID attach...</td>\n",
       "    </tr>\n",
       "    <tr>\n",
       "      <th>36</th>\n",
       "      <td>326</td>\n",
       "      <td>To protect our users from spam and other malic...</td>\n",
       "      <td>Corresponds with HTTP 403. The user should log...</td>\n",
       "    </tr>\n",
       "    <tr>\n",
       "      <th>37</th>\n",
       "      <td>354</td>\n",
       "      <td>The text of your direct message is over the ma...</td>\n",
       "      <td>Corresponds with HTTP 403. The message size ex...</td>\n",
       "    </tr>\n",
       "    <tr>\n",
       "      <th>38</th>\n",
       "      <td>385</td>\n",
       "      <td>You attempted to reply to a tweet that is dele...</td>\n",
       "      <td>Corresponds with HTTP 403. A reply can only be...</td>\n",
       "    </tr>\n",
       "    <tr>\n",
       "      <th>39</th>\n",
       "      <td>386</td>\n",
       "      <td>The Tweet exceeds the number of allowed attach...</td>\n",
       "      <td>Corresponds with HTTP 403. A Tweet is limited ...</td>\n",
       "    </tr>\n",
       "  </tbody>\n",
       "</table>\n",
       "</div>"
      ],
      "text/plain": [
       "    Code                                               Text  \\\n",
       "0     32                         Could not authenticate you   \n",
       "1     34                    Sorry, that page does not exist   \n",
       "2     36               You cannot report yourself for spam.   \n",
       "3     44                attachment_url parameter is invalid   \n",
       "4     50                                    User not found.   \n",
       "5     63                           User has been suspended.   \n",
       "6     64  Your account is suspended and is not permitted...   \n",
       "7     68  The Twitter REST API v1 is no longer active. P...   \n",
       "8     87    Client is not permitted to perform this action.   \n",
       "9     88                                Rate limit exceeded   \n",
       "10    89                           Invalid or expired token   \n",
       "11    92                                    SSL is required   \n",
       "12    93  This application is not allowed to access or d...   \n",
       "13    99                 Unable to verify your credentials.   \n",
       "14   130                                      Over capacity   \n",
       "15   131                                     Internal error   \n",
       "16   135                         Could not authenticate you   \n",
       "17   144                      No status found with that ID.   \n",
       "18   150  You cannot send messages to users who are not ...   \n",
       "19   151    There was an error sending your message: reason   \n",
       "20   161  You are unable to follow more people at this time   \n",
       "21   179   Sorry, you are not authorized to see this status   \n",
       "22   185             User is over daily status update limit   \n",
       "23   187                              Status is a duplicate   \n",
       "24   205           You are over the limit for spam reports.   \n",
       "25   215                            Bad authentication data   \n",
       "26   220  Your credentials do not allow access to this r...   \n",
       "27   226  This request looks like it might be automated....   \n",
       "28   231                             User must verify login   \n",
       "29   251  This endpoint has been retired and should not ...   \n",
       "30   261          Application cannot perform write actions.   \n",
       "31   271                           You can’t mute yourself.   \n",
       "32   272             You are not muting the specified user.   \n",
       "33   323  Animated GIFs are not allowed when uploading m...   \n",
       "34   324                The validation of media ids failed.   \n",
       "35   325                          A media id was not found.   \n",
       "36   326  To protect our users from spam and other malic...   \n",
       "37   354  The text of your direct message is over the ma...   \n",
       "38   385  You attempted to reply to a tweet that is dele...   \n",
       "39   386  The Tweet exceeds the number of allowed attach...   \n",
       "\n",
       "                                          Description  \n",
       "0         Your call could not be completed as dialed.  \n",
       "1   Corresponds with HTTP 404 - the specified reso...  \n",
       "2   Corresponds with HTTP 403. You cannot use your...  \n",
       "3   Corresponds with HTTP 400. The URL value provi...  \n",
       "4   Corresponds with HTTP 404. The user is not found.  \n",
       "5   The user account has been suspended and inform...  \n",
       "6   Corresponds with HTTP 403 — the access token b...  \n",
       "7   Corresponds to a HTTP request to a retired v1-...  \n",
       "8   Corresponds with HTTP 403. The endpoint called...  \n",
       "9   The request limit for this resource has been r...  \n",
       "10  The access token used in the request is incorr...  \n",
       "11  Only SSL connections are allowed in the API, y...  \n",
       "12  Corresponds with HTTP 403. The OAuth token doe...  \n",
       "13  Corresponds with HTTP 403. The OAuth credentia...  \n",
       "14  Corresponds with HTTP 503 - Twitter is tempora...  \n",
       "15  Corresponds with HTTP 500 - An unknown interna...  \n",
       "16  Corresponds with HTTP 401 - Timestamp out of b...  \n",
       "17  Corresponds with HTTP 404 - the requested Twee...  \n",
       "18  Corresponds with HTTP 403 — sending a Direct M...  \n",
       "19  Corresponds with HTTP 403 — sending a Direct M...  \n",
       "20  Corresponds with HTTP 403 — thrown when a user...  \n",
       "21  Corresponds with HTTP 403 — thrown when a Twee...  \n",
       "22  Corresponds with HTTP 403 — thrown when a Twee...  \n",
       "23  The status text has already been Tweeted by th...  \n",
       "24  Corresponds with HTTP 403. The account limit f...  \n",
       "25  Typically sent with 1.1 responses with HTTP co...  \n",
       "26  Corresponds with HTTP 403. The authentication ...  \n",
       "27  We constantly monitor and adjust our filters t...  \n",
       "28  Returned as a challenge in xAuth when the user...  \n",
       "29    Corresponds to a HTTP request to a retired URL.  \n",
       "30  Corresponds with HTTP 403 — thrown when the ap...  \n",
       "31  Corresponds with HTTP 403. The authenticated u...  \n",
       "32  Corresponds with HTTP 403. The authenticated u...  \n",
       "33  Corresponds with HTTP 400. Only one animated G...  \n",
       "34  Corresponds with HTTP 400. There was a problem...  \n",
       "35  Corresponds with HTTP 400. The media ID attach...  \n",
       "36  Corresponds with HTTP 403. The user should log...  \n",
       "37  Corresponds with HTTP 403. The message size ex...  \n",
       "38  Corresponds with HTTP 403. A reply can only be...  \n",
       "39  Corresponds with HTTP 403. A Tweet is limited ...  "
      ]
     },
     "execution_count": 263,
     "metadata": {},
     "output_type": "execute_result"
    }
   ],
   "source": [
    "tables[1]"
   ]
  }
 ],
 "metadata": {
  "kernelspec": {
   "display_name": "Python [default]",
   "language": "python",
   "name": "python3"
  },
  "language_info": {
   "codemirror_mode": {
    "name": "ipython",
    "version": 3
   },
   "file_extension": ".py",
   "mimetype": "text/x-python",
   "name": "python",
   "nbconvert_exporter": "python",
   "pygments_lexer": "ipython3",
   "version": "3.5.2"
  }
 },
 "nbformat": 4,
 "nbformat_minor": 2
}
