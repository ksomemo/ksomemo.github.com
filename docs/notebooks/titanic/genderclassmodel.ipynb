{
 "cells": [
  {
   "cell_type": "code",
   "execution_count": 1,
   "metadata": {
    "ExecuteTime": {
     "end_time": "2016-05-22T06:15:56.182091",
     "start_time": "2016-05-22T06:15:56.155227"
    },
    "collapsed": false
   },
   "outputs": [
    {
     "data": {
      "text/plain": [
       "' Now that the user can read in a file this creates a model which uses the price, class and gender\\nAuthor : AstroDave\\nDate : 18th September 2012\\nRevised : 28 March 2014\\n\\n'"
      ]
     },
     "execution_count": 1,
     "metadata": {},
     "output_type": "execute_result"
    }
   ],
   "source": [
    "\"\"\" Now that the user can read in a file this creates a model which uses the price, class and gender\n",
    "Author : AstroDave\n",
    "Date : 18th September 2012\n",
    "Revised : 28 March 2014\n",
    "\n",
    "\"\"\""
   ]
  },
  {
   "cell_type": "code",
   "execution_count": 2,
   "metadata": {
    "ExecuteTime": {
     "end_time": "2016-05-22T06:16:03.999999",
     "start_time": "2016-05-22T06:16:03.648770"
    },
    "collapsed": true
   },
   "outputs": [],
   "source": [
    "import csv as csv\n",
    "import numpy as np\n"
   ]
  },
  {
   "cell_type": "code",
   "execution_count": 12,
   "metadata": {
    "ExecuteTime": {
     "end_time": "2016-05-22T06:25:03.264747",
     "start_time": "2016-05-22T06:25:00.602739"
    },
    "collapsed": true
   },
   "outputs": [],
   "source": [
    "import matplotlib.pyplot as plt\n",
    "import seaborn as sns\n",
    "\n",
    "%matplotlib inline"
   ]
  },
  {
   "cell_type": "code",
   "execution_count": 37,
   "metadata": {
    "ExecuteTime": {
     "end_time": "2016-05-22T06:35:04.747128",
     "start_time": "2016-05-22T06:35:04.727666"
    },
    "collapsed": false,
    "scrolled": false
   },
   "outputs": [
    {
     "data": {
      "text/plain": [
       "(['PassengerId',\n",
       "  'Survived',\n",
       "  'Pclass',\n",
       "  'Name',\n",
       "  'Sex',\n",
       "  'Age',\n",
       "  'SibSp',\n",
       "  'Parch',\n",
       "  'Ticket',\n",
       "  'Fare',\n",
       "  'Cabin',\n",
       "  'Embarked'],\n",
       " array([['1', '0', '3', ..., '7.25', '', 'S'],\n",
       "        ['2', '1', '1', ..., '71.2833', 'C85', 'C'],\n",
       "        ['3', '1', '3', ..., '7.925', '', 'S'],\n",
       "        ..., \n",
       "        ['889', '0', '3', ..., '23.45', '', 'S'],\n",
       "        ['890', '1', '1', ..., '30', 'C148', 'C'],\n",
       "        ['891', '0', '3', ..., '7.75', '', 'Q']], \n",
       "       dtype='<U82'))"
      ]
     },
     "execution_count": 37,
     "metadata": {},
     "output_type": "execute_result"
    }
   ],
   "source": [
    "csv_file_object = csv.reader(open('train.csv', 'r'))       # Load in the csv file\n",
    "header = next(csv_file_object)                             # Skip the fist line as it is a header\n",
    "data=[]                                                     # Create a variable to hold the data\n",
    "\n",
    "for row in csv_file_object:                 # Skip through each row in the csv file\n",
    "    data.append(row)                        # adding each row to the data variable\n",
    "data = np.array(data)                       # Then convert from a list to an array\n",
    "header, data"
   ]
  },
  {
   "cell_type": "code",
   "execution_count": 38,
   "metadata": {
    "ExecuteTime": {
     "end_time": "2016-05-22T06:35:20.880797",
     "start_time": "2016-05-22T06:35:20.383295"
    },
    "collapsed": false
   },
   "outputs": [
    {
     "data": {
      "text/plain": [
       "<matplotlib.axes._subplots.AxesSubplot at 0x11b3554a8>"
      ]
     },
     "execution_count": 38,
     "metadata": {},
     "output_type": "execute_result"
    },
    {
     "data": {
      "image/png": "[encoded data removed]",
      "text/plain": [
       "<matplotlib.figure.Figure at 0x11b637e48>"
      ]
     },
     "metadata": {},
     "output_type": "display_data"
    }
   ],
   "source": [
    "sns.distplot(data[0::, 9].astype(np.float))"
   ]
  },
  {
   "cell_type": "code",
   "execution_count": 40,
   "metadata": {
    "ExecuteTime": {
     "end_time": "2016-05-22T06:35:27.660466",
     "start_time": "2016-05-22T06:35:27.654512"
    },
    "collapsed": false
   },
   "outputs": [],
   "source": [
    "# In order to analyse the price column I need to bin up that data\n",
    "# here are my binning parameters, the problem we face is some of the fares are very large\n",
    "# So we can either have a lot of bins with nothing in them or we can just lose some\n",
    "# information by just considering that anythng over 39 is simply in the last bin.\n",
    "# So we add a ceiling\n",
    "fare_ceiling = 40\n",
    "# then modify the data in the Fare column to = 39, if it is greater or equal to the ceiling\n",
    "data[ data[0::,9].astype(np.float) >= fare_ceiling, 9 ] = fare_ceiling - 1.0\n"
   ]
  },
  {
   "cell_type": "code",
   "execution_count": 41,
   "metadata": {
    "ExecuteTime": {
     "end_time": "2016-05-22T06:35:29.374699",
     "start_time": "2016-05-22T06:35:29.020490"
    },
    "collapsed": false,
    "scrolled": true
   },
   "outputs": [
    {
     "data": {
      "text/plain": [
       "<matplotlib.axes._subplots.AxesSubplot at 0x11b3920f0>"
      ]
     },
     "execution_count": 41,
     "metadata": {},
     "output_type": "execute_result"
    },
    {
     "data": {
      "image/png": "[encoded data removed]",
      "text/plain": [
       "<matplotlib.figure.Figure at 0x11ad58630>"
      ]
     },
     "metadata": {},
     "output_type": "display_data"
    }
   ],
   "source": [
    "sns.distplot(data[0::, 9].astype(np.float))"
   ]
  },
  {
   "cell_type": "code",
   "execution_count": 56,
   "metadata": {
    "ExecuteTime": {
     "end_time": "2016-05-22T06:41:50.164739",
     "start_time": "2016-05-22T06:41:50.158372"
    },
    "collapsed": true
   },
   "outputs": [],
   "source": [
    "fare_bracket_size = 10\n",
    "number_of_price_brackets = int(fare_ceiling / fare_bracket_size)\n",
    "number_of_classes = 3                             # I know there were 1st, 2nd and 3rd classes on board.\n",
    "number_of_classes = len(np.unique(data[0::,2]))   # But it's better practice to calculate this from the Pclass directly:\n",
    "                                                  # just take the length of an array of UNIQUE values in column index 2\n"
   ]
  },
  {
   "cell_type": "code",
   "execution_count": 57,
   "metadata": {
    "ExecuteTime": {
     "end_time": "2016-05-22T06:41:52.308248",
     "start_time": "2016-05-22T06:41:52.303386"
    },
    "collapsed": false
   },
   "outputs": [
    {
     "data": {
      "text/plain": [
       "4"
      ]
     },
     "execution_count": 57,
     "metadata": {},
     "output_type": "execute_result"
    }
   ],
   "source": [
    "number_of_price_brackets"
   ]
  },
  {
   "cell_type": "code",
   "execution_count": 58,
   "metadata": {
    "ExecuteTime": {
     "end_time": "2016-05-22T06:41:58.734258",
     "start_time": "2016-05-22T06:41:58.726207"
    },
    "collapsed": false
   },
   "outputs": [
    {
     "data": {
      "text/plain": [
       "array([[[ 0.,  0.,  0.,  0.],\n",
       "        [ 0.,  0.,  0.,  0.],\n",
       "        [ 0.,  0.,  0.,  0.]],\n",
       "\n",
       "       [[ 0.,  0.,  0.,  0.],\n",
       "        [ 0.,  0.,  0.,  0.],\n",
       "        [ 0.,  0.,  0.,  0.]]])"
      ]
     },
     "execution_count": 58,
     "metadata": {},
     "output_type": "execute_result"
    }
   ],
   "source": [
    "# This reference matrix will show the proportion of survivors as a sorted table of\n",
    "# gender, class and ticket fare.\n",
    "# First initialize it with all zeros\n",
    "survival_table = np.zeros([2, number_of_classes, number_of_price_brackets], float)\n",
    "survival_table"
   ]
  },
  {
   "cell_type": "code",
   "execution_count": 63,
   "metadata": {
    "ExecuteTime": {
     "end_time": "2016-05-22T06:45:08.532969",
     "start_time": "2016-05-22T06:45:08.464133"
    },
    "collapsed": false,
    "scrolled": true
   },
   "outputs": [
    {
     "name": "stderr",
     "output_type": "stream",
     "text": [
      "/Users/knt/.pyenv/versions/anaconda3-2.5.0/lib/python3.5/site-packages/numpy/core/_methods.py:59: RuntimeWarning: Mean of empty slice.\n",
      "  warnings.warn(\"Mean of empty slice.\", RuntimeWarning)\n"
     ]
    }
   ],
   "source": [
    "# I can now find the stats of all the women and men on board\n",
    "for i in range(number_of_classes):\n",
    "    for j in range(number_of_price_brackets):\n",
    "\n",
    "        women_only_stats = data[ (data[0::,4] == \"female\") \\\n",
    "                                 & (data[0::,2].astype(np.float) == i+1) \\\n",
    "                                 & (data[0:,9].astype(np.float) >= j*fare_bracket_size) \\\n",
    "                                 & (data[0:,9].astype(np.float) < (j+1)*fare_bracket_size), 1]\n",
    "\n",
    "        men_only_stats = data[ (data[0::,4] != \"female\") \\\n",
    "                                 & (data[0::,2].astype(np.float) == i+1) \\\n",
    "                                 & (data[0:,9].astype(np.float) >= j*fare_bracket_size) \\\n",
    "                                 & (data[0:,9].astype(np.float) < (j+1)*fare_bracket_size), 1]\n",
    "\n",
    "                                 #if i == 0 and j == 3:\n",
    "\n",
    "        survival_table[0, i, j] = np.mean(women_only_stats.astype(np.float))  # Female stats\n",
    "        survival_table[1, i, j] = np.mean(men_only_stats.astype(np.float))    # Male stats\n"
   ]
  },
  {
   "cell_type": "code",
   "execution_count": 62,
   "metadata": {
    "ExecuteTime": {
     "end_time": "2016-05-22T06:43:21.600650",
     "start_time": "2016-05-22T06:43:21.594674"
    },
    "collapsed": false,
    "scrolled": true
   },
   "outputs": [
    {
     "data": {
      "text/plain": [
       "array([[[        nan,         nan,  0.83333333,  0.97727273],\n",
       "        [        nan,  0.91428571,  0.9       ,  1.        ],\n",
       "        [ 0.59375   ,  0.58139535,  0.33333333,  0.125     ]],\n",
       "\n",
       "       [[ 0.        ,         nan,  0.4       ,  0.38372093],\n",
       "        [ 0.        ,  0.15873016,  0.16      ,  0.21428571],\n",
       "        [ 0.11153846,  0.23684211,  0.125     ,  0.24      ]]])"
      ]
     },
     "execution_count": 62,
     "metadata": {},
     "output_type": "execute_result"
    }
   ],
   "source": [
    "survival_table"
   ]
  },
  {
   "cell_type": "code",
   "execution_count": 68,
   "metadata": {
    "ExecuteTime": {
     "end_time": "2016-05-22T06:46:53.242103",
     "start_time": "2016-05-22T06:46:53.237630"
    },
    "collapsed": false,
    "scrolled": true
   },
   "outputs": [
    {
     "name": "stdout",
     "output_type": "stream",
     "text": [
      "1\n"
     ]
    },
    {
     "name": "stderr",
     "output_type": "stream",
     "text": [
      "1\n"
     ]
    }
   ],
   "source": [
    "import sys\n",
    "print(1)\n",
    "print(1, file=sys.stderr)"
   ]
  },
  {
   "cell_type": "code",
   "execution_count": 64,
   "metadata": {
    "ExecuteTime": {
     "end_time": "2016-05-22T06:45:28.691111",
     "start_time": "2016-05-22T06:45:28.680876"
    },
    "collapsed": false
   },
   "outputs": [
    {
     "data": {
      "text/plain": [
       "array([[[ 0.        ,  0.        ,  0.83333333,  0.97727273],\n",
       "        [ 0.        ,  0.91428571,  0.9       ,  1.        ],\n",
       "        [ 0.59375   ,  0.58139535,  0.33333333,  0.125     ]],\n",
       "\n",
       "       [[ 0.        ,  0.        ,  0.4       ,  0.38372093],\n",
       "        [ 0.        ,  0.15873016,  0.16      ,  0.21428571],\n",
       "        [ 0.11153846,  0.23684211,  0.125     ,  0.24      ]]])"
      ]
     },
     "execution_count": 64,
     "metadata": {},
     "output_type": "execute_result"
    }
   ],
   "source": [
    "# Since in python if it tries to find the mean of an array with nothing in it\n",
    "# (such that the denominator is 0), then it returns nan, we can convert these to 0\n",
    "# by just saying where does the array not equal the array, and set these to 0.\n",
    "survival_table[ survival_table != survival_table ] = 0.\n",
    "survival_table"
   ]
  },
  {
   "cell_type": "code",
   "execution_count": 70,
   "metadata": {
    "ExecuteTime": {
     "end_time": "2016-05-22T22:05:26.207853",
     "start_time": "2016-05-22T22:05:26.196742"
    },
    "collapsed": false
   },
   "outputs": [
    {
     "data": {
      "text/plain": [
       "array([[[ 0.,  0.,  1.,  1.],\n",
       "        [ 0.,  1.,  1.,  1.],\n",
       "        [ 1.,  1.,  0.,  0.]],\n",
       "\n",
       "       [[ 0.,  0.,  0.,  0.],\n",
       "        [ 0.,  0.,  0.,  0.],\n",
       "        [ 0.,  0.,  0.,  0.]]])"
      ]
     },
     "execution_count": 70,
     "metadata": {},
     "output_type": "execute_result"
    }
   ],
   "source": [
    "# Now I have my proportion of survivors, simply round them such that if <0.5\n",
    "# I predict they dont surivive, and if >= 0.5 they do\n",
    "survival_table[ survival_table < 0.5 ] = 0\n",
    "survival_table[ survival_table >= 0.5 ] = 1\n",
    "survival_table"
   ]
  },
  {
   "cell_type": "code",
   "execution_count": 71,
   "metadata": {
    "ExecuteTime": {
     "end_time": "2016-05-22T22:06:33.815869",
     "start_time": "2016-05-22T22:06:33.806687"
    },
    "collapsed": true
   },
   "outputs": [],
   "source": [
    "# Now I have my indicator I can read in the test file and write out\n",
    "# if a women then survived(1) if a man then did not survived (0)\n",
    "# First read in test\n",
    "test_file = open('test.csv', 'r')\n",
    "test_file_object = csv.reader(test_file)\n",
    "header = next(test_file_object)\n"
   ]
  },
  {
   "cell_type": "code",
   "execution_count": 72,
   "metadata": {
    "ExecuteTime": {
     "end_time": "2016-05-22T22:06:36.447212",
     "start_time": "2016-05-22T22:06:36.435855"
    },
    "collapsed": false
   },
   "outputs": [
    {
     "data": {
      "text/plain": [
       "22"
      ]
     },
     "execution_count": 72,
     "metadata": {},
     "output_type": "execute_result"
    }
   ],
   "source": [
    "# Also open the a new file so I can write to it. \n",
    "predictions_file = open(\"genderclassmodel.csv\", \"w\")\n",
    "predictions_file_object = csv.writer(predictions_file)\n",
    "predictions_file_object.writerow([\"PassengerId\", \"Survived\"])\n"
   ]
  },
  {
   "cell_type": "code",
   "execution_count": 74,
   "metadata": {
    "ExecuteTime": {
     "end_time": "2016-05-22T22:07:02.950152",
     "start_time": "2016-05-22T22:07:02.916909"
    },
    "collapsed": false
   },
   "outputs": [
    {
     "name": "stderr",
     "output_type": "stream",
     "text": [
      "/Users/knt/.pyenv/versions/anaconda3-2.5.0/lib/python3.5/site-packages/ipykernel/__main__.py:25: DeprecationWarning: using a non-integer number instead of an integer will result in an error in the future\n",
      "/Users/knt/.pyenv/versions/anaconda3-2.5.0/lib/python3.5/site-packages/ipykernel/__main__.py:27: DeprecationWarning: using a non-integer number instead of an integer will result in an error in the future\n"
     ]
    }
   ],
   "source": [
    "# First thing to do is bin up the price file\n",
    "for row in test_file_object:\n",
    "    for j in range(number_of_price_brackets):\n",
    "        # If there is no fare then place the price of the ticket according to class\n",
    "        try:\n",
    "            row[8] = float(row[8])    # No fare recorded will come up as a string so\n",
    "                                      # try to make it a float\n",
    "        except:                       # If fails then just bin the fare according to the class\n",
    "            bin_fare = 3 - float(row[1])\n",
    "            break                     # Break from the loop and move to the next row\n",
    "        if row[8] > fare_ceiling:     # Otherwise now test to see if it is higher\n",
    "                                      # than the fare ceiling we set earlier\n",
    "            bin_fare = number_of_price_brackets - 1\n",
    "            break                     # And then break to the next row\n",
    "\n",
    "        if row[8] >= j*fare_bracket_size\\\n",
    "            and row[8] < (j+1)*fare_bracket_size:     # If passed these tests then loop through\n",
    "                                                      # each bin until you find the right one\n",
    "                                                      # append it to the bin_fare\n",
    "                                                      # and move to the next loop\n",
    "            bin_fare = j\n",
    "            break\n",
    "        # Now I have the binned fare, passenger class, and whether female or male, we can\n",
    "        # just cross ref their details with our survival table\n",
    "    if row[3] == 'female':\n",
    "        predictions_file_object.writerow([row[0], \"%d\" % int(survival_table[ 0, float(row[1]) - 1, bin_fare ])])\n",
    "    else:\n",
    "        predictions_file_object.writerow([row[0], \"%d\" % int(survival_table[ 1, float(row[1]) - 1, bin_fare])])\n",
    "\n",
    "# Close out the files\n",
    "test_file.close()\n",
    "predictions_file.close()"
   ]
  },
  {
   "cell_type": "code",
   "execution_count": null,
   "metadata": {
    "collapsed": true
   },
   "outputs": [],
   "source": []
  }
 ],
 "metadata": {
  "hide_input": false,
  "kernelspec": {
   "display_name": "Python 3",
   "language": "python",
   "name": "python3"
  },
  "language_info": {
   "codemirror_mode": {
    "name": "ipython",
    "version": 3
   },
   "file_extension": ".py",
   "mimetype": "text/x-python",
   "name": "python",
   "nbconvert_exporter": "python",
   "pygments_lexer": "ipython3",
   "version": "3.5.1"
  },
  "toc": {
   "toc_cell": false,
   "toc_number_sections": true,
   "toc_threshold": 6,
   "toc_window_display": false
  }
 },
 "nbformat": 4,
 "nbformat_minor": 0
}
