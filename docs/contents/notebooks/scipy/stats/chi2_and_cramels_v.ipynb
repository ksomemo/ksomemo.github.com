{
 "cells": [
  {
   "cell_type": "markdown",
   "metadata": {},
   "source": [
    "# chi2_and_cramels_v"
   ]
  },
  {
   "cell_type": "code",
   "execution_count": 1,
   "metadata": {
    "collapsed": true
   },
   "outputs": [],
   "source": [
    "%matplotlib inline\n",
    "import numpy as np\n",
    "import pandas as pd\n",
    "import scipy.stats\n",
    "import matplotlib.pyplot as plt\n"
   ]
  },
  {
   "cell_type": "code",
   "execution_count": 2,
   "metadata": {
    "collapsed": false
   },
   "outputs": [
    {
     "data": {
      "text/plain": [
       "array([[34, 61, 53],\n",
       "       [38, 40, 74]])"
      ]
     },
     "execution_count": 2,
     "metadata": {},
     "output_type": "execute_result"
    }
   ],
   "source": [
    "# マンガでわかる統計学: p127- 133\n",
    "observed = np.array([\n",
    "    [34, 61, 53],\n",
    "    [38, 40, 74]\n",
    "])\n",
    "observed"
   ]
  },
  {
   "cell_type": "code",
   "execution_count": 3,
   "metadata": {
    "collapsed": true
   },
   "outputs": [],
   "source": [
    "def my_chi2_contingency(observed):\n",
    "    \"\"\"pearson chi2\n",
    "\n",
    "    observed type is ndarray.\n",
    "    observed shape length is 2.\n",
    "    \"\"\"\n",
    "    n = observed.sum()\n",
    "    colsum = observed.sum(axis=1, keepdims=True)\n",
    "    rowsum = observed.sum(axis=0, keepdims=True)\n",
    "    outer = colsum @ rowsum\n",
    "\n",
    "    # not using np.dot\n",
    "    outer = np.outer(observed.sum(axis=1),\n",
    "                           observed.sum(axis=0))\n",
    "\n",
    "    expected = outer / n\n",
    "    with np.errstate(divide=\"ignore\", invalid=\"ignore\"):\n",
    "        terms = (observed - expected) ** 2 / expected\n",
    "        chi2 = np.sum(terms)\n",
    "\n",
    "    dof = np.product(np.array(observed.shape) - 1)\n",
    "    p = 1 - scipy.stats.chi2.cdf(chi2, dof)\n",
    "\n",
    "    \"\"\"\n",
    "    # scipy\n",
    "    dof = expected.size - sum(expected.shape) + expected.ndim - 1\n",
    "    size = observed.size\n",
    "    ddof = np.array(size - 1 - dof)\n",
    "    num_obs = scipy.stats.stats._count(terms, axis=None)\n",
    "    \n",
    "    print(\"dof:\", dof)\n",
    "    print(\"size\", size)\n",
    "    print(\"ddof:\", ddof)\n",
    "    print(\"num_obs:\", num_obs)\n",
    "    print(\"num_obs - 1 - ddof:\", num_obs - 1 - ddof)\n",
    "    p = scipy.stats.chi2.sf(chi2, num_obs - 1 - ddof)\n",
    "    \"\"\"\n",
    "\n",
    "    return (chi2, p, dof, expected)"
   ]
  },
  {
   "cell_type": "code",
   "execution_count": 4,
   "metadata": {
    "collapsed": false,
    "scrolled": true
   },
   "outputs": [
    {
     "data": {
      "text/plain": [
       "((8.0090903057107159,\n",
       "  0.018232580410070073,\n",
       "  2,\n",
       "  array([[ 35.52      ,  49.82666667,  62.65333333],\n",
       "         [ 36.48      ,  51.17333333,  64.34666667]])),\n",
       " '',\n",
       " (8.0090903057107159,\n",
       "  0.018232580410070032,\n",
       "  2,\n",
       "  array([[ 35.52      ,  49.82666667,  62.65333333],\n",
       "         [ 36.48      ,  51.17333333,  64.34666667]])))"
      ]
     },
     "execution_count": 4,
     "metadata": {},
     "output_type": "execute_result"
    }
   ],
   "source": [
    "(\n",
    "    scipy.stats.chi2_contingency(observed),\n",
    "    \"\",\n",
    "    my_chi2_contingency(observed),\n",
    ")"
   ]
  },
  {
   "cell_type": "code",
   "execution_count": 5,
   "metadata": {
    "collapsed": true
   },
   "outputs": [],
   "source": [
    "def cramers_v(observed):\n",
    "    chi2, _, _, _ = my_chi2_contingency(observed)\n",
    "    n = observed.sum()\n",
    "    return np.sqrt(chi2 / (n * (min(observed.shape) - 1)))"
   ]
  },
  {
   "cell_type": "code",
   "execution_count": 6,
   "metadata": {
    "collapsed": false
   },
   "outputs": [
    {
     "data": {
      "text/plain": [
       "(0.0, 1.0)"
      ]
     },
     "execution_count": 6,
     "metadata": {},
     "output_type": "execute_result"
    }
   ],
   "source": [
    "(\n",
    "    cramers_v(np.array([\n",
    "        [34, 61, 53],\n",
    "        [34, 61, 53],\n",
    "    ])),\n",
    "    cramers_v(np.array([\n",
    "        [34, 61, 0],\n",
    "        [0, 0, 53],\n",
    "    ]))\n",
    ")"
   ]
  },
  {
   "cell_type": "code",
   "execution_count": 7,
   "metadata": {
    "collapsed": true
   },
   "outputs": [],
   "source": [
    "def cramers_v_list(mesh_a1, mesh_a2):\n",
    "    a1 = mesh_a1.flatten()\n",
    "    a2 = mesh_a2.flatten()\n",
    "    b = np.c_[a1, a2, 100 - a1, 100 - a2]\n",
    "    return np.apply_along_axis(\n",
    "        lambda x: cramers_v(x.reshape(2, 2, order=\"F\")), \n",
    "        axis=1, arr=b\n",
    "    )\n"
   ]
  },
  {
   "cell_type": "code",
   "execution_count": 8,
   "metadata": {
    "collapsed": false,
    "scrolled": true
   },
   "outputs": [
    {
     "data": {
      "text/plain": [
       "(-5, 105)"
      ]
     },
     "execution_count": 8,
     "metadata": {},
     "output_type": "execute_result"
    },
    {
     "data": {
      "image/png": "[encoded data removed]",
      "text/plain": [
       "<matplotlib.figure.Figure at 0x10a2b09e8>"
      ]
     },
     "metadata": {},
     "output_type": "display_data"
    }
   ],
   "source": [
    "a = np.arange(0, 100 + 1)\n",
    "mesh_a1, mesh_a2 = np.meshgrid(a, a)\n",
    "quad_contour_set = plt.contour(mesh_a1, mesh_a2,\n",
    "                                           cramers_v_list(mesh_a1, mesh_a2).reshape(mesh_a1.shape))\n",
    "\n",
    "plt.colorbar(quad_contour_set, )\n",
    "plt.xlim((-5, 105))\n",
    "plt.ylim((-5, 105))"
   ]
  },
  {
   "cell_type": "code",
   "execution_count": null,
   "metadata": {
    "collapsed": false
   },
   "outputs": [],
   "source": []
  }
 ],
 "metadata": {
  "kernelspec": {
   "display_name": "Python [default]",
   "language": "python",
   "name": "python3"
  },
  "language_info": {
   "codemirror_mode": {
    "name": "ipython",
    "version": 3
   },
   "file_extension": ".py",
   "mimetype": "text/x-python",
   "name": "python",
   "nbconvert_exporter": "python",
   "pygments_lexer": "ipython3",
   "version": "3.5.2"
  }
 },
 "nbformat": 4,
 "nbformat_minor": 2
}
