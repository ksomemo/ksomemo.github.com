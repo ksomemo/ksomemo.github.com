{
 "cells": [
  {
   "cell_type": "markdown",
   "metadata": {},
   "source": [
    "# interactive"
   ]
  },
  {
   "cell_type": "code",
   "execution_count": 1,
   "metadata": {
    "ExecuteTime": {
     "end_time": "2016-05-27T01:46:51.436524",
     "start_time": "2016-05-27T01:46:49.027851"
    },
    "collapsed": true,
    "slideshow": {
     "slide_type": "slide"
    }
   },
   "outputs": [],
   "source": [
    "import pandas as pd\n",
    "import scipy as sp\n",
    "import seaborn as sns\n",
    "\n",
    "%matplotlib inline"
   ]
  },
  {
   "cell_type": "markdown",
   "metadata": {},
   "source": [
    "- http://qiita.com/tanemaki/items/e965cd9c25acbeed860c\n",
    "- http://qiita.com/y__sama/items/654ed8ab7464718876f"
   ]
  },
  {
   "cell_type": "markdown",
   "metadata": {
    "slideshow": {
     "slide_type": "slide"
    }
   },
   "source": [
    "- conda install pivottablejs\n",
    "- conda install ipywidgets\n",
    "- https://github.com/damianavila/RISE\n",
    "\n",
    "```bash\n",
    "mkdir -p ~/.local/share/jupyter/nbextensions && cd $_\n",
    "git clone git@github.com:damianavila/RISE.git && cd RISE\n",
    "python setup.py install\n",
    "```\n"
   ]
  },
  {
   "cell_type": "code",
   "execution_count": 2,
   "metadata": {
    "ExecuteTime": {
     "end_time": "2016-05-27T01:46:51.483634",
     "start_time": "2016-05-27T01:46:51.438486"
    },
    "collapsed": true
   },
   "outputs": [],
   "source": [
    "import bokeh\n",
    "import ipywidgets\n",
    "import pivottablejs\n",
    "\n",
    "import matplotlib.pyplot as plt\n",
    "import seaborn as sns\n",
    "%matplotlib inline\n",
    "\n",
    "iris = sns.load_dataset(\"iris\")"
   ]
  },
  {
   "cell_type": "code",
   "execution_count": 3,
   "metadata": {
    "ExecuteTime": {
     "end_time": "2016-05-27T01:46:51.503027",
     "start_time": "2016-05-27T01:46:51.486245"
    },
    "collapsed": false
   },
   "outputs": [
    {
     "data": {
      "text/plain": [
       "['Accordion',\n",
       " 'BoundedFloatText',\n",
       " 'BoundedIntText',\n",
       " 'Box',\n",
       " 'Button',\n",
       " 'CallbackDispatcher',\n",
       " 'Checkbox',\n",
       " 'Color',\n",
       " 'ColorPicker',\n",
       " 'CommInfo',\n",
       " 'Controller',\n",
       " 'DOMWidget',\n",
       " 'Dropdown',\n",
       " 'EventfulDict',\n",
       " 'EventfulList',\n",
       " 'FlexBox',\n",
       " 'FloatProgress',\n",
       " 'FloatRangeSlider',\n",
       " 'FloatSlider',\n",
       " 'FloatText',\n",
       " 'HBox',\n",
       " 'HTML',\n",
       " 'Image',\n",
       " 'IntProgress',\n",
       " 'IntRangeSlider',\n",
       " 'IntSlider',\n",
       " 'IntText',\n",
       " 'Latex',\n",
       " 'Output',\n",
       " 'PlaceProxy',\n",
       " 'Proxy',\n",
       " 'RadioButtons',\n",
       " 'Select',\n",
       " 'SelectMultiple',\n",
       " 'Tab',\n",
       " 'Text',\n",
       " 'Textarea',\n",
       " 'ToggleButton',\n",
       " 'ToggleButtons',\n",
       " 'VBox',\n",
       " 'Valid',\n",
       " 'Widget']"
      ]
     },
     "execution_count": 3,
     "metadata": {},
     "output_type": "execute_result"
    }
   ],
   "source": [
    "import string\n",
    "\n",
    "[w for w in dir(ipywidgets) if w[0] in string.ascii_uppercase]"
   ]
  },
  {
   "cell_type": "code",
   "execution_count": 4,
   "metadata": {
    "ExecuteTime": {
     "end_time": "2016-05-27T01:46:51.532647",
     "start_time": "2016-05-27T01:46:51.506836"
    },
    "collapsed": false
   },
   "outputs": [],
   "source": [
    "ipywidgets.Checkbox()"
   ]
  },
  {
   "cell_type": "code",
   "execution_count": 5,
   "metadata": {
    "ExecuteTime": {
     "end_time": "2016-05-27T01:46:52.190790",
     "start_time": "2016-05-27T01:46:51.535916"
    },
    "collapsed": false,
    "scrolled": false
   },
   "outputs": [
    {
     "name": "stdout",
     "output_type": "stream",
     "text": [
      "a = 10\n",
      "b = 5.0\n",
      "check = True\n"
     ]
    },
    {
     "data": {
      "image/png": "[encoded data removed]",
      "text/plain": [
       "<matplotlib.figure.Figure at 0x119dded30>"
      ]
     },
     "metadata": {},
     "output_type": "display_data"
    }
   ],
   "source": [
    "@ipywidgets.interact(\n",
    "    a=(-10, 10, 1),\n",
    "    b={'a': 1, 'b': 2.0, 'c': 5.0},\n",
    "    check=True,\n",
    ")\n",
    "def plot_linear_func(a=10, b=1, check=False):\n",
    "    print(\"a =\", a)\n",
    "    print(\"b =\", b)\n",
    "    print(\"check =\", check)\n",
    "    \n",
    "    x = pd.Series(range(10))\n",
    "    y = a * x + check * b\n",
    "    plt.plot(y)"
   ]
  },
  {
   "cell_type": "code",
   "execution_count": 6,
   "metadata": {
    "ExecuteTime": {
     "end_time": "2016-05-27T01:46:52.206393",
     "start_time": "2016-05-27T01:46:52.194031"
    },
    "collapsed": false,
    "scrolled": false
   },
   "outputs": [
    {
     "data": {
      "text/html": [
       "\n",
       "        <iframe\n",
       "            width=\"100%\"\n",
       "            height=\"500\"\n",
       "            src=\"pivottablejs.html\"\n",
       "            frameborder=\"0\"\n",
       "            allowfullscreen\n",
       "        ></iframe>\n",
       "        "
      ],
      "text/plain": [
       "<IPython.lib.display.IFrame at 0x104491f98>"
      ]
     },
     "execution_count": 6,
     "metadata": {},
     "output_type": "execute_result"
    }
   ],
   "source": [
    "pivottablejs.pivot_ui(iris)"
   ]
  }
 ],
 "metadata": {
  "_draft": {
   "nbviewer_url": "https://gist.github.com/9c89d0f6764276c7ebd3"
  },
  "celltoolbar": "Slideshow",
  "gist": {
   "data": {
    "description": "transform.ipynb",
    "public": true
   },
   "id": "9c89d0f6764276c7ebd3"
  },
  "hide_input": false,
  "kernelspec": {
   "display_name": "Python [default]",
   "language": "python",
   "name": "python3"
  },
  "language_info": {
   "codemirror_mode": {
    "name": "ipython",
    "version": 3
   },
   "file_extension": ".py",
   "mimetype": "text/x-python",
   "name": "python",
   "nbconvert_exporter": "python",
   "pygments_lexer": "ipython3",
   "version": "3.5.2"
  },
  "toc": {
   "toc_cell": false,
   "toc_number_sections": true,
   "toc_threshold": 6,
   "toc_window_display": false
  }
 },
 "nbformat": 4,
 "nbformat_minor": 0
}
