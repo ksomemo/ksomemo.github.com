{
 "cells": [
  {
   "cell_type": "code",
   "execution_count": 2,
   "metadata": {
    "ExecuteTime": {
     "end_time": "2016-05-22T05:58:28.819971",
     "start_time": "2016-05-22T05:58:28.814905"
    },
    "collapsed": false
   },
   "outputs": [
    {
     "data": {
      "text/plain": [
       "' This simple code is desinged to teach a basic user to read in the files in python, simply find what proportion of males and females survived and make a predictive model based on this\\nAuthor : AstroDave\\nDate : 18 September 2012\\nRevised: 28 March 2014\\n\\n'"
      ]
     },
     "execution_count": 2,
     "metadata": {},
     "output_type": "execute_result"
    }
   ],
   "source": [
    "\"\"\" This simple code is desinged to teach a basic user to read in the files in python, simply find what proportion of males and females survived and make a predictive model based on this\n",
    "Author : AstroDave\n",
    "Date : 18 September 2012\n",
    "Revised: 28 March 2014\n",
    "\n",
    "\"\"\""
   ]
  },
  {
   "cell_type": "code",
   "execution_count": 3,
   "metadata": {
    "ExecuteTime": {
     "end_time": "2016-05-22T06:00:21.629127",
     "start_time": "2016-05-22T06:00:21.160648"
    },
    "collapsed": true
   },
   "outputs": [],
   "source": [
    "import csv as csv\n",
    "import numpy as np\n"
   ]
  },
  {
   "cell_type": "code",
   "execution_count": 10,
   "metadata": {
    "ExecuteTime": {
     "end_time": "2016-05-22T06:04:37.123808",
     "start_time": "2016-05-22T06:04:37.101772"
    },
    "collapsed": false
   },
   "outputs": [
    {
     "data": {
      "text/plain": [
       "(['PassengerId',\n",
       "  'Survived',\n",
       "  'Pclass',\n",
       "  'Name',\n",
       "  'Sex',\n",
       "  'Age',\n",
       "  'SibSp',\n",
       "  'Parch',\n",
       "  'Ticket',\n",
       "  'Fare',\n",
       "  'Cabin',\n",
       "  'Embarked'],\n",
       " array([['1', '0', '3', ..., '7.25', '', 'S'],\n",
       "        ['2', '1', '1', ..., '71.2833', 'C85', 'C'],\n",
       "        ['3', '1', '3', ..., '7.925', '', 'S'],\n",
       "        ..., \n",
       "        ['889', '0', '3', ..., '23.45', '', 'S'],\n",
       "        ['890', '1', '1', ..., '30', 'C148', 'C'],\n",
       "        ['891', '0', '3', ..., '7.75', '', 'Q']], \n",
       "       dtype='<U82'))"
      ]
     },
     "execution_count": 10,
     "metadata": {},
     "output_type": "execute_result"
    }
   ],
   "source": [
    "# Load in the csv file\n",
    "csv_file_object = csv.reader(open('train.csv', 'r')) \n",
    "# Skip the fist line as it is a header\n",
    "header = next(csv_file_object)\n",
    "# Create a variable to hold the data\n",
    "data = []\n",
    "\n",
    "# Skip through each row in the csv file,\n",
    "for row in csv_file_object:\n",
    "    # adding each row to the data variable\n",
    "    data.append(row[0:])\n",
    "# Then convert from a list to an array.\n",
    "data = np.array(data)\n",
    "\n",
    "header, data"
   ]
  },
  {
   "cell_type": "code",
   "execution_count": 11,
   "metadata": {
    "ExecuteTime": {
     "end_time": "2016-05-22T06:05:24.783223",
     "start_time": "2016-05-22T06:05:24.768944"
    },
    "collapsed": true
   },
   "outputs": [],
   "source": [
    "# Now I have an array of 12 columns and 891 rows\n",
    "# I can access any element I want, so the entire first column would\n",
    "# be data[0::,0].astype(np.float) -- This means all of the rows (from start to end), in column 0\n",
    "# I have to add the .astype() command, because\n",
    "# when appending the rows, python thought it was a string - so needed to convert\n",
    "\n",
    "# Set some variables\n",
    "number_passengers = np.size(data[0::,1].astype(np.float))\n",
    "number_survived = np.sum(data[0::,1].astype(np.float))\n",
    "proportion_survivors = number_survived / number_passengers"
   ]
  },
  {
   "cell_type": "code",
   "execution_count": 12,
   "metadata": {
    "ExecuteTime": {
     "end_time": "2016-05-22T06:05:26.448213",
     "start_time": "2016-05-22T06:05:26.442324"
    },
    "collapsed": false
   },
   "outputs": [
    {
     "data": {
      "text/plain": [
       "891"
      ]
     },
     "execution_count": 12,
     "metadata": {},
     "output_type": "execute_result"
    }
   ],
   "source": [
    "number_passengers"
   ]
  },
  {
   "cell_type": "code",
   "execution_count": 13,
   "metadata": {
    "ExecuteTime": {
     "end_time": "2016-05-22T06:05:28.350125",
     "start_time": "2016-05-22T06:05:28.343473"
    },
    "collapsed": false
   },
   "outputs": [
    {
     "data": {
      "text/plain": [
       "342.0"
      ]
     },
     "execution_count": 13,
     "metadata": {},
     "output_type": "execute_result"
    }
   ],
   "source": [
    "number_survived"
   ]
  },
  {
   "cell_type": "code",
   "execution_count": 14,
   "metadata": {
    "ExecuteTime": {
     "end_time": "2016-05-22T06:05:30.588957",
     "start_time": "2016-05-22T06:05:30.583997"
    },
    "collapsed": false
   },
   "outputs": [
    {
     "data": {
      "text/plain": [
       "0.38383838383838381"
      ]
     },
     "execution_count": 14,
     "metadata": {},
     "output_type": "execute_result"
    }
   ],
   "source": [
    "proportion_survivors"
   ]
  },
  {
   "cell_type": "code",
   "execution_count": 17,
   "metadata": {
    "ExecuteTime": {
     "end_time": "2016-05-22T06:06:34.476744",
     "start_time": "2016-05-22T06:06:34.469409"
    },
    "collapsed": true
   },
   "outputs": [],
   "source": [
    "# I can now find the stats of all the women on board,\n",
    "# by making an array that lists True/False whether each row is female\n",
    "women_only_stats = data[0::,4] == \"female\" \t# This finds where all the women are\n",
    "men_only_stats = data[0::,4] != \"female\" \t# This finds where all the men are (note != means 'not equal')\n"
   ]
  },
  {
   "cell_type": "code",
   "execution_count": 20,
   "metadata": {
    "ExecuteTime": {
     "end_time": "2016-05-22T06:06:54.247389",
     "start_time": "2016-05-22T06:06:54.241507"
    },
    "collapsed": false
   },
   "outputs": [
    {
     "data": {
      "text/plain": [
       "array([False,  True,  True,  True, False], dtype=bool)"
      ]
     },
     "execution_count": 20,
     "metadata": {},
     "output_type": "execute_result"
    }
   ],
   "source": [
    "women_only_stats[:5]"
   ]
  },
  {
   "cell_type": "code",
   "execution_count": 21,
   "metadata": {
    "ExecuteTime": {
     "end_time": "2016-05-22T06:06:58.840832",
     "start_time": "2016-05-22T06:06:58.835475"
    },
    "collapsed": false
   },
   "outputs": [
    {
     "data": {
      "text/plain": [
       "array([ True, False, False, False,  True], dtype=bool)"
      ]
     },
     "execution_count": 21,
     "metadata": {},
     "output_type": "execute_result"
    }
   ],
   "source": [
    "men_only_stats[:5]"
   ]
  },
  {
   "cell_type": "code",
   "execution_count": 23,
   "metadata": {
    "ExecuteTime": {
     "end_time": "2016-05-22T06:07:11.353428",
     "start_time": "2016-05-22T06:07:11.344960"
    },
    "collapsed": true
   },
   "outputs": [],
   "source": [
    "# I can now filter the whole data, to find statistics for just women, by just placing\n",
    "# women_only_stats as a \"mask\" on my full data -- Use it in place of the '0::' part of the array index. \n",
    "# You can test it by placing it there, and requesting column index [4], and the output should all read 'female'\n",
    "# e.g. try typing this:   data[women_only_stats,4]\n",
    "women_onboard = data[women_only_stats,1].astype(np.float)\n",
    "men_onboard = data[men_only_stats,1].astype(np.float)\n"
   ]
  },
  {
   "cell_type": "code",
   "execution_count": 25,
   "metadata": {
    "ExecuteTime": {
     "end_time": "2016-05-22T06:07:17.167591",
     "start_time": "2016-05-22T06:07:17.162054"
    },
    "collapsed": false
   },
   "outputs": [
    {
     "data": {
      "text/plain": [
       "array([ 1.,  1.,  1.,  1.,  1.])"
      ]
     },
     "execution_count": 25,
     "metadata": {},
     "output_type": "execute_result"
    }
   ],
   "source": [
    "women_onboard[:5]"
   ]
  },
  {
   "cell_type": "code",
   "execution_count": 26,
   "metadata": {
    "ExecuteTime": {
     "end_time": "2016-05-22T06:07:22.487384",
     "start_time": "2016-05-22T06:07:22.481889"
    },
    "collapsed": false
   },
   "outputs": [
    {
     "data": {
      "text/plain": [
       "array([ 0.,  0.,  0.,  0.,  0.])"
      ]
     },
     "execution_count": 26,
     "metadata": {},
     "output_type": "execute_result"
    }
   ],
   "source": [
    "men_onboard[:5]"
   ]
  },
  {
   "cell_type": "code",
   "execution_count": 28,
   "metadata": {
    "ExecuteTime": {
     "end_time": "2016-05-22T06:07:45.393630",
     "start_time": "2016-05-22T06:07:45.386601"
    },
    "collapsed": false
   },
   "outputs": [
    {
     "name": "stdout",
     "output_type": "stream",
     "text": [
      "Proportion of women who survived is 0.742038216561\n",
      "Proportion of men who survived is 0.188908145581\n"
     ]
    }
   ],
   "source": [
    "# and derive some statistics about them\n",
    "proportion_women_survived = np.sum(women_onboard) / np.size(women_onboard)\n",
    "proportion_men_survived = np.sum(men_onboard) / np.size(men_onboard)\n",
    "\n",
    "print('Proportion of women who survived is %s' % proportion_women_survived)\n",
    "print('Proportion of men who survived is %s' % proportion_men_survived)\n"
   ]
  },
  {
   "cell_type": "code",
   "execution_count": 29,
   "metadata": {
    "ExecuteTime": {
     "end_time": "2016-05-22T06:08:22.399112",
     "start_time": "2016-05-22T06:08:22.388120"
    },
    "collapsed": false
   },
   "outputs": [
    {
     "data": {
      "text/plain": [
       "['PassengerId',\n",
       " 'Pclass',\n",
       " 'Name',\n",
       " 'Sex',\n",
       " 'Age',\n",
       " 'SibSp',\n",
       " 'Parch',\n",
       " 'Ticket',\n",
       " 'Fare',\n",
       " 'Cabin',\n",
       " 'Embarked']"
      ]
     },
     "execution_count": 29,
     "metadata": {},
     "output_type": "execute_result"
    }
   ],
   "source": [
    "# Now that I have my indicator that women were much more likely to survive,\n",
    "# I am done with the training set.\n",
    "# Now I will read in the test file and write out my simplistic prediction:\n",
    "# if female, then model that she survived (1) \n",
    "# if male, then model that he did not survive (0)\n",
    "\n",
    "# First, read in test.csv\n",
    "test_file = open('test.csv', 'r')\n",
    "test_file_object = csv.reader(test_file)\n",
    "header = next(test_file_object)\n",
    "header"
   ]
  },
  {
   "cell_type": "code",
   "execution_count": 31,
   "metadata": {
    "ExecuteTime": {
     "end_time": "2016-05-22T06:10:35.866487",
     "start_time": "2016-05-22T06:10:35.847971"
    },
    "collapsed": false
   },
   "outputs": [],
   "source": [
    "# Also open the a new file so I can write to it. Call it something descriptive\n",
    "# Finally, loop through each row in the train file, and look in column index [3] (which is 'Sex')\n",
    "# Write out the PassengerId, and my prediction.\n",
    "\n",
    "predictions_file = open(\"gendermodel.csv\", \"w\")\n",
    "predictions_file_object = csv.writer(predictions_file)\n",
    "predictions_file_object.writerow([\"PassengerId\", \"Survived\"])\t# write the column headers\n",
    "# For each row in test file,\n",
    "for row in test_file_object:\n",
    "    if row[3] == 'female':\n",
    "        # is it a female, if yes then\n",
    "        # write the PassengerId, and predict 1\n",
    "        predictions_file_object.writerow([row[0], \"1\"])\n",
    "    else:\n",
    "        # or else if male,\n",
    "        # write the PassengerId, and predict 0.\n",
    "        predictions_file_object.writerow([row[0], \"0\"])\n",
    "\n",
    "# Close out the files.\n",
    "test_file.close()\n",
    "predictions_file.close()\n"
   ]
  }
 ],
 "metadata": {
  "hide_input": false,
  "kernelspec": {
   "display_name": "Python 3",
   "language": "python",
   "name": "python3"
  },
  "language_info": {
   "codemirror_mode": {
    "name": "ipython",
    "version": 3
   },
   "file_extension": ".py",
   "mimetype": "text/x-python",
   "name": "python",
   "nbconvert_exporter": "python",
   "pygments_lexer": "ipython3",
   "version": "3.5.1"
  },
  "toc": {
   "toc_cell": false,
   "toc_number_sections": true,
   "toc_threshold": 6,
   "toc_window_display": false
  }
 },
 "nbformat": 4,
 "nbformat_minor": 0
}
